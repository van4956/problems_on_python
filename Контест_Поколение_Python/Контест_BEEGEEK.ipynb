{
  "nbformat": 4,
  "nbformat_minor": 0,
  "metadata": {
    "colab": {
      "name": "Контест BEEGEEK.ipynb",
      "provenance": [],
      "collapsed_sections": [
        "HTT3J9Aorq9t",
        "LKjgAvr7LD58",
        "MHG_zgMpNcWN",
        "4ov5DbP3c6k7",
        "NgNL-Bc4u94I",
        "i77-LOTVgtmC",
        "rDTdKmEi-jdI",
        "FTdJxdkgMimS",
        "ftXFn4v1ajaH",
        "4VXy6aVDwcb9",
        "MJ08rBPyVdQ-",
        "z0f38uzOXXrA",
        "X3FShPw3vI-X",
        "w_9NXYjKiqbT",
        "J38MHeWumpsb",
        "Bd6gpd1k7YX-",
        "m6lRcT3R9ZD2",
        "9aZXXpiZPh5z",
        "UWpr0KQIXyzL",
        "2tTYPUsU-ox7"
      ]
    },
    "kernelspec": {
      "name": "python3",
      "display_name": "Python 3"
    },
    "language_info": {
      "name": "python"
    }
  },
  "cells": [
    {
      "cell_type": "markdown",
      "metadata": {
        "id": "vUqiTJP-ri4z"
      },
      "source": [
        "# Контесты для учеников проекта \"Поколение Python\"\n",
        "(21 задача)\n"
      ]
    },
    {
      "cell_type": "markdown",
      "metadata": {
        "id": "YZq1WnU35ZVV"
      },
      "source": [
        "**\"Поколение Python\": контест для проверки знаний**  \n",
        "*(Школа BEEGEEK)*\n",
        "\n",
        "Онлайн-курс на Stepik.org  \n",
        "пройден на 100%"
      ]
    },
    {
      "cell_type": "code",
      "metadata": {
        "id": "91B2Lz0Vrljr"
      },
      "source": [
        "import pandas as pd"
      ],
      "execution_count": null,
      "outputs": []
    },
    {
      "cell_type": "markdown",
      "metadata": {
        "id": "HTT3J9Aorq9t"
      },
      "source": [
        "## I. Числа и условия"
      ]
    },
    {
      "cell_type": "markdown",
      "metadata": {
        "id": "QNTo5eMDromu"
      },
      "source": [
        "### 1. Соседние цифры  \n",
        "    \n",
        "Напишите программу, которая определяет, содержит ли пятизначное число две одинаковые цифры, стоящие рядом.  \n",
        "\n"
      ]
    },
    {
      "cell_type": "markdown",
      "metadata": {
        "id": "4pGwcFItOLuC"
      },
      "source": [
        "\n",
        "**Формат входных данных**  \n",
        "На вход программе подается пятизначное натуральное число.   \n",
        "  \n",
        "**Формат выходных данных**  \n",
        "Программа должна вывести `YES`, если число содержит две одинаковые цифры, стоящие рядом и `NO` в противном случае.c"
      ]
    },
    {
      "cell_type": "code",
      "metadata": {
        "colab": {
          "base_uri": "https://localhost:8080/"
        },
        "id": "RAKEUZc_sD7x",
        "outputId": "28858611-6e62-4632-8ef7-e6eba581b2e9"
      },
      "source": [
        "x = input()\n",
        "z = 'NO'\n",
        "for i in range(len(x) - 1):\n",
        "  if x[i] == x[i+1]:\n",
        "    z = 'YES' \n",
        "    break\n",
        "print(z)\n"
      ],
      "execution_count": null,
      "outputs": [
        {
          "output_type": "stream",
          "text": [
            "25598\n",
            "YES\n"
          ],
          "name": "stdout"
        }
      ]
    },
    {
      "cell_type": "markdown",
      "metadata": {
        "id": "puvDCUnaubhh"
      },
      "source": [
        "### 2. Хорошая тройка чисел  \n",
        "\n",
        "Назовем тройку чисел хорошей, если среди них есть хотя бы одно четное и хотя бы одно нечетное число.\n",
        "  \n",
        "Напишите программу, которая определяет является ли тройка чисел хорошей или нет.   \n",
        "\n",
        "\n"
      ]
    },
    {
      "cell_type": "markdown",
      "metadata": {
        "id": "NjFoSS7vOXlB"
      },
      "source": [
        "**Формат входных данных**   \n",
        "На вход программе подается три целых числа, каждое на отдельной строке.\n",
        "  \n",
        "**Формат выходных данных**  \n",
        "Программа должна вывести `YES`, если тройка чисел является хорошей и `NO` в противном случае.  "
      ]
    },
    {
      "cell_type": "code",
      "metadata": {
        "id": "P6JQcX3mvTeP",
        "colab": {
          "base_uri": "https://localhost:8080/"
        },
        "outputId": "c5fef29e-afaa-460c-c2d2-54935e127287"
      },
      "source": [
        "abc = []\n",
        "abc.append(int(input()))\n",
        "abc.append(int(input()))\n",
        "abc.append(int(input()))\n",
        "x1 = False\n",
        "x2 = False\n",
        "\n",
        "for i in abc:\n",
        "  if i % 2 == 1:\n",
        "    x1 = True\n",
        "  elif i % 2 == 0:\n",
        "    x2 = True\n",
        "    \n",
        "if x1 == True and x2 == True:\n",
        "  print('YES')\n",
        "else:\n",
        "  print('NO')            "
      ],
      "execution_count": null,
      "outputs": [
        {
          "output_type": "stream",
          "text": [
            "1\n",
            "5\n",
            "8\n",
            "YES\n"
          ],
          "name": "stdout"
        }
      ]
    },
    {
      "cell_type": "markdown",
      "metadata": {
        "id": "ThjAE8G4luwU"
      },
      "source": [
        "### 3. Звонок на перемену  \n",
        "  \n",
        "Продолжительность каждого урока в онлайн-школе BEEGEEK 45 минут, а перемены между уроками – 5 минут. Первый урок начинается ровно в 8 часов утра. Напишите программу, определяющую во сколько заканчивается *n*-ый урок?  \n",
        "\n"
      ]
    },
    {
      "cell_type": "markdown",
      "metadata": {
        "id": "cadl-qCqOteU"
      },
      "source": [
        "**Формат входных данных**  \n",
        "На вход программе подается натуральное число n(n≤15) – номер урока.  \n",
        "  \n",
        "**Формат выходных данных**\n",
        "Программа должна вывести два числа разделенные один пробелом – время в которое заканчивается n-ый урок."
      ]
    },
    {
      "cell_type": "code",
      "metadata": {
        "colab": {
          "base_uri": "https://localhost:8080/"
        },
        "id": "c8pOzoU-mTRn",
        "outputId": "5cf39d14-6c68-46f9-875c-94a3501cd759"
      },
      "source": [
        "hour = 8\n",
        "minut = 0\n",
        "\n",
        "step = 45\n",
        "lanch = 5\n",
        "\n",
        "x = int(input())\n",
        "c = x\n",
        "for i in range(1,x+1):\n",
        "  minut = minut + step\n",
        "  if minut >= 60:\n",
        "    minut = minut - 60\n",
        "    hour += 1\n",
        "  c -= 1\n",
        "  if c == 0:\n",
        "    print(hour, minut)\n",
        "  minut += lanch\n"
      ],
      "execution_count": null,
      "outputs": [
        {
          "output_type": "stream",
          "text": [
            "5\n",
            "12 5\n"
          ],
          "name": "stdout"
        }
      ]
    },
    {
      "cell_type": "markdown",
      "metadata": {
        "id": "TkxBjj7NwoyM"
      },
      "source": [
        "### 4. Тарифный план  \n",
        "  \n",
        "Тимур подключен к интернету по следующему тарифному плану: ежемесячная абонентская плата составляет *a* рублей, и в эту абонентскую плату включено *b* мегабайт трафика. Неизрасходованные мегабайты в конце месяца «сгорают». Если трафик превышает *b* мегабайт, то каждый мегабайт трафика сверх предоплаченных стоит *c* рублей.\n",
        "\n",
        "Известно, что за прошлый месяц Тимур израсходовал *d* мегабайт трафика. Напишите программу, которая определяет во сколько обошелся ему доступ в интернет в прошлом месяце (считайте в том числе и абонентскую плату)?  \n",
        "  \n",
        "\n"
      ]
    },
    {
      "cell_type": "markdown",
      "metadata": {
        "id": "Q5kB-ILEO4iJ"
      },
      "source": [
        "**Формат входных данных**  \n",
        "На вход программе подаются четыре натуральных числа в следующем порядке: *a* – размер абонентской платы, *b* – предоставляемый трафик, *c* – цена каждого мегабайта трафика и *d* – израсходованные мегабайты. Каждое число подается на отдельной строке.  \n",
        "  \n",
        "**Формат выходных данных**  \n",
        "Программа должна вывести одно число — сумму, которую Тимур должен заплатить за интернет."
      ]
    },
    {
      "cell_type": "code",
      "metadata": {
        "colab": {
          "base_uri": "https://localhost:8080/"
        },
        "id": "qmi8188bmTav",
        "outputId": "650e0554-e946-46e3-8c0a-0791d12e766c"
      },
      "source": [
        "a, b, c, d = int(input()), int(input()), int(input()), int(input())\n",
        "\n",
        "if d > b:\n",
        "  z = a + (d - b)*c\n",
        "else:\n",
        "  z = a\n",
        "print(z)    "
      ],
      "execution_count": null,
      "outputs": [
        {
          "output_type": "stream",
          "text": [
            "50\n",
            "15\n",
            "25\n",
            "75\n",
            "1550\n"
          ],
          "name": "stdout"
        }
      ]
    },
    {
      "cell_type": "markdown",
      "metadata": {
        "id": "LKjgAvr7LD58"
      },
      "source": [
        "### 5. Milka  \n",
        "  \n",
        "На вход программе подаются натуральные числа `n`, `m` и `k`. Напишите программу, которая будет определять, можно ли от шоколадки размером  `n`×`m` долек отломить `k` долек, если разрешается сделать один разлом по прямой между дольками (то есть разломить шоколадку на два прямоугольника).  \n",
        "\n",
        "\n"
      ]
    },
    {
      "cell_type": "markdown",
      "metadata": {
        "id": "ar6vKqD8O-Il"
      },
      "source": [
        "  \n",
        "**Формат входных данных**  \n",
        "На вход программе подается три натуральных числа:  `n`, `m` и `k`, каждое на отдельной строке.  \n",
        "\n",
        "**Формат выходных данных**  \n",
        "Программа должна вывести слово `YES`, если возможно отломить указанное число долек, в противном случае вывести слово `NO`."
      ]
    },
    {
      "cell_type": "code",
      "metadata": {
        "colab": {
          "base_uri": "https://localhost:8080/"
        },
        "id": "RWqYe_T7xMjV",
        "outputId": "16d3f9d0-857b-4d76-bb2a-a48dfd84a656"
      },
      "source": [
        "n, m, k = int(input()), int(input()), int(input())\n",
        "\n",
        "if k < n * m and ( k % n == 0 or k % m == 0 ):\n",
        "  print('YES')\n",
        "else:\n",
        "  print('NO')  "
      ],
      "execution_count": null,
      "outputs": [
        {
          "output_type": "stream",
          "text": [
            "6\n",
            "6\n",
            "6\n",
            "YES\n"
          ],
          "name": "stdout"
        }
      ]
    },
    {
      "cell_type": "markdown",
      "metadata": {
        "id": "MHG_zgMpNcWN"
      },
      "source": [
        "### 6. Потерянная карточка  \n",
        "  \n",
        "Для настольной игры используются карточки с номерами от 1 до `n`. Одна карточка потерялась.\n",
        "\n",
        "Напишите программу, которая выводит номер потерянной карточки. \n",
        "\n",
        "\n"
      ]
    },
    {
      "cell_type": "markdown",
      "metadata": {
        "id": "LWNdxfXKPLkV"
      },
      "source": [
        "\n",
        "**Формат входных данных**  \n",
        "На вход программе подается число `n` и далее `n-1` номеров оставшихся карточек, каждое число на отдельной строке.  \n",
        "\n",
        "**Формат выходных данных**  \n",
        "Программа должна вывести одно число – номер потерянной строки."
      ]
    },
    {
      "cell_type": "code",
      "metadata": {
        "colab": {
          "base_uri": "https://localhost:8080/"
        },
        "id": "wMXDGIyMxMmf",
        "outputId": "1bf5c18e-5dfc-4e9e-c3e6-0009a3565c58"
      },
      "source": [
        "n = int(input())\n",
        "x = []\n",
        "for i in range(n-1):\n",
        "  x.append(int(input()))\n",
        "x = sorted(x)\n",
        "z = 0\n",
        "\n",
        "for i in range(len(x)-1):\n",
        "  if 1 not in x:\n",
        "    z = 1 \n",
        "  elif x[i] + 1 == x[i+1] - 1:\n",
        "    z = x[i] + 1\n",
        "\n",
        "if z == 0:\n",
        "  print(n)  \n",
        "else:\n",
        "  print(z)"
      ],
      "execution_count": null,
      "outputs": [
        {
          "output_type": "stream",
          "text": [
            "3\n",
            "3\n",
            "1\n",
            "2\n"
          ],
          "name": "stdout"
        }
      ]
    },
    {
      "cell_type": "markdown",
      "metadata": {
        "id": "4ov5DbP3c6k7"
      },
      "source": [
        "### 7. Интересная последовательность  \n",
        " \n",
        "Рассмотрим последовательность чисел в которой каждое натуральное число `k` встречается ровно `k` раз:\n",
        "\n",
        "`1, 2, 2, 3, 3, 3, 4, 4, 4, 4, ...`  \n",
        "  \n",
        "Напишите программу, которая по данному натуральному числу `k` выведет первые `k` членов этой последовательности.  "
      ]
    },
    {
      "cell_type": "markdown",
      "metadata": {
        "id": "pJPwbCK9dGjq"
      },
      "source": [
        "**Формат входных данных**  \n",
        "На вход программе подается натурально число `k`.\n",
        "\n",
        "**Формат выходных данных**  \n",
        "Программа должна вывести первые `k` членов последовательности."
      ]
    },
    {
      "cell_type": "code",
      "metadata": {
        "colab": {
          "base_uri": "https://localhost:8080/"
        },
        "id": "fwY_sFH2dPwr",
        "outputId": "e6aa43b7-ee08-4440-ba0a-d0d275e7ff57"
      },
      "source": [
        "k = int(input())\n",
        "x = []\n",
        "\n",
        "for i in range(1,k+1):\n",
        "  for j in range(1,i+1):\n",
        "    x.append(i)\n",
        "\n",
        "for i in range(k):\n",
        "  print(x[i],end=' ')    "
      ],
      "execution_count": null,
      "outputs": [
        {
          "output_type": "stream",
          "text": [
            "15\n",
            "1 2 2 3 3 3 4 4 4 4 5 5 5 5 5 "
          ],
          "name": "stdout"
        }
      ]
    },
    {
      "cell_type": "markdown",
      "metadata": {
        "id": "NgNL-Bc4u94I"
      },
      "source": [
        "## II. Еще пара строк"
      ]
    },
    {
      "cell_type": "markdown",
      "metadata": {
        "id": "i77-LOTVgtmC"
      },
      "source": [
        "### 1. Допустимые номера телефонов  \n",
        "\n",
        "На вход программе подается натуральное число `n`, а затем `n` телефонных номеров, каждый на отдельной строке. Необходимо вывести те номера, которые являются корректными.\n",
        "\n",
        "Корректными номерами будут номера следующих двух форматов: \n",
        "\n",
        "**(xxx) xxx-xxxx**  \n",
        "**xxx-xxx-xxxx**  \n",
        "где `x` – цифра от `0` до `9`."
      ]
    },
    {
      "cell_type": "markdown",
      "metadata": {
        "id": "RBNrwuqUhF1F"
      },
      "source": [
        "**Формат входных данных**  \n",
        "На вход программе подаются натуральное число `n`, а затем `n` строк, каждая на отдельной строке.  \n",
        "  \n",
        "**Формат выходных данных**  \n",
        "Программа должна вывести на экран корректные номера телефонов или вывести строку «All phone numbers are incorrect», если все номера, подающиеся на вход – некорректные."
      ]
    },
    {
      "cell_type": "markdown",
      "metadata": {
        "id": "2QyeIcDV5eUq"
      },
      "source": [
        "3  \n",
        "985-243-2767  \n",
        "334 159 7090  \n",
        "(321) 564-9090  "
      ]
    },
    {
      "cell_type": "code",
      "metadata": {
        "id": "0ZwAHtAAvSOZ",
        "colab": {
          "base_uri": "https://localhost:8080/"
        },
        "outputId": "982c1cb7-3ccd-492c-e270-f356f8be574a"
      },
      "source": [
        "n = int(input())\n",
        "x = []\n",
        "for i in range(n):\n",
        "  x.append(input())\n",
        "\n",
        "correct = []\n",
        "number = [i for i in range(10)]\n",
        "\n",
        "for i in x:\n",
        "  for j in range(len(i)):\n",
        "    if i[0] == '(' and i[4] == ')' and i[5] == ' ' and i[9] == '-':\n",
        "      c = [j for j in i]\n",
        "      c.pop(9)\n",
        "      c.pop(5)\n",
        "      c.pop(4)\n",
        "      c.pop(0)\n",
        "      count = 0\n",
        "      for k in c:\n",
        "        if int(k) in number:\n",
        "          count += 1\n",
        "      if count == 10:\n",
        "        correct.append(i)\n",
        "        break\n",
        "    elif i[3] == '-' and i[7] == '-':\n",
        "      c = [j for j in i]\n",
        "      c.pop(7)\n",
        "      c.pop(3)\n",
        "      count = 0\n",
        "      for k in c: \n",
        "        if int(k) in number:\n",
        "          count += 1\n",
        "      if count == 10:\n",
        "        correct.append(i)   \n",
        "        break      \n",
        "\n",
        "if len(correct) == 0:\n",
        "  print('All phone numbers are incorrect')\n",
        "else:\n",
        "  for g in correct:\n",
        "    print(g)  "
      ],
      "execution_count": null,
      "outputs": [
        {
          "output_type": "stream",
          "text": [
            "1\n",
            "334 159 7090\n",
            "All phone numbers are incorrect\n"
          ],
          "name": "stdout"
        }
      ]
    },
    {
      "cell_type": "markdown",
      "metadata": {
        "id": "rDTdKmEi-jdI"
      },
      "source": [
        "### 2. Перемещение нулей  \n",
        "  \n",
        "На вход программе подается строка, состоящая из чисел, разделенных одним пробелом. Необходимо переместить все числа 0 в конец, сохраняя относительный порядок ненулевых элементов. "
      ]
    },
    {
      "cell_type": "markdown",
      "metadata": {
        "id": "8aRQV7At-tmQ"
      },
      "source": [
        "**Формат входных данных**  \n",
        "На вход программе подается строка, состоящая из целых чисел, разделенных одним пробелом.\n",
        "  \n",
        "**Формат выходных данных**  \n",
        "Программа должна вывести строку в соответствии с условием задачи."
      ]
    },
    {
      "cell_type": "code",
      "metadata": {
        "colab": {
          "base_uri": "https://localhost:8080/"
        },
        "id": "nuphgJvfhUFJ",
        "outputId": "df87871b-3601-4198-d5dc-e7fd55760574"
      },
      "source": [
        "x = [int(i) for i in input().split()]\n",
        "count = 0\n",
        "\n",
        "for i in x:\n",
        "  if i == 0:\n",
        "    count += 1\n",
        "for j in range(count):\n",
        "  x.remove(0)\n",
        "  x.append(0)\n",
        "\n",
        "for i in x:\n",
        "  print(i, end=' ') "
      ],
      "execution_count": null,
      "outputs": [
        {
          "output_type": "stream",
          "text": [
            "0 94 0 3 6 4 0\n",
            "94 3 6 4 0 0 0 "
          ],
          "name": "stdout"
        }
      ]
    },
    {
      "cell_type": "markdown",
      "metadata": {
        "id": "FTdJxdkgMimS"
      },
      "source": [
        "### 3. Несчастливое число  \n",
        "\n",
        "Назовем число несчастливым если его простые множители включают только 2, 3 и 5.\n",
        "  \n",
        "Напишите программу, которая определяет является ли введенное число несчастливым или нет."
      ]
    },
    {
      "cell_type": "markdown",
      "metadata": {
        "id": "MQylEdNsMqzX"
      },
      "source": [
        "**Формат входных данных**  \n",
        "На вход программе подается натуральное число.\n",
        "\n",
        "**Формат выходных данных**  \n",
        "Программа должна вывести `YES`, если число является несчастливым и `NO`, в противном случае."
      ]
    },
    {
      "cell_type": "code",
      "metadata": {
        "colab": {
          "base_uri": "https://localhost:8080/"
        },
        "id": "PUo5kHz5-077",
        "outputId": "3d859c10-fe9d-48f7-c794-54b4992f620c"
      },
      "source": [
        "x = int(input())\n",
        "n = []\n",
        "c= [2, 3, 5]\n",
        "flag = True\n",
        "\n",
        "if x == 1:\n",
        "  flag = False\n",
        "\n",
        "while x > 1:\n",
        "  for j in range(2,10000):\n",
        "    if x % j == 0:\n",
        "      x = x / j\n",
        "      n.append(j)\n",
        "      break\n",
        "\n",
        "for i in n:\n",
        "  if i not in c:\n",
        "    flag = False\n",
        "    break\n",
        "\n",
        "if flag == False:\n",
        "  print('NO')\n",
        "else:\n",
        "  print('YES')  \n"
      ],
      "execution_count": null,
      "outputs": [
        {
          "output_type": "stream",
          "text": [
            "40\n",
            "YES\n"
          ],
          "name": "stdout"
        }
      ]
    },
    {
      "cell_type": "markdown",
      "metadata": {
        "id": "ftXFn4v1ajaH"
      },
      "source": [
        "### 4. Счастливое число  \n",
        "\n",
        "Назовем число счастливым если это число превращается в 1 после нескольких итераций вида:\n",
        "\n",
        " - число заменяется на число, равное сумме квадратов его цифр;\n",
        "\n",
        "Напишите программу, которая определяет является ли введенное число счастливым или нет."
      ]
    },
    {
      "cell_type": "markdown",
      "metadata": {
        "id": "76MoaIz0axix"
      },
      "source": [
        "**Формат входных данных**  \n",
        "На вход программе подается натуральное число `n`.\n",
        "\n",
        "**Формат выходных данных**  \n",
        "Программа должна вывести `YES` если число – счастливое и `NO` в противном случае.\n",
        "\n",
        "**Примечание.**  \n",
        "Не каждое число после нескольких итераций такого вида превратится в 1, так как для некоторых чисел соответствующий цикл будет бесконечным."
      ]
    },
    {
      "cell_type": "code",
      "metadata": {
        "colab": {
          "base_uri": "https://localhost:8080/"
        },
        "id": "q7zviGqFbFeX",
        "outputId": "97092ea9-bea0-49ea-b513-987f7527ff95"
      },
      "source": [
        "n = input()\n",
        "x = 0\n",
        "count = 1\n",
        "\n",
        "while int(n) != 1 and count < 10:\n",
        "  for i in n:\n",
        "    x = x + int(i)*int(i)\n",
        "  n = str(x) \n",
        "  x = 0 \n",
        "  count += 1\n",
        "\n",
        "if int(n) == 1:\n",
        "  print('YES')\n",
        "else:\n",
        "  print('NO')    \n"
      ],
      "execution_count": null,
      "outputs": [
        {
          "output_type": "stream",
          "text": [
            "2568\n",
            "YES\n"
          ],
          "name": "stdout"
        }
      ]
    },
    {
      "cell_type": "markdown",
      "metadata": {
        "id": "4VXy6aVDwcb9"
      },
      "source": [
        "### 5. Подпоследовательность  \n",
        "\n",
        "На вход подаются строки `a` и `b`. \n",
        "  \n",
        "Напишите программу, которая определяет, является ли строка `a` подпоследовательностью строки `b`."
      ]
    },
    {
      "cell_type": "markdown",
      "metadata": {
        "id": "fXYmmAUcwsl2"
      },
      "source": [
        "**Формат входных данных**  \n",
        "На вход программе подаются две строки `a` и `b`, каждая на отдельной строке. \n",
        "\n",
        "**Формат выходных данных**  \n",
        "Программа должна вывести `YES`, если строка `a` является подпоследовательностью строки `b` и `NO` в противном случае.\n",
        "\n",
        "**Примечание.**  \n",
        "Подпоследовательность строки – это строка , которая формируется из исходной строки путем удаления некоторых (хотя бы одного) символов, не нарушая относительного расположения остальных символов. Например, строка `ace` является подпоследовательностью строки `abcde` , а строка `aec` нет."
      ]
    },
    {
      "cell_type": "code",
      "metadata": {
        "colab": {
          "base_uri": "https://localhost:8080/"
        },
        "id": "BogClbU5ws7i",
        "outputId": "97ca1efb-40aa-460b-86ed-2e7de71e0969"
      },
      "source": [
        "a = [i for i in input()]\n",
        "b = [i for i in input()]\n",
        "ind = []\n",
        "flag = True\n",
        "\n",
        "for i in a:\n",
        "  if i in b:\n",
        "    ind.append(b.index(i))\n",
        "  else:\n",
        "    flag = False\n",
        "\n",
        "if len(a) == len(ind):\n",
        "  for i in range(len(ind) - 1):\n",
        "    if ind[i] > ind[i+1]:\n",
        "      flag = False\n",
        "\n",
        "if len(a) == len(b):\n",
        "  flag = False      \n",
        "\n",
        "if flag == True:\n",
        "  print('YES')\n",
        "else:\n",
        "  print('NO')  "
      ],
      "execution_count": null,
      "outputs": [
        {
          "output_type": "stream",
          "text": [
            "123\n",
            "112233\n",
            "YES\n"
          ],
          "name": "stdout"
        }
      ]
    },
    {
      "cell_type": "markdown",
      "metadata": {
        "id": "MJ08rBPyVdQ-"
      },
      "source": [
        "### 6. Найди отличие.  \n",
        "\n",
        "На вход программе подаются строки `a` и `b`. Строка `b` генерируется случайным перемешиванием строки `a` с последующим добавлением символов в произвольных позициях.\n",
        "  \n",
        "Напишите программу, которая вывыводит символы, которые были добавлены к строке `b`."
      ]
    },
    {
      "cell_type": "markdown",
      "metadata": {
        "id": "TaSp9WT-Vtz-"
      },
      "source": [
        "**Формат входных данных**  \n",
        "На вход программе подаются две строки `a` и `b`, каждая на отдельной строке. \n",
        "\n",
        "**Формат выходных данных**  \n",
        "Программа должна вывести те символы (в любом порядке), которые были добавлены в строку `b`, на одной строке без пробелов."
      ]
    },
    {
      "cell_type": "code",
      "metadata": {
        "colab": {
          "base_uri": "https://localhost:8080/"
        },
        "id": "r0OD1s2JV60X",
        "outputId": "fbe43a0d-6707-4540-d558-9ca597a91fbd"
      },
      "source": [
        "a = [i for i in input()]\n",
        "b = [i for i in input()]\n",
        "\n",
        "for i in a:\n",
        "  b.remove(i)\n",
        "\n",
        "for i in b:\n",
        "  print(i,end='')\n"
      ],
      "execution_count": null,
      "outputs": [
        {
          "output_type": "stream",
          "text": [
            "bb\n",
            "bbba\n",
            "ba"
          ],
          "name": "stdout"
        }
      ]
    },
    {
      "cell_type": "markdown",
      "metadata": {
        "id": "z0f38uzOXXrA"
      },
      "source": [
        "### 7. Игра на выбывание  \n",
        "\n",
        "На вход программе подается натуральное число `n`.\n",
        "\n",
        "В последовательности чисел от `1` до `n`, начиная слева направо, удалите первое число, а затем все остальные числа через одно, пока не дойдете до конца списка. Повторите этот процесс еще раз, но на этот раз справа налево, удалите крайнее правое число и все остальные числа через одно из оставшихся чисел. Продолжайте этот процесс, чередуя слева направо и справа налево, пока не останется одно число.\n",
        "  \n",
        "Напишите программу, которая выводит последнее оставшееся число."
      ]
    },
    {
      "cell_type": "markdown",
      "metadata": {
        "id": "22v0zeyiXnjN"
      },
      "source": [
        "**Формат входных данных**  \n",
        "На вход программе подается одно натуральное число `n`.\n",
        "\n",
        "**Формат выходных данных**  \n",
        "Программа должна вывести целое число, в соответствии с условием задачи.\n",
        "\n",
        "**Примечание.**  \n",
        "Пояснение для первого теста:\n",
        "\n",
        "1 2 3 4 5 6 7 8 9 –> `1` 2 `3` 4 `5` 6 `7` 8 `9` –> 2 4 6 8 –> 2 `4` 6 `8` –> 2 6 –> `2` 6 –> 6"
      ]
    },
    {
      "cell_type": "code",
      "metadata": {
        "colab": {
          "base_uri": "https://localhost:8080/"
        },
        "id": "G5BdQs30V7FQ",
        "outputId": "84d01b18-9492-46d0-d26c-0cc0f871e30f"
      },
      "source": [
        "n = [i for i in range(1, int(input())+1)]\n",
        "cor = []\n",
        "count = 1\n",
        "\n",
        "while len(n) != 1:\n",
        "  if count % 2 == 1:\n",
        "    for i in range(0,len(n),2):\n",
        "      cor.append(n[i])\n",
        "    for i in cor:\n",
        "      n.remove(i)  \n",
        "    count += 1\n",
        "    cor = []\n",
        "    continue\n",
        "  elif count % 2 == 0:\n",
        "    for i in range(len(n)-1,-1,-2):\n",
        "      cor.append(n[i])\n",
        "    for i in cor:\n",
        "      n.remove(i) \n",
        "    count += 1\n",
        "    cor = []\n",
        "    continue\n",
        "\n",
        "for i in n:\n",
        "  print(i)\n"
      ],
      "execution_count": null,
      "outputs": [
        {
          "output_type": "stream",
          "text": [
            "15\n",
            "8\n"
          ],
          "name": "stdout"
        }
      ]
    },
    {
      "cell_type": "code",
      "metadata": {
        "colab": {
          "base_uri": "https://localhost:8080/"
        },
        "id": "EIbEOajuhhIG",
        "outputId": "2774afc0-76b9-499c-c304-c75a2933ddf2"
      },
      "source": [
        "cor = [1,2,3,5]\n",
        "cor = []\n",
        "cor"
      ],
      "execution_count": null,
      "outputs": [
        {
          "output_type": "execute_result",
          "data": {
            "text/plain": [
              "[]"
            ]
          },
          "metadata": {
            "tags": []
          },
          "execution_count": 57
        }
      ]
    },
    {
      "cell_type": "markdown",
      "metadata": {
        "id": "X3FShPw3vI-X"
      },
      "source": [
        "## III. Бесконечность не предел"
      ]
    },
    {
      "cell_type": "markdown",
      "metadata": {
        "id": "w_9NXYjKiqbT"
      },
      "source": [
        "### 1. Счастливое число 2 \n",
        "\n",
        "На вход подается строка, состоящая из целых чисел, разделенных пробелами. Назовем число счастливым если его частота появления в строке равна его значению.\n",
        "\n",
        "Напишите программу, которая выводит самое большое счастливое число в заданной строке."
      ]
    },
    {
      "cell_type": "markdown",
      "metadata": {
        "id": "Q5szot6gjC7c"
      },
      "source": [
        "**Формат входных данных**  \n",
        "На вход программе подается строка, которая состоит из целых чисел.\n",
        "\n",
        "**Формат выходных данных**  \n",
        "Программа должна вывести самое большое счастливое число. Если счастливых чисел нет, вывести `-1`."
      ]
    },
    {
      "cell_type": "code",
      "metadata": {
        "id": "u8_E6MnntMUv",
        "colab": {
          "base_uri": "https://localhost:8080/"
        },
        "outputId": "f5e25dbc-05c8-47b2-c720-9b702e629c45"
      },
      "source": [
        "x = [int(i) for i in input().split()]\n",
        "z = []\n",
        "\n",
        "for i in x:\n",
        "  if i == x.count(i):\n",
        "    z.append(i)\n",
        "\n",
        "if len(z) > 0:\n",
        "  z.sort()\n",
        "  print(z[-1])\n",
        "else:\n",
        "  print(-1)      "
      ],
      "execution_count": null,
      "outputs": [
        {
          "output_type": "stream",
          "text": [
            "10\n",
            "-1\n"
          ],
          "name": "stdout"
        }
      ]
    },
    {
      "cell_type": "markdown",
      "metadata": {
        "id": "J38MHeWumpsb"
      },
      "source": [
        "### 2. n-ое число Трибоначчи\n",
        "\n",
        "Последовательность Трибоначчи T`n` определяется следующим образом:\n",
        "\n",
        "T`0` = 0, T`1` = 1, T`2` = 1 и T`n+3` = T`n` + T`n+1` +T`n+2` для n≥0.  \n",
        "  \n",
        "Напишите программу, которая вычисляет `n`-ое число последовательности Трибоначчи."
      ]
    },
    {
      "cell_type": "markdown",
      "metadata": {
        "id": "okFKEva7n6BV"
      },
      "source": [
        "**Формат входных данных**  \n",
        "На вход программе подается целое число `n`.\n",
        "\n",
        "**Формат выходных данных**  \n",
        "Программа должна вывести `n`-ое число последовательности Трибоначчи."
      ]
    },
    {
      "cell_type": "code",
      "metadata": {
        "colab": {
          "base_uri": "https://localhost:8080/"
        },
        "id": "QqyeKzIJlmwk",
        "outputId": "eeead693-e25b-407e-a0cd-6af570ca807b"
      },
      "source": [
        "n = int(input())\n",
        "t = [0,1,1,2]\n",
        "\n",
        "if n <= 2:\n",
        "  print(t[n])\n",
        "else:  \n",
        "  for i in range(n):\n",
        "    if i > 2:\n",
        "      t.append(t[i] + t[i-1] + t[i-2])\n",
        "\n",
        "  t.sort()\n",
        "  print(t[-1])\n",
        "\n"
      ],
      "execution_count": null,
      "outputs": [
        {
          "output_type": "stream",
          "text": [
            "25\n",
            "1389537\n"
          ],
          "name": "stdout"
        }
      ]
    },
    {
      "cell_type": "markdown",
      "metadata": {
        "id": "Bd6gpd1k7YX-"
      },
      "source": [
        "### 3. n-я цифра\n",
        "\n",
        "Напишите программу, которая выводит `n`-ую цифру бесконечной последовательности чисел:\n",
        "\n",
        "12345678910111213141516171819202122..."
      ]
    },
    {
      "cell_type": "markdown",
      "metadata": {
        "id": "YTIZJgpz7jr2"
      },
      "source": [
        "**Формат входных данных**  \n",
        "На вход подается одно натуральное число `n` – номер цифры, 1 ≤ `n` ≤ 1000000.\n",
        "\n",
        "**Формат выходных данных**  \n",
        "Программа должна вывести `n`-ую цифру бесконечной последовательности чисел."
      ]
    },
    {
      "cell_type": "code",
      "metadata": {
        "colab": {
          "base_uri": "https://localhost:8080/"
        },
        "id": "JwCvSoXZ6FUW",
        "outputId": "315d5386-2b33-49f1-8ef5-3f96c97f246a"
      },
      "source": [
        "n = int(input())\n",
        "inf = ''\n",
        "\n",
        "for i in range(1,n+1):\n",
        "  inf += str(i) \n",
        "\n",
        "print(inf[n-1])"
      ],
      "execution_count": null,
      "outputs": [
        {
          "output_type": "stream",
          "text": [
            "17\n",
            "3\n"
          ],
          "name": "stdout"
        }
      ]
    },
    {
      "cell_type": "markdown",
      "metadata": {
        "id": "m6lRcT3R9ZD2"
      },
      "source": [
        "### 4. Максимальное Число\n",
        "\n",
        "На вход программе подается положительное целое число `n`, состоящее только из цифр *6* и *9*. Напишите программу, которая возвращает максимальное число, которое вы можете получить, изменив не более одной цифры (*6* заменяется на *9*, а *9* на *6*)."
      ]
    },
    {
      "cell_type": "markdown",
      "metadata": {
        "id": "ozjLaG6Q92kN"
      },
      "source": [
        "**Формат входных данных**  \n",
        "На вход программе подается целое число, состоящее из цифр *6* и *9*.\n",
        "\n",
        "**Формат выходных данных**\n",
        "Программа должна вывести максимальное число, которое можно получить, если изменить не более одной цифры."
      ]
    },
    {
      "cell_type": "code",
      "metadata": {
        "colab": {
          "base_uri": "https://localhost:8080/"
        },
        "id": "VgxPJRx18j1k",
        "outputId": "c1e219db-5b2f-484a-829f-2a1863f676a4"
      },
      "source": [
        "n = [i for i in input()]\n",
        "\n",
        "for i in n:\n",
        "  if int(i) == 6:\n",
        "    n[n.index(i)] = '9'\n",
        "    break\n",
        "\n",
        "for i in n:\n",
        "  print(i,end='')"
      ],
      "execution_count": null,
      "outputs": [
        {
          "output_type": "stream",
          "text": [
            "6699\n",
            "9699"
          ],
          "name": "stdout"
        }
      ]
    },
    {
      "cell_type": "markdown",
      "metadata": {
        "id": "9aZXXpiZPh5z"
      },
      "source": [
        "### 5. Обратная строка\n",
        "\n",
        "На вход программе подается строка. Напишите программу, которая \"переворачивает\" строку в соответствии с правилами:\n",
        "\n",
        " - все символы, не являющиеся буквами, остаются на своих местах;\n",
        " - все буквы меняют свой порядок на обратный."
      ]
    },
    {
      "cell_type": "markdown",
      "metadata": {
        "id": "B4JMR90TPtr0"
      },
      "source": [
        "**Формат входных данных**  \n",
        "На вход программе подается строка.\n",
        "\n",
        "**Формат выходных данных**  \n",
        "Программа должна вывести перевернутую строку в соответствии с условием задачи."
      ]
    },
    {
      "cell_type": "markdown",
      "metadata": {
        "id": "0S-_saKaP-vh"
      },
      "source": [
        "**Sample Input:**  \n",
        "n.o.semaJJJ\n",
        "\n",
        "**Sample Output:**\n",
        "\n",
        "J.J.Jameson"
      ]
    },
    {
      "cell_type": "code",
      "metadata": {
        "colab": {
          "base_uri": "https://localhost:8080/"
        },
        "id": "_NuWQLMvObaB",
        "outputId": "056b2594-7963-4174-9adb-9ff536f50394"
      },
      "source": [
        "x = input()\n",
        "l = len(x)\n",
        "s = {i:[''] for i in range(1,l+1)}\n",
        "cor = []\n",
        "\n",
        "abc = []\n",
        "for i in range(97,123):\n",
        "  abc.append(chr(i))\n",
        "for i in range(97,123):\n",
        "  abc.append(chr(i).upper())\n",
        "\n",
        "for i in range(1,l+1):\n",
        "  s[i] = x[i-1]\n",
        "\n",
        "for i in s:\n",
        "  if s[i] in abc:\n",
        "    cor.append(s[i])\n",
        "    s[i] = ''\n",
        "\n",
        "cor.reverse()\n",
        "\n",
        "for i in range(1,len(s)+1):\n",
        "  if s[i] == '':\n",
        "    s[i] = cor[0]\n",
        "    cor.pop(0)\n",
        "\n",
        "for i in s:\n",
        "  print(s[i],end='')\n",
        "\n"
      ],
      "execution_count": null,
      "outputs": [
        {
          "output_type": "stream",
          "text": [
            "n.o.semaJJJ\n",
            "J.J.Jameson"
          ],
          "name": "stdout"
        }
      ]
    },
    {
      "cell_type": "markdown",
      "metadata": {
        "id": "UWpr0KQIXyzL"
      },
      "source": [
        "### 6. удалить k цифр\n",
        "\n",
        "На вход программе подается два числа: `n` и `k`.\n",
        "\n",
        "Напишите программу, которая удаляет `k` цифр из числа `n` так, чтобы новое число было наименьшим из возможных."
      ]
    },
    {
      "cell_type": "markdown",
      "metadata": {
        "id": "ZxURPH9UYEA4"
      },
      "source": [
        "**Формат входных данных**  \n",
        "На вход подается два числа: `n` и `k`.\n",
        "\n",
        "**Формат выходных данных**  \n",
        "Программа должна вывести число, в соответствии с условием задачи.\n",
        "\n",
        "**Примечание.**   \n",
        "Считайте, что число `k` меньше количества разрядов числа `n`."
      ]
    },
    {
      "cell_type": "markdown",
      "metadata": {
        "id": "GzYuWlizaUnq"
      },
      "source": [
        "**Sample Input 1**  \n",
        "351372111  \n",
        "3\n",
        "\n",
        "**Sample Output 1**  \n",
        "132111\n",
        "\n",
        "**Sample Input 17**  \n",
        "44000985453111234355556757  \n",
        "10\n",
        "\n",
        "**Sample Output 17**  \n",
        "1112335555657"
      ]
    },
    {
      "cell_type": "code",
      "metadata": {
        "colab": {
          "base_uri": "https://localhost:8080/"
        },
        "id": "_ELtGLNPJbdd",
        "outputId": "38bc2e42-a5c1-434b-fd95-9b0872389834"
      },
      "source": [
        "#n = [i for i in input()]\n",
        "#k = int(input())\n",
        "\n",
        "n = [i for i in '44000985453111234355556757']\n",
        "k = 10\n",
        "\n",
        "while k > 0:\n",
        "  f = True\n",
        "  for i in range(len(n)-1):\n",
        "    if n[i] > n[i+1]:\n",
        "      del n[i]\n",
        "      k -= 1\n",
        "      f = False\n",
        "      break\n",
        "  if f:\n",
        "    del n[-1]\n",
        "    k -= 1\n",
        "\n",
        "print(int(''.join(n)))"
      ],
      "execution_count": 4,
      "outputs": [
        {
          "output_type": "stream",
          "name": "stdout",
          "text": [
            "1112335555657\n"
          ]
        }
      ]
    },
    {
      "cell_type": "markdown",
      "metadata": {
        "id": "2tTYPUsU-ox7"
      },
      "source": [
        "### 7. Самый длинный палиндром\n",
        "\n",
        "Дана строка, состоящая из строчных и прописных букв английского алфавита. Напишите программу, которая выводит длину самого длинного палиндрома, который может быть составлен из букв этой строки.\n"
      ]
    },
    {
      "cell_type": "markdown",
      "metadata": {
        "id": "j5fAmspv-0s5"
      },
      "source": [
        "**Формат входных данных**  \n",
        "На вход подается строка, которая состоит из строчных и прописных букв английского алфавита.\n",
        "\n",
        "**Формат выходных данных**  \n",
        "Программа должна вывести число – длину **самого длинного палиндрома**, который может быть составлен из букв этой строки.\n",
        "\n",
        "**Примечание 1.**  \n",
        "Палиндром читается одинаково в обоих направлениях, например слово «довод».\n",
        "\n",
        "**Примечание 2.**   \n",
        "Считайте, что буквы чувствительны к регистру, то есть строка  `Aa` не является палиндромом."
      ]
    },
    {
      "cell_type": "code",
      "metadata": {
        "colab": {
          "base_uri": "https://localhost:8080/"
        },
        "id": "y8LnBjJedBCp",
        "outputId": "6565d955-3f2f-4620-9156-93c2c67bd2db"
      },
      "source": [
        "xxx = 'qazxvdggwvhhZSAawefxcngfsdXFGXhzfdzdfxh'\n",
        "xx = 'BbdoiID'\n",
        "\n",
        "x = [i for i in input()]\n",
        "\n",
        "s = set(x)\n",
        "d = {}\n",
        "\n",
        "for i in s:\n",
        "  d[i] = x.count(i)\n",
        "\n",
        "count = 0\n",
        "\n",
        "for k,v in d.items():\n",
        "  if v%2 == 0:\n",
        "    count += v\n",
        "    d[k] = 0\n",
        "  elif v%2 == 1 and v != 1:\n",
        "    count += v-1\n",
        "    d[k] = 1\n",
        "\n",
        "for v in d.values():\n",
        "  if v == 1:\n",
        "    count += 1\n",
        "    break\n",
        "\n",
        "print(count)\n"
      ],
      "execution_count": null,
      "outputs": [
        {
          "output_type": "stream",
          "text": [
            "qazxvdggwvhhZSAawefxcngfsdXFGXhzfdzdfxh\n",
            "27\n"
          ],
          "name": "stdout"
        }
      ]
    },
    {
      "cell_type": "code",
      "metadata": {
        "id": "eRDCtETPdkE8"
      },
      "source": [
        ""
      ],
      "execution_count": null,
      "outputs": []
    }
  ]
}