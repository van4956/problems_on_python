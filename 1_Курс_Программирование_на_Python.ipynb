{
  "nbformat": 4,
  "nbformat_minor": 0,
  "metadata": {
    "colab": {
      "name": "Программирование на Python.ipynb",
      "provenance": [],
      "collapsed_sections": [
        "bBn-MO3rLoD6",
        "mmVmf_rthtGG",
        "Ou5MOsWPh79W",
        "PREC8Nw7iJ64",
        "QvA3jMQqiQ_S",
        "0WaOgn_9ihOO",
        "itTlnrAbipko",
        "_CCDaVzvi1-k",
        "35f1ZVQGi7b6",
        "jnq9M0WhjA_B",
        "8dC4nfcN3XSj",
        "wsrDwhdX3i0k",
        "wJeOB6G75kA-",
        "Dtx1TK3F6g5_",
        "_FlaBlkn7NOR",
        "yijKFWay73vt",
        "Yc8DrSuK8U3h",
        "IeYm5Vdn82KK",
        "oP671E2j9XGY",
        "elEy0Y2W-KD0",
        "Y9XYMAB0-VcX",
        "EePJgxYw-y-2",
        "2RXa4EosAzfW",
        "JOMXS-EyBI70",
        "VH3R_D2zCBqM",
        "IyqCHh5ICfye",
        "gnrnmAf4DYBm",
        "KI7GcflvDuOJ",
        "ipqpaaLZEyHl",
        "W0AYqYeWFg9g",
        "W8VpLyTAGty3",
        "UMWBokAwIiTa",
        "QFZfFQceJDBy",
        "LSNCeEtBJhKb"
      ]
    },
    "kernelspec": {
      "name": "python3",
      "display_name": "Python 3"
    }
  },
  "cells": [
    {
      "cell_type": "markdown",
      "metadata": {
        "id": "Gsugxutuhq81"
      },
      "source": [
        "# Курс \"Программирование на Python\" \n",
        "(37 задач)"
      ]
    },
    {
      "cell_type": "markdown",
      "metadata": {
        "id": "ESKvHzlYL3Ab"
      },
      "source": [
        "**Программирование на Python**   \n",
        "*(Bioinformatics Institute)*  \n",
        "\n",
        "Онлайн-курс на stepik.org  \n",
        "пройден на 100%  \n",
        "15.01.2021  \n",
        "\n",
        "https://stepik.org/cert/873052"
      ]
    },
    {
      "cell_type": "markdown",
      "metadata": {
        "id": "bBn-MO3rLoD6"
      },
      "source": [
        "# Решение задач (37)"
      ]
    },
    {
      "cell_type": "markdown",
      "metadata": {
        "id": "mmVmf_rthtGG"
      },
      "source": [
        "## Задача 1 - Деление."
      ]
    },
    {
      "cell_type": "code",
      "metadata": {
        "colab": {
          "base_uri": "https://localhost:8080/"
        },
        "id": "O2s3XgWQPdaJ",
        "outputId": "49e5e098-dba6-4a40-8905-9542493d04bb"
      },
      "source": [
        "a = int(input())\n",
        "b = int(input())\n",
        "if b != 0:\n",
        "  print(int(a / b))\n",
        "else:\n",
        "  print('делить на ноль нельзя!')\n",
        "  b = int(input('введите ненулевое значение '))\n",
        "  if b == 0:\n",
        "    print('ты тупой')\n",
        "  else:\n",
        "    print( a / b)"
      ],
      "execution_count": null,
      "outputs": [
        {
          "output_type": "stream",
          "text": [
            "4\n",
            "0\n",
            "делить на ноль нельзя!\n",
            "введите ненулевое значение 2\n",
            "2.0\n"
          ],
          "name": "stdout"
        }
      ]
    },
    {
      "cell_type": "markdown",
      "metadata": {
        "id": "Ou5MOsWPh79W"
      },
      "source": [
        "## Задача 2 - Здоровый сон."
      ]
    },
    {
      "cell_type": "markdown",
      "metadata": {
        "id": "jsW-eUsiaWQ9"
      },
      "source": [
        "Из передачи “Здоровье” Аня узнала, что рекомендуется спать хотя бы A часов в сутки, но пересыпать тоже вредно и не стоит спать более B часов. Сейчас Аня спит H часов в сутки. Если режим сна Ани удовлетворяет рекомендациям передачи “Здоровье”, выведите “Это нормально”. Если Аня спит менее A часов, выведите “Недосып”, если же более B часов, то выведите “Пересып”.\n"
      ]
    },
    {
      "cell_type": "code",
      "metadata": {
        "colab": {
          "base_uri": "https://localhost:8080/"
        },
        "id": "VnVV_k_AaZsQ",
        "outputId": "d24e0145-acbc-486d-9b8e-c9233a20aa48"
      },
      "source": [
        "A = int(input())\n",
        "B = int(input())\n",
        "H = int(input())\n",
        "if A <= B:\n",
        "  if A <= H <= B:\n",
        "    print('Это нормально')\n",
        "  elif H > B:\n",
        "    print('Пересып')\n",
        "  else:\n",
        "    print('Недосып')"
      ],
      "execution_count": null,
      "outputs": [
        {
          "output_type": "stream",
          "text": [
            "7\n",
            "9\n",
            "2\n",
            "Недосып\n"
          ],
          "name": "stdout"
        }
      ]
    },
    {
      "cell_type": "markdown",
      "metadata": {
        "id": "PREC8Nw7iJ64"
      },
      "source": [
        "## Задача 3 - Високосный год."
      ]
    },
    {
      "cell_type": "markdown",
      "metadata": {
        "id": "qSoe_DxncRdj"
      },
      "source": [
        "Требуется определить, является ли данный год високосным.\n",
        "\n",
        "Напомним, что високосными годами считаются те годы, порядковый номер которых либо кратен 4, но при этом не кратен 100, либо кратен 400 (например, 2000-й год являлся високосным, а 2100-й будет невисокосным годом).\n",
        "\n",
        "Программа должна корректно работать на числах 1900≤n≤3000.\n",
        "\n",
        "Выведите \"Високосный\" в случае, если считанный год является високосным и \"Обычный\" в обратном случае (не забывайте проверять регистр выводимых программой символов)."
      ]
    },
    {
      "cell_type": "code",
      "metadata": {
        "id": "tEZ6_tiTcSX-",
        "colab": {
          "base_uri": "https://localhost:8080/"
        },
        "outputId": "3fb12d46-2bab-4751-c553-21b69ce6edf0"
      },
      "source": [
        "n = int(input())\n",
        "\n",
        "if 1900 <= n <= 3000:\n",
        "  if (n//4 == n/4 and n//100 != n/100) or n//400 == n/400: \n",
        "    print('Високосный')\n",
        "  else:\n",
        "    print('Обычный')"
      ],
      "execution_count": null,
      "outputs": [
        {
          "output_type": "stream",
          "text": [
            "2000\n",
            "Високосный\n"
          ],
          "name": "stdout"
        }
      ]
    },
    {
      "cell_type": "markdown",
      "metadata": {
        "id": "QvA3jMQqiQ_S"
      },
      "source": [
        "## Задача 4 - Калькулятор чисел."
      ]
    },
    {
      "cell_type": "markdown",
      "metadata": {
        "id": "I5gOLVCX1HOO"
      },
      "source": [
        "Напишите простой калькулятор, который считывает с пользовательского ввода три строки: первое число, второе число и операцию, после чего применяет операцию к введённым числам (\"первое число\" \"операция\" \"второе число\") и выводит результат на экран.\n",
        "\n",
        "Поддерживаемые операции: +, -, /, *, mod, pow, div, где  \n",
        "`mod` — это взятие остатка от деления,  \n",
        "`pow` — возведение в степень,  \n",
        "`div` — целочисленное деление.  \n",
        "\n",
        "Если выполняется деление и второе число равно 0, необходимо выводить строку \"Деление на 0!\"."
      ]
    },
    {
      "cell_type": "code",
      "metadata": {
        "colab": {
          "base_uri": "https://localhost:8080/"
        },
        "id": "HkyBEf0-J-kX",
        "outputId": "fad35fd8-5625-44bc-e2e5-f779e5c845d0"
      },
      "source": [
        "a = float(input())\n",
        "b = float(input())\n",
        "d = input()\n",
        "\n",
        "if d == 'mod':\n",
        "  if b == 0:\n",
        "    print('Деление на 0!')\n",
        "  else:\n",
        "    print(a%b)\n",
        "elif d == '/': \n",
        "  if  b == 0:\n",
        "    print('Деление на 0!')\n",
        "  else:  \n",
        "    print(a/b)\n",
        "elif d == 'div':  \n",
        "  if b == 0:\n",
        "    print('Деление на 0!')\n",
        "  else:\n",
        "    print(a//b)\n",
        "elif d == '*':\n",
        "  print(a*b)\n",
        "elif d == '+':\n",
        "  print(a+b)\n",
        "elif d == '-':\n",
        "  print(a-b)\n",
        "elif d == 'pow':\n",
        "  print(a**b)    \n",
        "        "
      ],
      "execution_count": null,
      "outputs": [
        {
          "output_type": "stream",
          "text": [
            "5.0\n",
            "0.0\n",
            "/\n",
            "Деление на 0!\n"
          ],
          "name": "stdout"
        }
      ]
    },
    {
      "cell_type": "markdown",
      "metadata": {
        "id": "0WaOgn_9ihOO"
      },
      "source": [
        "## Задача 5 - Площадь комнаты."
      ]
    },
    {
      "cell_type": "markdown",
      "metadata": {
        "id": "3twd-si_Le4N"
      },
      "source": [
        "Жители страны Малевии часто экспериментируют с планировкой комнат. Комнаты бывают треугольные, прямоугольные и круглые. Чтобы быстро вычислять жилплощадь, требуется написать программу, на вход которой подаётся тип фигуры комнаты и соответствующие параметры, которая бы выводила площадь получившейся комнаты.\n",
        "Для числа π в стране Малевии используют значение 3.14.  \n",
        "  \n",
        "Формат ввода, который используют Малевийцы:  \n",
        "  \n",
        "`треугольник`  \n",
        "`a`  \n",
        "`b`   \n",
        "`c`  \n",
        "где a, b и c — длины сторон треугольника  \n",
        "  \n",
        "`прямоугольник`  \n",
        "`a`  \n",
        "`b`  \n",
        "где a и b — длины сторон прямоугольника  \n",
        "  \n",
        "`круг`  \n",
        "`r`  \n",
        "где r — радиус окружности  \n"
      ]
    },
    {
      "cell_type": "code",
      "metadata": {
        "colab": {
          "base_uri": "https://localhost:8080/"
        },
        "id": "bHX6KjU8L1u-",
        "outputId": "512ebdf3-60a2-4e77-802e-28bfd54087dc"
      },
      "source": [
        "x = input()\n",
        "if x == 'треугольник':\n",
        "  a = int(input())\n",
        "  b = int(input())\n",
        "  c = int(input())\n",
        "  p = (a + b + c) / 2\n",
        "  s = (p*(p-a)*(p-b)*(p-c))**0.5\n",
        "  print(s)\n",
        "elif x == 'прямоугольник':\n",
        "  a = int(input())\n",
        "  b = int(input())\n",
        "  s = a*b\n",
        "  print(s)\n",
        "elif x == 'круг':\n",
        "  r = int(input())\n",
        "  pi = 3.14\n",
        "  s = pi*r**2\n",
        "  print(s)"
      ],
      "execution_count": null,
      "outputs": [
        {
          "output_type": "stream",
          "text": [
            "треугольник\n",
            "3\n",
            "4\n",
            "5\n",
            "6.0\n"
          ],
          "name": "stdout"
        }
      ]
    },
    {
      "cell_type": "markdown",
      "metadata": {
        "id": "itTlnrAbipko"
      },
      "source": [
        "## Задача 6 - Максимальное минимальное число."
      ]
    },
    {
      "cell_type": "markdown",
      "metadata": {
        "id": "oTjCQXW2Lc34"
      },
      "source": [
        "Напишите программу, которая получает на вход три целых числа, по одному числу в строке, и выводит на консоль в три строки сначала максимальное, потом минимальное, после чего оставшееся число.\n",
        "  \n",
        "На ввод могут подаваться и повторяющиеся числа."
      ]
    },
    {
      "cell_type": "code",
      "metadata": {
        "colab": {
          "base_uri": "https://localhost:8080/"
        },
        "id": "n1mDhFGjzcHK",
        "outputId": "c6315fed-dddd-447f-eac8-92549336aa01"
      },
      "source": [
        "a = int(input())\n",
        "b = int(input())\n",
        "c = int(input())\n",
        "\n",
        "if a >= b and a >= c: \n",
        "  if b >= c:\n",
        "    print(a)\n",
        "    print(c)\n",
        "    print(b)\n",
        "  elif b < c:  \n",
        "    print(a)\n",
        "    print(b)\n",
        "    print(c)\n",
        "elif b >= a and b >= c:\n",
        "  if a >= c:\n",
        "    print(b)\n",
        "    print(c)\n",
        "    print(a)  \n",
        "  elif c > a:\n",
        "    print(b)\n",
        "    print(a)\n",
        "    print(c) \n",
        "elif c >= a and c >= b:\n",
        "  if a >= b:\n",
        "    print(c)\n",
        "    print(b)\n",
        "    print(a)\n",
        "  elif b > a:\n",
        "    print(c)\n",
        "    print(a)\n",
        "    print(b)           "
      ],
      "execution_count": null,
      "outputs": [
        {
          "output_type": "stream",
          "text": [
            "1\n",
            "7\n",
            "19\n",
            "19\n",
            "1\n",
            "7\n"
          ],
          "name": "stdout"
        }
      ]
    },
    {
      "cell_type": "markdown",
      "metadata": {
        "id": "_CCDaVzvi1-k"
      },
      "source": [
        "## Задача 7 - Звездный треугольник."
      ]
    },
    {
      "cell_type": "markdown",
      "metadata": {
        "id": "oWrDXKrILbeM"
      },
      "source": [
        "Выведите прямоугольный треугольник с заданной высотой"
      ]
    },
    {
      "cell_type": "code",
      "metadata": {
        "colab": {
          "base_uri": "https://localhost:8080/"
        },
        "id": "aRySKvmWG7_i",
        "outputId": "2d37c426-1254-49d8-f5c1-e3121b9b18b0"
      },
      "source": [
        "x = int(input())\n",
        "c  = 1\n",
        "while c <= x:\n",
        "  print('*'*c)\n",
        "  c += 1"
      ],
      "execution_count": null,
      "outputs": [
        {
          "output_type": "stream",
          "text": [
            "15\n",
            "*\n",
            "**\n",
            "***\n",
            "****\n",
            "*****\n",
            "******\n",
            "*******\n",
            "********\n",
            "*********\n",
            "**********\n",
            "***********\n",
            "************\n",
            "*************\n",
            "**************\n",
            "***************\n"
          ],
          "name": "stdout"
        }
      ]
    },
    {
      "cell_type": "markdown",
      "metadata": {
        "id": "35f1ZVQGi7b6"
      },
      "source": [
        "## Задача 8 - Сколько программистов?"
      ]
    },
    {
      "cell_type": "markdown",
      "metadata": {
        "id": "5hG5VAye2s9-"
      },
      "source": [
        "Напишите программу, считывающую с пользовательского ввода целое число nn (неотрицательное), выводящее это число в консоль вместе с правильным образом изменённым словом \"программист\", для того, чтобы робот мог нормально общаться с людьми, например: 1 программист, 2 программиста, 5 программистов.\n",
        "\n",
        "В комнате может быть очень много программистов. Проверьте, что ваша программа правильно обработает все случаи, как минимум до 1000 человек."
      ]
    },
    {
      "cell_type": "code",
      "metadata": {
        "colab": {
          "base_uri": "https://localhost:8080/"
        },
        "id": "U6nFDNc83LCy",
        "outputId": "43ff8838-2f1d-43d2-d0e1-d1159636346d"
      },
      "source": [
        "z = int(input())\n",
        "x = z%100\n",
        "if 4 < x < 20:\n",
        "    print(z, 'программистов')\n",
        "elif x%10 == 1:\n",
        "    print(z, 'программист')\n",
        "elif 2 <= x%10 <= 4:  \n",
        "    print(z, 'программиста')\n",
        "elif x%10 > 4 or x%10 == 0:  \n",
        "    print(z, 'программистов')"
      ],
      "execution_count": null,
      "outputs": [
        {
          "output_type": "stream",
          "text": [
            "817\n",
            "817 программистов\n"
          ],
          "name": "stdout"
        }
      ]
    },
    {
      "cell_type": "markdown",
      "metadata": {
        "id": "jnq9M0WhjA_B"
      },
      "source": [
        "## Задача 9 - Счастливый билет."
      ]
    },
    {
      "cell_type": "markdown",
      "metadata": {
        "id": "N2-42Xu32-PG"
      },
      "source": [
        "Паша очень любит кататься на общественном транспорте, а получая билет, сразу проверяет, счастливый ли ему попался. Билет считается счастливым, если сумма первых трех цифр совпадает с суммой последних трех цифр номера билета.\n",
        "\n",
        "Однако Паша очень плохо считает в уме, поэтому попросил вас написать программу, которая проверит равенство сумм и выведет \"Счастливый\", если суммы совпадают, и \"Обычный\", если суммы различны."
      ]
    },
    {
      "cell_type": "code",
      "metadata": {
        "colab": {
          "base_uri": "https://localhost:8080/"
        },
        "id": "PsZALqGN5tb4",
        "outputId": "ea115cef-12c3-4436-a2c9-2e55e5b9faef"
      },
      "source": [
        "x = input()\n",
        "x = str(x)\n",
        "if (int(x[0]) + int(x[1]) + int(x[2])) == (int(x[3]) + int(x[4]) + int(x[5])):\n",
        "  print('Счастливый')\n",
        "else:\n",
        "  print('Обычный')  \n"
      ],
      "execution_count": null,
      "outputs": [
        {
          "output_type": "stream",
          "text": [
            "222222\n",
            "Счастливый\n"
          ],
          "name": "stdout"
        }
      ]
    },
    {
      "cell_type": "markdown",
      "metadata": {
        "id": "C89sxyTi3AtJ"
      },
      "source": [
        "## Задача 10 "
      ]
    },
    {
      "cell_type": "markdown",
      "metadata": {
        "id": "_kkkM1BW3BOl"
      },
      "source": [
        ""
      ]
    },
    {
      "cell_type": "code",
      "metadata": {
        "colab": {
          "base_uri": "https://localhost:8080/"
        },
        "id": "caf5jIcFKAHB",
        "outputId": "6733b216-cc4e-451f-c737-410ec60a20e2"
      },
      "source": [
        "i = 0\n",
        "while i < 5:\n",
        "  print('*')\n",
        "  if i % 2 == 0:\n",
        "    print('**')\n",
        "  if i > 2:\n",
        "    print('***')\n",
        "  i = i + 1    \n",
        "  "
      ],
      "execution_count": null,
      "outputs": [
        {
          "output_type": "stream",
          "text": [
            "*\n",
            "**\n",
            "*\n",
            "*\n",
            "**\n",
            "*\n",
            "***\n",
            "*\n",
            "**\n",
            "***\n"
          ],
          "name": "stdout"
        }
      ]
    },
    {
      "cell_type": "markdown",
      "metadata": {
        "id": "hSqMd9GD3VGk"
      },
      "source": [
        "## Задача 11"
      ]
    },
    {
      "cell_type": "markdown",
      "metadata": {
        "id": "tAGNZTI93V0L"
      },
      "source": [
        ""
      ]
    },
    {
      "cell_type": "code",
      "metadata": {
        "colab": {
          "base_uri": "https://localhost:8080/"
        },
        "id": "dYBFi7PNxvfX",
        "outputId": "3f19e6a2-e075-42fc-f195-4c35993cbe8f"
      },
      "source": [
        "a = int(input())\n",
        "b = int(input())\n",
        "if a > 0 and b > 0:\n",
        "  if a/b != a//b and b/a != b//a:\n",
        "    d = a*b\n",
        "    print(d)\n",
        "  elif a/b == a//b:\n",
        "    d = a\n",
        "    print(d)\n",
        "  elif b/a == b//a:\n",
        "    d = b\n",
        "    print(d)"
      ],
      "execution_count": null,
      "outputs": [
        {
          "output_type": "stream",
          "text": [
            "0\n",
            "5\n"
          ],
          "name": "stdout"
        }
      ]
    },
    {
      "cell_type": "markdown",
      "metadata": {
        "id": "8dC4nfcN3XSj"
      },
      "source": [
        "## Задача 12 - Кусочки пирога."
      ]
    },
    {
      "cell_type": "markdown",
      "metadata": {
        "id": "7yqDziQy3X5L"
      },
      "source": [
        "В Институте биоинформатики между информатиками и биологами устраивается соревнование. Победителям соревнования достанется большой и вкусный пирог. В команде биологов **a** человек, а в команде информатиков — **b** человек.\n",
        "\n",
        "Нужно заранее разрезать пирог таким образом, чтобы можно было раздать кусочки пирога любой команде, выигравшей соревнование, при этом каждому участнику этой команды должно достаться одинаковое число кусочков пирога. И так как не хочется резать пирог на слишком мелкие кусочки, нужно найти минимальное подходящее число.\n",
        "\n",
        "Напишите программу, которая помогает найти это число.\n",
        "Программа должна считывать размеры команд (два положительных целых числа **a** и **b**, каждое число вводится на отдельной строке) и выводить наименьшее число **d**, которое делится на оба этих числа без остатка."
      ]
    },
    {
      "cell_type": "code",
      "metadata": {
        "colab": {
          "base_uri": "https://localhost:8080/"
        },
        "id": "PYuct_Bb1O8g",
        "outputId": "66227312-18a3-4d7d-db79-d746f7cd4410"
      },
      "source": [
        "a = int(input())\n",
        "b = int(input())\n",
        "\n",
        "if a > 0 and b > 0:\n",
        "  d = 1\n",
        "  while d%a != 0 or d%b != 0:\n",
        "    d += 1\n",
        "  print(d)"
      ],
      "execution_count": null,
      "outputs": [
        {
          "output_type": "stream",
          "text": [
            "7\n",
            "5\n",
            "35\n"
          ],
          "name": "stdout"
        }
      ]
    },
    {
      "cell_type": "markdown",
      "metadata": {
        "id": "wsrDwhdX3i0k"
      },
      "source": [
        "## Задача 13"
      ]
    },
    {
      "cell_type": "markdown",
      "metadata": {
        "id": "3dF6ADe43jgw"
      },
      "source": [
        ""
      ]
    },
    {
      "cell_type": "code",
      "metadata": {
        "id": "Uhs8DFlI4gdo",
        "colab": {
          "base_uri": "https://localhost:8080/"
        },
        "outputId": "d0c91d32-ae65-402f-c75b-2b9578752821"
      },
      "source": [
        "i = 0\n",
        "while i < 5:\n",
        "  a,b = input().split()\n",
        "  a = int(a)\n",
        "  b = int(b)\n",
        "  if a == 0 and b == 0:\n",
        "    break\n",
        "  print(a*b)\n",
        "  i += 1\n"
      ],
      "execution_count": null,
      "outputs": [
        {
          "output_type": "stream",
          "text": [
            "2 2\n",
            "4\n",
            "0 0\n"
          ],
          "name": "stdout"
        }
      ]
    },
    {
      "cell_type": "markdown",
      "metadata": {
        "id": "wJeOB6G75kA-"
      },
      "source": [
        "## Задача 14 - Таблица умножения."
      ]
    },
    {
      "cell_type": "markdown",
      "metadata": {
        "id": "ROQSVZkv5k9R"
      },
      "source": [
        "Когда Павел учился в школе, он запоминал таблицу умножения прямоугольными блоками. Для тренировок ему бы очень пригодилась программа, которая показывала бы блок таблицы умножения.\n",
        "\n",
        "Напишите программу, на вход которой даются четыре числа **a**, **b**, **c** и **d**, каждое в своей строке. Программа должна вывести фрагмент таблицы умножения для всех чисел отрезка `[a; b][a;b]` на все числа отрезка `[c;d][c;d]`.\n",
        "\n",
        "Числа **a**, **b**, **c** и **d** являются натуральными и не превосходят 10, a `a≤b`, `c≤d`.\n"
      ]
    },
    {
      "cell_type": "code",
      "metadata": {
        "colab": {
          "base_uri": "https://localhost:8080/"
        },
        "id": "jh_k6ET2EJlT",
        "outputId": "750b4710-6fda-46f9-e3af-c7dd4777b58e"
      },
      "source": [
        "a = int(input())\n",
        "b = int(input())\n",
        "c = int(input())\n",
        "d = int(input())\n",
        "if a <= b and c <= d:\n",
        "  for i in range(c, d+1):\n",
        "    print('\\t', i, end='')\n",
        "  print()\n",
        "  for j in range(a, b + 1):\n",
        "    print(j, '\\t', end='') \n",
        "    for i in range(c, d+1):\n",
        "      print(j*i,'\\t', end='')\n",
        "    print()   "
      ],
      "execution_count": null,
      "outputs": [
        {
          "output_type": "stream",
          "text": [
            "2\n",
            "5\n",
            "5\n",
            "8\n",
            "\t 5\t 6\t 7\t 8\n",
            "2 \t10 \t12 \t14 \t16 \t\n",
            "3 \t15 \t18 \t21 \t24 \t\n",
            "4 \t20 \t24 \t28 \t32 \t\n",
            "5 \t25 \t30 \t35 \t40 \t\n"
          ],
          "name": "stdout"
        }
      ]
    },
    {
      "cell_type": "markdown",
      "metadata": {
        "id": "Dtx1TK3F6g5_"
      },
      "source": [
        "## Задача 15 - Среднее арифметическое."
      ]
    },
    {
      "cell_type": "markdown",
      "metadata": {
        "id": "6Nf4gYOe6htn"
      },
      "source": [
        "Напишите программу, которая считывает с клавиатуры два числа **a** и **b**, считает и выводит на консоль среднее арифметическое всех чисел из отрезка `[a; b][a;b]`, которые кратны числу 3."
      ]
    },
    {
      "cell_type": "code",
      "metadata": {
        "colab": {
          "base_uri": "https://localhost:8080/"
        },
        "id": "ypSQYPPBN9ne",
        "outputId": "388f28b6-72cd-487b-e443-99409d9560de"
      },
      "source": [
        "a = int(input())\n",
        "b = int(input())\n",
        "s = 0\n",
        "n = 0\n",
        "for i in range(a, b+1):\n",
        "  if i % 3 == 0:\n",
        "    s += i\n",
        "    n += 1\n",
        "print(s/n)    "
      ],
      "execution_count": null,
      "outputs": [
        {
          "output_type": "stream",
          "text": [
            "5\n",
            "19\n",
            "12.0\n"
          ],
          "name": "stdout"
        }
      ]
    },
    {
      "cell_type": "markdown",
      "metadata": {
        "id": "_FlaBlkn7NOR"
      },
      "source": [
        "## Задача 16 - Процентное соотношение гуанинов и цитозинов"
      ]
    },
    {
      "cell_type": "markdown",
      "metadata": {
        "id": "q_9HEN3Z7ONY"
      },
      "source": [
        "GC-состав является важной характеристикой геномных последовательностей и определяется как процентное соотношение суммы всех гуанинов и цитозинов к общему числу нуклеиновых оснований в геномной последовательности.\n",
        "\n",
        "Напишите программу, которая вычисляет процентное содержание символов G (гуанин) и C (цитозин) в введенной строке (программа не должна зависеть от регистра вводимых символов)."
      ]
    },
    {
      "cell_type": "code",
      "metadata": {
        "colab": {
          "base_uri": "https://localhost:8080/"
        },
        "id": "7lZVGfrWPKiM",
        "outputId": "6c402843-1307-462c-c804-1c3dbeb737d4"
      },
      "source": [
        "x = input()\n",
        "x = x.lower()\n",
        "l = len(x)\n",
        "n = 0\n",
        "for i in x:\n",
        "  if i == 'g' or i == 'c':\n",
        "    n += 1\n",
        "print(n/l*100)    \n"
      ],
      "execution_count": null,
      "outputs": [
        {
          "output_type": "stream",
          "text": [
            "acggtgttat\n",
            "40.0\n"
          ],
          "name": "stdout"
        }
      ]
    },
    {
      "cell_type": "markdown",
      "metadata": {
        "id": "yijKFWay73vt"
      },
      "source": [
        "## Задача 17 - Кодирование ДНК"
      ]
    },
    {
      "cell_type": "markdown",
      "metadata": {
        "id": "5BfXDPscY-39"
      },
      "source": [
        "Узнав, что ДНК не является случайной строкой, только что поступившие в Институт биоинформатики студенты группы информатиков предложили использовать алгоритм сжатия, который сжимает повторяющиеся символы в строке.\n",
        "\n",
        "Кодирование осуществляется следующим образом:\n",
        "s = 'aaaabbсaa' преобразуется в 'a4b2с1a2', то есть группы одинаковых символов исходной строки заменяются на этот символ и количество его повторений в этой позиции строки.\n",
        "\n",
        "Напишите программу, которая считывает строку, кодирует её предложенным алгоритмом и выводит закодированную последовательность на стандартный вывод. Кодирование должно учитывать регистр символов.\n"
      ]
    },
    {
      "cell_type": "code",
      "metadata": {
        "colab": {
          "base_uri": "https://localhost:8080/"
        },
        "id": "YA330_BBQk8D",
        "outputId": "80d535fe-3ca1-4e07-a017-5e3ce95e654d"
      },
      "source": [
        "x = input()\n",
        "l=len(x)\n",
        "cnt=1\n",
        "for i in range(l):\n",
        "    if i==(l-1):\n",
        "        print(x[i]+str(cnt),end='')\n",
        "    else:\n",
        "        if x[i]==x[i+1]:\n",
        "            cnt=cnt+1\n",
        "        else:\n",
        "            print(x[i]+str(cnt),end='')\n",
        "            cnt=1\n",
        "\n",
        "#aaaabbсaa\n",
        "#a4b2с1a2            "
      ],
      "execution_count": null,
      "outputs": [
        {
          "output_type": "stream",
          "text": [
            "aaaabbсaa\n",
            "a4b2с1a2"
          ],
          "name": "stdout"
        }
      ]
    },
    {
      "cell_type": "markdown",
      "metadata": {
        "id": "Yc8DrSuK8U3h"
      },
      "source": [
        "## Задача 18 - Cписок чисел."
      ]
    },
    {
      "cell_type": "markdown",
      "metadata": {
        "id": "ji5R1Z2-YGXU"
      },
      "source": [
        "Напишите программу, на вход которой подаётся список чисел одной строкой. Программа должна для каждого элемента этого списка вывести сумму двух его соседей. Для элементов списка, являющихся крайними, одним из соседей считается элемент, находящий на противоположном конце этого списка. Например, если на вход подаётся список \"1 3 5 6 10\", то на выход ожидается список \"13 6 9 15 7\" (без кавычек).\n",
        "\n",
        "Если на вход пришло только одно число, надо вывести его же.\n",
        "\n",
        "Вывод должен содержать одну строку с числами нового списка, разделёнными пробелом."
      ]
    },
    {
      "cell_type": "code",
      "metadata": {
        "id": "N8Yi5yHPGO4K",
        "colab": {
          "base_uri": "https://localhost:8080/"
        },
        "outputId": "9a28e6e9-d56d-43be-eaf9-41507a96b4bc"
      },
      "source": [
        "x = input().split()\n",
        "l=len(x)\n",
        "z = []\n",
        "if l == 1:\n",
        "  z = z + x\n",
        "  print(int(z[0]))\n",
        "else:  \n",
        "  for i in range(0,l-1):\n",
        "    if i == 0:\n",
        "      c = (int(x[i+1]) + int(x[-1]))\n",
        "      z.append(int(c))\n",
        "    else:\n",
        "      c = int(x[i-1]) + int(x[i+1])\n",
        "      z.append(int(c))\n",
        "  c = int(x[-2]) + int(x[0])\n",
        "  z.append(int(c)) \n",
        "  for i in z:\n",
        "    print(int(i),'',end='')    "
      ],
      "execution_count": null,
      "outputs": [
        {
          "output_type": "stream",
          "text": [
            "1 3 5 6 10\n",
            "13 6 9 15 7 "
          ],
          "name": "stdout"
        }
      ]
    },
    {
      "cell_type": "markdown",
      "metadata": {
        "id": "IeYm5Vdn82KK"
      },
      "source": [
        "## Задача 19 - Повторяющиеся значения."
      ]
    },
    {
      "cell_type": "markdown",
      "metadata": {
        "id": "-iPO_6VhkXDN"
      },
      "source": [
        "Напишите программу, которая принимает на вход список чисел в одной строке и выводит на экран в одну строку значения, которые встречаются в нём более одного раза.\n",
        "\n"
      ]
    },
    {
      "cell_type": "code",
      "metadata": {
        "id": "i2qxNKITZBoN",
        "colab": {
          "base_uri": "https://localhost:8080/"
        },
        "outputId": "4d1428af-da1c-40d0-b03a-69b32296a42a"
      },
      "source": [
        "x = [int(i) for i in input().split()]\n",
        "x.sort()\n",
        "l = len(x)\n",
        "cnt = 1\n",
        "for i in range(l):\n",
        "  if i == l-1:\n",
        "    if x[i] == x[-1] and cnt > 1:\n",
        "      print(x[i])\n",
        "    else:\n",
        "      break  \n",
        "  else:\n",
        "    if x[i] == x[i+1]:\n",
        "      cnt=cnt+1\n",
        "    else:\n",
        "       if cnt > 1:\n",
        "         print(x[i] ,'',end='')\n",
        "         cnt=1\n",
        " "
      ],
      "execution_count": null,
      "outputs": [
        {
          "output_type": "stream",
          "text": [
            "4 8 0 3 4 2 0 3\n",
            "0 3 4 "
          ],
          "name": "stdout"
        }
      ]
    },
    {
      "cell_type": "markdown",
      "metadata": {
        "id": "oP671E2j9XGY"
      },
      "source": [
        "## Задача 20 - Квадрат"
      ]
    },
    {
      "cell_type": "code",
      "metadata": {
        "colab": {
          "base_uri": "https://localhost:8080/"
        },
        "id": "JxFc1R1RwX3J",
        "outputId": "40417d4e-a168-41d7-b684-2c18025c13cc"
      },
      "source": [
        "n, m ,k = (int(i) for i in input().split())\n",
        "a = [[0 for j in range(m)] for i in range(n)]\n",
        "for i in range(k):\n",
        "  row, col = (int(i) for i in input().split())\n",
        "  a[row][col] = -1\n",
        "a"
      ],
      "execution_count": null,
      "outputs": [
        {
          "output_type": "stream",
          "text": [
            "8 9 1\n",
            "4 7\n"
          ],
          "name": "stdout"
        },
        {
          "output_type": "execute_result",
          "data": {
            "text/plain": [
              "[[0, 0, 0, 0, 0, 0, 0, 0, 0],\n",
              " [0, 0, 0, 0, 0, 0, 0, 0, 0],\n",
              " [0, 0, 0, 0, 0, 0, 0, 0, 0],\n",
              " [0, 0, 0, 0, 0, 0, 0, 0, 0],\n",
              " [0, 0, 0, 0, 0, 0, 0, 8, 0],\n",
              " [0, 0, 0, 0, 0, 0, 0, 0, 0],\n",
              " [0, 0, 0, 0, 0, 0, 0, 0, 0],\n",
              " [0, 0, 0, 0, 0, 0, 0, 0, 0]]"
            ]
          },
          "metadata": {
            "tags": []
          },
          "execution_count": 37
        }
      ]
    },
    {
      "cell_type": "markdown",
      "metadata": {
        "id": "elEy0Y2W-KD0"
      },
      "source": [
        "## Задача 21 - Сумма квадратов"
      ]
    },
    {
      "cell_type": "markdown",
      "metadata": {
        "id": "9yjtyog3GBrZ"
      },
      "source": [
        "Напишите программу, которая считывает с консоли числа (по одному в строке) до тех пор, пока сумма введённых чисел не будет равна 0 и сразу после этого выводит сумму квадратов всех считанных чисел.\n",
        "\n",
        "Гарантируется, что в какой-то момент сумма введённых чисел окажется равной 0, после этого считывание продолжать не нужно.\n",
        "\n",
        "В примере мы считываем числа 1, -3, 5, -6, -10, 13; в этот момент замечаем, что сумма этих чисел равна нулю и выводим сумму их квадратов, не обращая внимания на то, что остались ещё не прочитанные значения."
      ]
    },
    {
      "cell_type": "code",
      "metadata": {
        "colab": {
          "base_uri": "https://localhost:8080/"
        },
        "id": "3fmrQPaTGCjz",
        "outputId": "88a80d92-d0aa-4a95-9d54-b73a974b3dd8"
      },
      "source": [
        "c = 0\n",
        "s = 0\n",
        "while s != 0 or c == 0:\n",
        "  x = int(input())\n",
        "  s += x \n",
        "  c += x*x\n",
        "  if s == 0 and c == 0:\n",
        "    break\n",
        "print(c)\n"
      ],
      "execution_count": null,
      "outputs": [
        {
          "output_type": "stream",
          "text": [
            "5\n",
            "-5\n",
            "50\n"
          ],
          "name": "stdout"
        }
      ]
    },
    {
      "cell_type": "markdown",
      "metadata": {
        "id": "Y9XYMAB0-VcX"
      },
      "source": [
        "## Задача 22 - Повторяющиеся цифры."
      ]
    },
    {
      "cell_type": "markdown",
      "metadata": {
        "id": "auL7YyCqOPY-"
      },
      "source": [
        "Напишите программу, которая выводит часть последовательности 1 2 2 3 3 3 4 4 4 4 5 5 5 5 5 ... (число повторяется столько раз, чему равно). На вход программе передаётся неотрицательное целое число n — столько элементов последовательности должна отобразить программа. На выходе ожидается последовательность чисел, записанных через пробел в одну строку.\n",
        "\n",
        "Например, если n = 7, то программа должна вывести 1 2 2 3 3 3 4.\n"
      ]
    },
    {
      "cell_type": "code",
      "metadata": {
        "colab": {
          "base_uri": "https://localhost:8080/"
        },
        "id": "wQHFxg-pOO9T",
        "outputId": "11002bc9-cf0f-4696-a1a8-7c19579d37ed"
      },
      "source": [
        "x = int(input())\n",
        "l = []\n",
        "for i in range(x):\n",
        "  l.append(i+1)\n",
        "for j in range(len(l)):\n",
        "  if 1 == len(l):\n",
        "    s = [1]\n",
        "  elif len(l) == 2:\n",
        "    s = [1, 2]  \n",
        "  else:  \n",
        "    s += [j]*j\n",
        "for n in range(x):\n",
        "  print(s[n],'', end='')"
      ],
      "execution_count": null,
      "outputs": [
        {
          "output_type": "stream",
          "text": [
            "7\n",
            "1 2 1 2 2 3 3 "
          ],
          "name": "stdout"
        }
      ]
    },
    {
      "cell_type": "markdown",
      "metadata": {
        "id": "EePJgxYw-y-2"
      },
      "source": [
        "## Задача 23 - Позиция числа."
      ]
    },
    {
      "cell_type": "markdown",
      "metadata": {
        "id": "CErgYDk93F0u"
      },
      "source": [
        "Напишите программу, которая считывает список чисел lst из первой строки и число x из второй строки, которая выводит все позиции, на которых встречается число x в переданном списке lst.\n",
        "\n",
        "Позиции нумеруются с нуля, если число x не встречается в списке, вывести строку \"Отсутствует\" (без кавычек, с большой буквы).\n",
        "\n",
        "Позиции должны быть выведены в одну строку, по возрастанию абсолютного значения.\n"
      ]
    },
    {
      "cell_type": "code",
      "metadata": {
        "id": "AXpsRxOKrJWx",
        "colab": {
          "base_uri": "https://localhost:8080/"
        },
        "outputId": "fe048079-929d-42d1-c962-d6699a436c4c"
      },
      "source": [
        "lst = [int(i) for i in input().split()]\n",
        "x = int(input())\n",
        "c = []\n",
        "poz = -1\n",
        "for i in lst:\n",
        "  poz += 1\n",
        "  if i == x:\n",
        "    c.append(poz)\n",
        "if len(c) == 0:\n",
        "  print('Отсутствует')   \n",
        "else:\n",
        "  print(*c)   \n"
      ],
      "execution_count": null,
      "outputs": [
        {
          "output_type": "stream",
          "text": [
            "5 8 2 7 8 8 2 4\n",
            "7\n",
            "3\n"
          ],
          "name": "stdout"
        }
      ]
    },
    {
      "cell_type": "markdown",
      "metadata": {
        "id": "zdixxUQ6_Q_d"
      },
      "source": [
        "## Задача 24 - Функция."
      ]
    },
    {
      "cell_type": "markdown",
      "metadata": {
        "id": "CPS4clKspMCw"
      },
      "source": [
        "Напишите функцию `modify_list(l)`, которая принимает на вход список целых чисел, удаляет из него все нечётные значения, а чётные нацело делит на два. Функция не должна ничего возвращать, требуется только изменение переданного списка"
      ]
    },
    {
      "cell_type": "code",
      "metadata": {
        "id": "fPZakXkJW6v0",
        "colab": {
          "base_uri": "https://localhost:8080/"
        },
        "outputId": "ad7d7d1f-d4ec-47e8-f4fe-f7b7dd110ffa"
      },
      "source": [
        "def modify_list(l):\n",
        "  res = []\n",
        "  for i in l:\n",
        "    if i % 2 == 1:\n",
        "      continue\n",
        "    elif i % 2 == 0:\n",
        "      res += [int(i/2)]\n",
        "  del l[0:]  \n",
        "  for k in res:\n",
        "    l.append(k)\n",
        "\n",
        "    \n",
        "\n",
        "lst = [1, 2, 3, 4, 5, 6]\n",
        "print(modify_list(lst))  # None\n",
        "print(lst)               # [1, 2, 3]\n",
        "modify_list(lst)\n",
        "print(lst)               # [1]"
      ],
      "execution_count": null,
      "outputs": [
        {
          "output_type": "stream",
          "text": [
            "None\n",
            "[1, 2, 3]\n",
            "[1]\n"
          ],
          "name": "stdout"
        }
      ]
    },
    {
      "cell_type": "markdown",
      "metadata": {
        "id": "M3iLeSEhAJCN"
      },
      "source": [
        "## Задача 25 - Функция."
      ]
    },
    {
      "cell_type": "markdown",
      "metadata": {
        "id": "H9TObv-tWVDP"
      },
      "source": [
        "Напишите функцию `update_dictionary(d, key, value)`, которая принимает на вход словарь d и два числа: key и value.\n",
        "\n",
        "Если ключ key есть в словаре d, то добавьте значение value в список, который хранится по этому ключу.\n",
        "Если ключа key нет в словаре, то нужно добавить значение в список по ключу 2 * key. Если и ключа 2 * key нет, то нужно добавить ключ 2 * key в словарь и сопоставить ему список из переданного элемента [value].\n",
        "\n",
        "Требуется реализовать только эту функцию, кода вне её не должно быть.\n",
        "Функция не должна вызывать внутри себя функции input и print.\n",
        "\n"
      ]
    },
    {
      "cell_type": "code",
      "metadata": {
        "id": "ZjiTUn9gWVvC"
      },
      "source": [
        "def update_dictionary(d, key, value):\n",
        "  if key in d:\n",
        "    d[key].append(value)\n",
        "  elif key not in d:\n",
        "    if 2*key in d:\n",
        "      d[2*key].append(value)\n",
        "    elif 2*key not in d:\n",
        "      d[2*key] = [value]\n"
      ],
      "execution_count": null,
      "outputs": []
    },
    {
      "cell_type": "markdown",
      "metadata": {
        "id": "2RXa4EosAzfW"
      },
      "source": [
        "## Задача 26 - Число повторений."
      ]
    },
    {
      "cell_type": "markdown",
      "metadata": {
        "id": "-tKVvAl2j0Xt"
      },
      "source": [
        "Программа должна считывать одну строку со стандартного ввода и выводить для каждого уникального слова в этой строке число его повторений (без учёта регистра) в формате \"слово количество\" (см. пример вывода).\n",
        "Порядок вывода слов может быть произвольным, каждое уникальное слово﻿ должно выводиться только один раз.\n",
        "\n",
        "**Sample Input 1:**\n",
        "\n",
        "a aa abC aa ac abc bcd a\n",
        "\n",
        "**Sample Output 1:**\n",
        "\n",
        "ac 1\n",
        "a 2\n",
        "abc 2\n",
        "bcd 1\n",
        "aa 2"
      ]
    },
    {
      "cell_type": "code",
      "metadata": {
        "colab": {
          "base_uri": "https://localhost:8080/"
        },
        "id": "YGtmqqg7mrb3",
        "outputId": "4ae56770-1779-46b8-81ff-0be8ebad8122"
      },
      "source": [
        "x = input().lower().split()\n",
        "x.sort()\n",
        "first = x[0]\n",
        "c = 1\n",
        "s = {}\n",
        "\n",
        "for i in range(len(x)):\n",
        "  if x[i] == first and i == 0:\n",
        "    s[x[i]] = [1]\n",
        "  elif x[i] == first:\n",
        "    c += 1\n",
        "    s[x[i]] = [c]\n",
        "  elif x[i] != first:\n",
        "    s[first] = [c]\n",
        "    first = x[i]\n",
        "    c = 1\n",
        "    s[x[i]] = [c]\n",
        "\n",
        "for k in s.keys():\n",
        "  sum_s = 0\n",
        "  for i in s[k]:\n",
        "    sum_s += i\n",
        "  s[k] = sum_s  \n",
        "\n",
        "for key,value in s.items():\n",
        "  print(key, value)    "
      ],
      "execution_count": null,
      "outputs": [
        {
          "output_type": "stream",
          "text": [
            "z Z z\n",
            "z 3\n"
          ],
          "name": "stdout"
        }
      ]
    },
    {
      "cell_type": "markdown",
      "metadata": {
        "id": "JOMXS-EyBI70"
      },
      "source": [
        "## Задача 27 - Декодирование повторов."
      ]
    },
    {
      "cell_type": "markdown",
      "metadata": {
        "id": "5Fr8tZ55BgST"
      },
      "source": [
        "Напишите программу, которая считывает из файла строку, соответствующую тексту, сжатому с помощью кодирования повторов, и производит обратную операцию, получая исходный текст.\n",
        "\n",
        "Запишите полученный текст в файл и прикрепите его, как ответ на это задание.\n",
        "\n",
        "В исходном тексте не встречаются цифры, так что код однозначно интерпретируем.\n"
      ]
    },
    {
      "cell_type": "code",
      "metadata": {
        "colab": {
          "base_uri": "https://localhost:8080/"
        },
        "id": "tYQBalmdG11v",
        "outputId": "b47592e8-b0a8-4a86-bc64-88d98425619b"
      },
      "source": [
        "#x = input()\n",
        "\n",
        "x = 'a3b4c2e10b1'\n",
        "len9 = [str(i) for i in range(10)]\n",
        "finish = ''\n",
        "count = []\n",
        "abc = []\n",
        "for i in x:\n",
        "  if i not in len9:\n",
        "    if len(abc) == 0:\n",
        "      abc.append(i)\n",
        "    elif len(abc) !=0 and i != x[-1]:\n",
        "      c = ''\n",
        "      for k in count:\n",
        "        c += str(k)    \n",
        "      cc = abc[0]*int(c)     \n",
        "      finish += cc\n",
        "      count = []\n",
        "      abc = [i]\n",
        "    elif len(abc) !=0 and i == x[-1]:\n",
        "      s = '' \n",
        "      for k in count:\n",
        "        s += str(k)    \n",
        "      ccc = abc[0]*int(s)     \n",
        "      finish += ccc\n",
        "        \n",
        "  else:\n",
        "    j = int(i)\n",
        "    count.append(j)\n",
        "\n",
        "ss = '' \n",
        "for k in count:\n",
        "  ss += str(k)    \n",
        "cccc = abc[0]*int(ss)     \n",
        "finish += cccc\n",
        "print(finish)    \n",
        "\n",
        "#aaabbbbcceeeeeeeeeeb - правельный ответ"
      ],
      "execution_count": null,
      "outputs": [
        {
          "output_type": "stream",
          "text": [
            "aaabbbbcceeeeeeeeeeb\n"
          ],
          "name": "stdout"
        }
      ]
    },
    {
      "cell_type": "markdown",
      "metadata": {
        "id": "VH3R_D2zCBqM"
      },
      "source": [
        "## Задача 28 - Самое частое слово."
      ]
    },
    {
      "cell_type": "markdown",
      "metadata": {
        "id": "GyIdX_6vGPJK"
      },
      "source": [
        "Напишите программу, которая считывает текст из файла (в файле может быть больше одной строки) и выводит самое частое слово в этом тексте и через пробел то, сколько раз оно встретилось. Если таких слов несколько, вывести лексикографически первое (можно использовать оператор < для строк).\n",
        "\n",
        "Слова, написанные в разных регистрах, считаются одинаковыми.\n",
        "\n",
        "**Sample Input:**\n",
        "\n",
        "abc a bCd bC AbC BC BCD bcd ABC\n",
        "\n",
        "**Sample Output:**\n",
        "\n",
        "abc 3\n"
      ]
    },
    {
      "cell_type": "markdown",
      "metadata": {
        "id": "dn6KTYEjM-Jj"
      },
      "source": [
        "TabYaaTXp TabYaaTXp TabYaaTXp cp TabYaaTXp YbdcUac ZcZcp Za YppUd XZdaX ZTad YppUd TbbbbacX c XZdaX XZdaX ZXccZY d ZcZcp d pbacTZad c Zcad ZcZcp ZXccZY d c ZUYTXbZU Y ZTcXY TaXYY UdYZYadY cp cp Zcbddp cYcYZaba bX XZUpcc\n",
        "TUYpddTba TUYpddTba YcdYddpd TUYpddTba aYbcccdc XapY YcdYddpd abpcZXU p XapY pdUddXbYc YTacTpT XpU XYY bZXXTpda bYdUaUUa TdUY TZYp Xp\n",
        "cUUTZaT UcdTT pbYTbTc YZTbaYcba UcdTT b bacX baY UcdTT aZbdUbTdZ aZbdUbTdZ aXUcbZXY b aZbdUbTdZ ZZcTcUb aYXp aYUUpadZc XUcaT dacdTT dYb YZTbaYcba TY Zp aacT TcZ ppYUY ppYUY UcdTT UcdTT cYcbTZc Zp TU TZcppXUT aXUcbZXY XadT XbbXYZpX dTdUaUX YTTpTX dacdTT ZdYbTa ZdYbTa cca cpdpa aUdTUb cca Xa cca b dacdTT Yp dXUd aYXp dacdTT\n",
        "XTYXpc Y UaadZX Y Y ZT Y Y ZcdaYYTc ZbYb Y pTZ d d UXUcbdaZT YTZYaTcca ZcdaYYTc\n",
        "ZYdpb Y Y apTcdpbb cZUYcbZ adYTpYYYU bp ZbUY cZUYcbZ bTXpY cZUYcbZ a TTXU ZbabUTcdY XU Z YdXZZ bp UUT ZYacb aXXTU TTXU XUpU ZaTYXZbT T TTdcUcZ ZYacb pcdpXdT ddccZ pTZZabU YdXZZ ZZpZdcXXU\n",
        "TbXbZdYTb bXTb bUXTcpX aaZcXa UpdTcZpY XaUUbTXXb TbXbZdYTb aaZcXa bXTb aZUZpaT pT bXTb UUZY TpUc YpTd bXTb YpTd TpcTX TpUc pbXb YpTd bXTb XaUUbTXXb UXYZbZaYp TbXbZdYTb p TbYdTXY TTTcTT TdU pbXb p XaUUbTXXb TadZb pUXddca aaZcXa TbXbZdYTb aaZcXa aaZcXa XaUUbTXXb pT ZXT XaUUbTXXb ZdTYdTZ ZdaUaUbUa\n",
        "YZZc YZZc c YpXUbTTdb bZcdZaYY YZZc YZZc UpbbY bpYYbTaZU YZZc bpYYbTaZU YpXUbTTdb UdbY YZZc YT TcXZcpd YZZc c bpYYbTaZU cXXp aTT Zd bbabZTb pTcZXpd cTTbp ZUdcUX ZZdZpZ YcbZXUU YYZUbaaT UdbY bY YYZUbaaT Y pcaac UZacp ZbXUdbZda UUYcXdT YUYdUda pX XYaU pX YYZUbaaT bZcdZaYY YpdcTX ZbXUdbZda pTapbXX TapU XX\n",
        "TdabTT aUZdUZb TdabTT aUZdUZb a bYpTYZTa bYpTYZTa YdpTdZ cUbcZcXZU ZYXbpaXTZ cYbdaYd UXUcc XTUcbZU XTUcbZU\n",
        "TdTppUT XU aZXYc Xp acTTXb bUcpp TdTppUT TYYpapTpZ TYYY YcXdaTaTZ dbap XUXUbY dYXpTa caYdac TdTppUT YaccbTad TbpdapY TdTppUT dYXpTa aaZX XpTXpUTU cTdZXcUbY XU dYXpTa dTcaba adUpb XUXUbY ZT pp Xp cdYcaZ acTTXb\n",
        "p cTZcbpYXY cdYpdX Zcaa YadaT YaY Y c XUccUZUbU Zcaa UYaac pcTddUbY Zcaa bYcYTd bcXcac c\n",
        "abTZdTUUT pdb Udd UbaUTapXd UUaUYTZY Udd UbaUTapXd pdb pb UbaUTapXd XTXTdbXd ZTUaYpp Zappd cpZdaT Udd dXabXTXpp dX pdb UaUbXdUU YYXbXYYX XaUYT UbaUTapXd Yp cUdTabZ bY cTUbT T Yp ZUa aXpUpabbT cpaaZ Udd TTXYZabU Up cUdTabZ ZUa bbbZZdY Udd X pZXXb cpaaZ\n"
      ]
    },
    {
      "cell_type": "code",
      "metadata": {
        "colab": {
          "base_uri": "https://localhost:8080/"
        },
        "id": "d5iLsoOWDdR7",
        "outputId": "2d91a4de-52bd-4cb6-e83d-8ff9651bc722"
      },
      "source": [
        "x = input().lower().split()\n",
        "x.sort()\n",
        "l = len(x)\n",
        "cnt=1\n",
        "word = {}\n",
        "for i in range(l):\n",
        "    if i==(l-1):\n",
        "        word[x[i]] = cnt\n",
        "    else:\n",
        "        if x[i]==x[i+1]:\n",
        "            cnt=cnt+1\n",
        "        else:\n",
        "            word[x[i]] = cnt\n",
        "            cnt=1\n",
        "often_word = ''\n",
        "cnt2 = 0\n",
        "for key in word.keys():\n",
        "  if word[key] > cnt2:\n",
        "    often_word = key\n",
        "    cnt2 = word[key]\n",
        "  elif word[key] == cnt2:\n",
        "    if key < often_word:\n",
        "      often_word = key\n",
        "    elif key > often_word:\n",
        "      continue\n",
        "  elif word[key] < cnt2:\n",
        "    continue\n",
        "\n",
        "print(often_word, cnt2)      \n",
        "\n",
        "# ответ y 11"
      ],
      "execution_count": null,
      "outputs": [
        {
          "output_type": "stream",
          "text": [
            "TabYaaTXp TabYaaTXp TabYaaTXp cp TabYaaTXp YbdcUac ZcZcp Za YppUd XZdaX ZTad YppUd TbbbbacX c XZdaX XZdaX ZXccZY d ZcZcp d pbacTZad c Zcad ZcZcp ZXccZY d c ZUYTXbZU Y ZTcXY TaXYY UdYZYadY cp cp Zcbddp cYcYZaba bX XZUpcc TUYpddTba TUYpddTba YcdYddpd TUYpddTba aYbcccdc XapY YcdYddpd abpcZXU p XapY pdUddXbYc YTacTpT XpU XYY bZXXTpda bYdUaUUa TdUY TZYp Xp cUUTZaT UcdTT pbYTbTc YZTbaYcba UcdTT b bacX baY UcdTT aZbdUbTdZ aZbdUbTdZ aXUcbZXY b aZbdUbTdZ ZZcTcUb aYXp aYUUpadZc XUcaT dacdTT dYb YZTbaYcba TY Zp aacT TcZ ppYUY ppYUY UcdTT UcdTT cYcbTZc Zp TU TZcppXUT aXUcbZXY XadT XbbXYZpX dTdUaUX YTTpTX dacdTT ZdYbTa ZdYbTa cca cpdpa aUdTUb cca Xa cca b dacdTT Yp dXUd aYXp dacdTT XTYXpc Y UaadZX Y Y ZT Y Y ZcdaYYTc ZbYb Y pTZ d d UXUcbdaZT YTZYaTcca ZcdaYYTc ZYdpb Y Y apTcdpbb cZUYcbZ adYTpYYYU bp ZbUY cZUYcbZ bTXpY cZUYcbZ a TTXU ZbabUTcdY XU Z YdXZZ bp UUT ZYacb aXXTU TTXU XUpU ZaTYXZbT T TTdcUcZ ZYacb pcdpXdT ddccZ pTZZabU YdXZZ ZZpZdcXXU TbXbZdYTb bXTb bUXTcpX aaZcXa UpdTcZpY XaUUbTXXb TbXbZdYTb aaZcXa bXTb aZUZpaT pT bXTb UUZY TpUc YpTd bXTb YpTd TpcTX TpUc pbXb YpTd bXTb XaUUbTXXb UXYZbZaYp TbXbZdYTb p TbYdTXY TTTcTT TdU pbXb p XaUUbTXXb TadZb pUXddca aaZcXa TbXbZdYTb aaZcXa aaZcXa XaUUbTXXb pT ZXT XaUUbTXXb ZdTYdTZ ZdaUaUbUa YZZc YZZc c YpXUbTTdb bZcdZaYY YZZc YZZc UpbbY bpYYbTaZU YZZc bpYYbTaZU YpXUbTTdb UdbY YZZc YT TcXZcpd YZZc c bpYYbTaZU cXXp aTT Zd bbabZTb pTcZXpd cTTbp ZUdcUX ZZdZpZ YcbZXUU YYZUbaaT UdbY bY YYZUbaaT Y pcaac UZacp ZbXUdbZda UUYcXdT YUYdUda pX XYaU pX YYZUbaaT bZcdZaYY YpdcTX ZbXUdbZda pTapbXX TapU XX TdabTT aUZdUZb TdabTT aUZdUZb a bYpTYZTa bYpTYZTa YdpTdZ cUbcZcXZU ZYXbpaXTZ cYbdaYd UXUcc XTUcbZU XTUcbZU TdTppUT XU aZXYc Xp acTTXb bUcpp TdTppUT TYYpapTpZ TYYY YcXdaTaTZ dbap XUXUbY dYXpTa caYdac TdTppUT YaccbTad TbpdapY TdTppUT dYXpTa aaZX XpTXpUTU cTdZXcUbY XU dYXpTa dTcaba adUpb XUXUbY ZT pp Xp cdYcaZ acTTXb p cTZcbpYXY cdYpdX Zcaa YadaT YaY Y c XUccUZUbU Zcaa UYaac pcTddUbY Zcaa bYcYTd bcXcac c abTZdTUUT pdb Udd UbaUTapXd UUaUYTZY Udd UbaUTapXd pdb pb UbaUTapXd XTXTdbXd ZTUaYpp Zappd cpZdaT Udd dXabXTXpp dX pdb UaUbXdUU YYXbXYYX XaUYT UbaUTapXd Yp cUdTabZ bY cTUbT T Yp ZUa aXpUpabbT cpaaZ Udd TTXYZabU Up cUdTabZ ZUa bbbZZdY Udd X pZXXb cpaaZ\n",
            "y 11\n"
          ],
          "name": "stdout"
        }
      ]
    },
    {
      "cell_type": "markdown",
      "metadata": {
        "id": "IyqCHh5ICfye"
      },
      "source": [
        "## Задача 29 - Средняя оценка по трём предметам."
      ]
    },
    {
      "cell_type": "markdown",
      "metadata": {
        "id": "kEqp0qhxO2YY"
      },
      "source": [
        "Имеется файл с данными по успеваемости абитуриентов. Он представляет из себя набор строк, где в каждой строке записана следующая информация:\n",
        "\n",
        "Фамилия; Оценка_по_математике; Оценка_по_физике; Оценка_по_русскому_языку\n",
        "\n",
        "Поля внутри строки разделены точкой с запятой, оценки — целые числа.\n",
        "\n",
        "Напишите программу, которая считывает исходный файл с подобной структурой и для каждого абитуриента записывает его среднюю оценку по трём предметам на отдельной строке, соответствующей этому абитуриенту, в файл с ответом.\n",
        "\n",
        "Также вычислите средние баллы по математике, физике и русскому языку по всем абитуриентам и добавьте полученные значения, разделённые пробелом, последней строкой в файл с ответом.\n",
        "\n",
        "В качестве ответа на задание прикрепите полученный файл со средними оценками по каждому ученику и одной строкой со средними оценками по трём предметам.\n",
        "\n",
        "**Sample Input:**\n",
        "\n",
        "Петров;85;92;78  \n",
        "Сидоров;100;88;94  \n",
        "Иванов;58;72;85  \n",
        "\n",
        "**Sample Output:**\n",
        "\n",
        "85.0  \n",
        "94.0  \n",
        "71.666666667  \n",
        "81.0 84.0 85.666666667  "
      ]
    },
    {
      "cell_type": "markdown",
      "metadata": {
        "id": "qru4i7gfG-HZ"
      },
      "source": [
        "Murphy;53;57;46\n",
        "Bradberry;40;69;98\n",
        "Bargeman;41;80;79\n",
        "Faber;56;73;99\n",
        "Vaughan;39;93;97\n",
        "Brickman;80;98;77\n",
        "Salomon;62;60;95\n",
        "Elmers;66;29;73\n",
        "Wallace;94;64;64\n",
        "Archibald;46;50;51\n",
        "Adderiy;33;94;85\n",
        "Mackenzie;51;52;88\n",
        "Mason;50;71;60\n",
        "Bradshaw;52;96;98\n",
        "Austin;59;57;86\n",
        "Charlson;33;87;89\n",
        "Carrington;85;57;93\n",
        "Kendal;27;65;26\n",
        "Parson;55;83;27\n",
        "Gerald;98;82;58\n",
        "Saunder;75;84;79\n",
        "Andrews;68;44;79\n",
        "Carter;35;98;47\n",
        "Ferguson;70;46;48\n",
        "Stevenson;65;37;37\n",
        "Coleman;38;94;44\n",
        "Dyson;67;27;84\n",
        "Thomson;46;99;74\n",
        "Addington;44;24;48\n",
        "WifKinson;65;42;27\n",
        "Aldridge;61;91;85\n",
        "Kelly;40;25;77\n",
        "Fitzgerald;36;34;24\n",
        "Holmes;45;48;56\n",
        "Nyman;87;27;89\n",
        "Thorndike;56;41;74\n",
        "Jeff;37;30;66\n",
        "Lawman;59;92;29\n",
        "Jones;55;48;26\n",
        "Jacobson;74;84;52\n",
        "Finch;65;100;53\n",
        "Morrison;42;82;25\n",
        "Anderson;39;83;41\n",
        "Leman;46;56;66\n",
        "Neal;64;76;52\n",
        "Howard;70;63;100\n",
        "Fulton;92;35;84\n",
        "Fane;49;85;83\n",
        "Peacock;53;71;65\n",
        "MacDonald;49;87;42\n",
        "Goodman;81;26;65\n",
        "Simpson;63;75;85\n",
        "Campbell;46;75;56\n",
        "Dowman;97;61;85\n",
        "Forster;29;60;47\n",
        "Flatcher;84;94;47\n",
        "Owen;83;66;52\n",
        "Parkinson;43;53;58\n",
        "Hoggarth;76;51;61\n",
        "Miller;98;67;68\n",
        "Conors;97;72;52\n",
        "Enderson;46;42;95\n",
        "Brown;78;63;51\n",
        "Timmons;84;70;74\n",
        "Wesley;25;88;95\n",
        "Shorter;53;68;47\n",
        "Cook;33;100;44\n",
        "Roger;85;59;32\n",
        "Ward;79;58;82\n",
        "Holiday;87;58;54\n",
        "Davidson;40;28;30\n",
        "Milton;92;74;87\n",
        "Eddington;41;83;57\n",
        "Young;45;59;32\n",
        "Page;43;70;35\n",
        "Garrison;27;71;85\n",
        "Evans;37;88;76\n",
        "Black;44;40;68\n",
        "Philips;33;70;67\n",
        "\n"
      ]
    },
    {
      "cell_type": "code",
      "metadata": {
        "colab": {
          "base_uri": "https://localhost:8080/"
        },
        "id": "Jm5M6bQOO7iU",
        "outputId": "83ee7392-e3b9-467b-f4bf-1bdcbb534b66"
      },
      "source": [
        "x = input().split('\\n')\n",
        "x = x[0].split(' ')\n",
        "\n",
        "z = []\n",
        "for i in x:\n",
        "  s = i.split(';')\n",
        "  z.append(s)\n",
        "\n",
        "for k in z:\n",
        "  print((int(k[1])+int(k[2])+int(k[3]))/3)\n",
        "\n",
        "mat, fiz, rus = 0, 0, 0\n",
        "\n",
        "for j in z:\n",
        "  mat += int(j[1])\n",
        "  fiz += int(j[2])\n",
        "  rus += int(j[3]) \n",
        "\n",
        "mat = mat / len(z)\n",
        "fiz = fiz / len(z)\n",
        "rus = rus / len(z)\n",
        "\n",
        "print(mat, fiz, rus)"
      ],
      "execution_count": null,
      "outputs": [
        {
          "output_type": "stream",
          "text": [
            "Winter;29;32;92 Marlow;89;42;30 Gilmore;52;67;73 Ford;91;48;36 Gilson;37;36;75 Bargeman;36;95;31 Baldwin;98;64;80 Gustman;43;64;42 Marshman;51;35;78 Blare;72;94;69 James;28;66;74 Oswald;52;95;89 Goldman;42;49;53 Finch;68;53;68 Becker;36;37;42 Taylor;28;80;75 Charlson;34;50;34 Chesterton;61;71;74 Little;42;57;62 Lamberts;67;38;96 Pass;33;66;29 Fisher;54;81;88 Stephen;86;78;94 Jones;42;91;42 Freeman;72;36;57 Black;70;47;51 Harrison;67;80;61 Parkinson;95;65;56 Carrington;62;27;73 Oldman;84;37;88 Oakman;89;83;76 Austin;37;46;95 Raleigh;42;31;47 Bush;76;79;96 Conors;99;50;72 Flannagan;98;69;66 Gardner;30;27;40 Andrews;41;49;35 Bradberry;39;99;67 Stevenson;55;56;75 Mason;48;74;69 Simpson;56;49;77 Reynolds;78;71;60 Benson;42;57;100 Osborne;95;63;39 Hamphrey;31;25;66 Kennett;70;27;68 Jerome;64;64;76 Bradshaw;85;46;66 Coleman;39;57;43 Ferguson;53;30;100 Bishop;54;85;57 Molligan;97;33;100 Wayne;67;85;36 Goodman;54;79;46 Macey;100;45;48 Alsopp;43;47;63 Larkins;67;98;64 Vaughan;75;30;54 Peacock;99;34;64 Sykes;90;66;77 Shackley;36;28;99 Shorter;51;54;64 Smith;55;84;24 Wesley;91;88;86 Ramacey;42;50;81 Daniels;33;73;69 Aldridge;49;39;87\n",
            "51.0\n",
            "53.666666666666664\n",
            "64.0\n",
            "58.333333333333336\n",
            "49.333333333333336\n",
            "54.0\n",
            "80.66666666666667\n",
            "49.666666666666664\n",
            "54.666666666666664\n",
            "78.33333333333333\n",
            "56.0\n",
            "78.66666666666667\n",
            "48.0\n",
            "63.0\n",
            "38.333333333333336\n",
            "61.0\n",
            "39.333333333333336\n",
            "68.66666666666667\n",
            "53.666666666666664\n",
            "67.0\n",
            "42.666666666666664\n",
            "74.33333333333333\n",
            "86.0\n",
            "58.333333333333336\n",
            "55.0\n",
            "56.0\n",
            "69.33333333333333\n",
            "72.0\n",
            "54.0\n",
            "69.66666666666667\n",
            "82.66666666666667\n",
            "59.333333333333336\n",
            "40.0\n",
            "83.66666666666667\n",
            "73.66666666666667\n",
            "77.66666666666667\n",
            "32.333333333333336\n",
            "41.666666666666664\n",
            "68.33333333333333\n",
            "62.0\n",
            "63.666666666666664\n",
            "60.666666666666664\n",
            "69.66666666666667\n",
            "66.33333333333333\n",
            "65.66666666666667\n",
            "40.666666666666664\n",
            "55.0\n",
            "68.0\n",
            "65.66666666666667\n",
            "46.333333333333336\n",
            "61.0\n",
            "65.33333333333333\n",
            "76.66666666666667\n",
            "62.666666666666664\n",
            "59.666666666666664\n",
            "64.33333333333333\n",
            "51.0\n",
            "76.33333333333333\n",
            "53.0\n",
            "65.66666666666667\n",
            "77.66666666666667\n",
            "54.333333333333336\n",
            "56.333333333333336\n",
            "54.333333333333336\n",
            "88.33333333333333\n",
            "57.666666666666664\n",
            "58.333333333333336\n",
            "58.333333333333336\n",
            "60.161764705882355 58.10294117647059 65.6470588235294\n"
          ],
          "name": "stdout"
        }
      ]
    },
    {
      "cell_type": "markdown",
      "metadata": {
        "id": "gnrnmAf4DYBm"
      },
      "source": [
        "## Задача 30 - Радиус периметр круга."
      ]
    },
    {
      "cell_type": "markdown",
      "metadata": {
        "id": "abjQwYCKD_rn"
      },
      "source": [
        "Напишите программу, которая подключает модуль math и, используя значение числа π из этого модуля, находит для переданного ей на стандартный ввод радиуса круга периметр этого круга и выводит его на стандартный вывод."
      ]
    },
    {
      "cell_type": "code",
      "metadata": {
        "id": "04rAqgGTNH0H",
        "colab": {
          "base_uri": "https://localhost:8080/"
        },
        "outputId": "425e497a-f41c-44c5-e828-d4793855c5cc"
      },
      "source": [
        "import math \n",
        "x = float(input())\n",
        "print(2*x*math.pi)"
      ],
      "execution_count": null,
      "outputs": [
        {
          "output_type": "stream",
          "text": [
            "10\n",
            "62.83185307179586\n"
          ],
          "name": "stdout"
        }
      ]
    },
    {
      "cell_type": "markdown",
      "metadata": {
        "id": "KI7GcflvDuOJ"
      },
      "source": [
        "## Задача 31 - Прямоугольная матрица."
      ]
    },
    {
      "cell_type": "markdown",
      "metadata": {
        "id": "NKWBWKujks7X"
      },
      "source": [
        "Напишите программу, на вход которой подаётся прямоугольная матрица в виде последовательности строк, заканчивающихся строкой, содержащей только строку \"end\" (без кавычек)\n",
        "\n",
        "Программа должна вывести матрицу того же размера, у которой каждый элемент в позиции i, j равен сумме элементов первой матрицы на позициях (i-1, j), (i+1, j), (i, j-1), (i, j+1). У крайних символов соседний элемент находится с противоположной стороны матрицы.\n",
        "\n",
        "В случае одной строки/столбца элемент сам себе является соседом по соответствующему направлению.\n",
        "\n",
        " 9 5  3  \n",
        " 0 7 -1  \n",
        "-5 2  9  \n",
        "end  "
      ]
    },
    {
      "cell_type": "code",
      "metadata": {
        "colab": {
          "base_uri": "https://localhost:8080/"
        },
        "id": "C7SK6JjLiNUV",
        "outputId": "dbbc2364-3409-4cd5-ee79-29b7b696980c"
      },
      "source": [
        "matrix = []\n",
        "\n",
        "while True:\n",
        "    n = str(input())\n",
        "    if n == 'end':\n",
        "        break\n",
        "    matrix.append([int(s) for s in n.split()])\n",
        "\n",
        "out_matrix = [[0 for j in range(len(matrix[i]))] for i in range(len(matrix))]\n",
        "\n",
        "for i in range(len(matrix)):\n",
        "    for j in range(len(matrix[i])):\n",
        "        st = len(matrix)\n",
        "        stlb = len(matrix[0])\n",
        "        out_matrix[i][j]=int(matrix[i-1][j]) + int(matrix[(i+1)%st][j]) + int(matrix[i][j-1]) + int(matrix[i][(j+1)%stlb])\n",
        "\n",
        "for i in range(len(out_matrix)):\n",
        "    for j in range(len(out_matrix[i])):\n",
        "        print(out_matrix[i][j],end = ' ')\n",
        "    print()"
      ],
      "execution_count": null,
      "outputs": [
        {
          "output_type": "stream",
          "text": [
            "9 5 3\n",
            "0 7 -1\n",
            "-5 2 9\n",
            "end\n",
            "3 21 22 \n",
            "10 6 19 \n",
            "20 16 -1 \n"
          ],
          "name": "stdout"
        }
      ]
    },
    {
      "cell_type": "markdown",
      "metadata": {
        "id": "ipqpaaLZEyHl"
      },
      "source": [
        "## Задача 32 - Таблица заполненная числами по спирали."
      ]
    },
    {
      "cell_type": "markdown",
      "metadata": {
        "id": "KDUgE_P9pV-d"
      },
      "source": [
        "Выведите таблицу размером n×n, заполненную числами от 1 до n^2 по спирали, выходящей из левого верхнего угла и закрученной по часовой стрелке"
      ]
    },
    {
      "cell_type": "code",
      "metadata": {
        "colab": {
          "base_uri": "https://localhost:8080/"
        },
        "id": "Nck4ma4ho42d",
        "outputId": "db00e0c8-7239-41ee-fd27-654525b14802"
      },
      "source": [
        "side = int(input())\n",
        "\n",
        "'''заполняем квадратную матрицу нулями'''\n",
        "matrix = [[0 for j in range(0, side)] for i in range(0, side)]\n",
        "\n",
        "def go(chetnost):\n",
        "    number = 1\n",
        "    stroka = 0\n",
        "    stolbec = side-1\n",
        "    n=1\n",
        "\n",
        "    while number < side**2-chetnost:\n",
        "        for k in range(0, 2):\n",
        "            for j in range(stroka, stolbec, n):\n",
        "                matrix[stroka][j] = number\n",
        "                number +=1\n",
        "\n",
        "            for i in range(stroka, stolbec, n):\n",
        "                matrix[i][stolbec] = number\n",
        "                number +=1\n",
        "\n",
        "            stroka,stolbec = stolbec,stroka\n",
        "            n = n*(-1)\n",
        "            k+=1\n",
        "\n",
        "        stroka +=1\n",
        "        stolbec -=1\n",
        "if side%2 == 0:\n",
        "    go(1)\n",
        "\n",
        "else:\n",
        "    go(0)\n",
        "    matrix[int(side/2)][(int(side/2))] = side**2\n",
        "\n",
        "'''выводим матрицу на экран'''\n",
        "for i in range(0, side):\n",
        "    for j in range(0, side):\n",
        "        print(matrix[i][j], end=\" \")\n",
        "    print()"
      ],
      "execution_count": null,
      "outputs": [
        {
          "output_type": "stream",
          "text": [
            "3\n",
            "1 2 3 \n",
            "8 9 4 \n",
            "7 6 5 \n"
          ],
          "name": "stdout"
        }
      ]
    },
    {
      "cell_type": "markdown",
      "metadata": {
        "id": "W0AYqYeWFg9g"
      },
      "source": [
        "## Задача 33 - Сводняя таблица результатов футбольных команд."
      ]
    },
    {
      "cell_type": "markdown",
      "metadata": {
        "id": "mxRF1UVCFpAl"
      },
      "source": [
        "Напишите программу, которая принимает на стандартный вход список игр футбольных команд с результатом матча и выводит на стандартный вывод сводную таблицу результатов всех матчей.\n",
        "\n",
        "За победу команде начисляется 3 очка, за поражение — 0, за ничью — 1.\n",
        "\n",
        "**Формат ввода следующий:**  \n",
        "В первой строке указано целое число n — количество завершенных игр.\n",
        "После этого идет n строк, в которых записаны результаты игры в следующем формате:  \n",
        "Первая_команда;Забито_первой_командой;Вторая_команда;Забито_второй_командой\n",
        "\n",
        "**Вывод программы необходимо оформить следующим образом:**  \n",
        "Команда: Всего_игр Побед Ничьих Поражений Всего_очков\n",
        "\n",
        "Конкретный пример ввода-вывода приведён ниже.\n",
        "\n",
        "Порядок вывода команд произвольный.\n",
        "\n",
        "**Sample Input:**\n",
        "\n",
        "3\n",
        "\n",
        "Спартак;9;Зенит;10\n",
        "\n",
        "Локомотив;12;Зенит;3\n",
        "\n",
        "Спартак;8;Локомотив;15\n",
        "  \n",
        "  \n",
        "  \n",
        "**Sample Output:**\n",
        "\n",
        "Спартак: 2 0 0 2 0\n",
        "\n",
        "Зенит: 2 1 0 1 3\n",
        "\n",
        "Локомотив: 2 2 0 0 6"
      ]
    },
    {
      "cell_type": "code",
      "metadata": {
        "id": "naPhrg99HtkH",
        "colab": {
          "base_uri": "https://localhost:8080/"
        },
        "outputId": "13c59913-a14c-4dea-e07a-a81e3edff7a6"
      },
      "source": [
        "n = int(input())\n",
        "x = []\n",
        "for i in range(n):\n",
        "  x.append(input().split(';'))\n",
        "\n",
        "tab = {}\n",
        "for j in x:\n",
        "  if int(j[1]) == int(j[3]):\n",
        "    if j[0] in tab and j[2] in tab:\n",
        "      tab[j[0]] += ['draw']\n",
        "      tab[j[2]] += ['draw']\n",
        "    elif j[0] not in tab and j[2] not in tab:\n",
        "      tab[j[0]] = ['draw']\n",
        "      tab[j[2]] = ['draw'] \n",
        "    elif j[0] in tab and j[2] not in tab:\n",
        "      tab[j[0]] += ['draw']\n",
        "      tab[j[2]] = ['draw']  \n",
        "    elif j[0] not in tab and j[2] in tab:\n",
        "      tab[j[0]] = ['draw']\n",
        "      tab[j[2]] += ['draw'] \n",
        "  elif int(j[1]) > int(j[3]):\n",
        "     if j[0] in tab and j[2] in tab:\n",
        "      tab[j[0]] += ['win']\n",
        "      tab[j[2]] += ['lose']\n",
        "     elif j[0] not in tab and j[2] not in tab:\n",
        "      tab[j[0]] = ['win']\n",
        "      tab[j[2]] = ['lose'] \n",
        "     elif j[0] in tab and j[2] not in tab:\n",
        "      tab[j[0]] += ['win']\n",
        "      tab[j[2]] = ['lose']  \n",
        "     elif j[0] not in tab and j[2] in tab:\n",
        "      tab[j[0]] = ['win']\n",
        "      tab[j[2]] += ['lose']\n",
        "  elif int(j[1]) < int(j[3]):\n",
        "     if j[0] in tab and j[2] in tab:\n",
        "      tab[j[0]] += ['lose']\n",
        "      tab[j[2]] += ['win']\n",
        "     elif j[0] not in tab and j[2] not in tab:\n",
        "      tab[j[0]] = ['lose']\n",
        "      tab[j[2]] = ['win'] \n",
        "     elif j[0] in tab and j[2] not in tab:\n",
        "      tab[j[0]] += ['lose']\n",
        "      tab[j[2]] = ['win']  \n",
        "     elif j[0] not in tab and j[2] in tab:\n",
        "      tab[j[0]] = ['lose']\n",
        "      tab[j[2]] += ['win']    \n",
        "\n",
        "for key,value in tab.items():\n",
        "  w = 0\n",
        "  d = 0\n",
        "  l = 0\n",
        "  for v in value:\n",
        "    if v == 'win':\n",
        "      w += 1\n",
        "    elif v == 'draw':\n",
        "      d += 1\n",
        "    else:\n",
        "      l += 1\n",
        "  s = w*3 + d*1 + l*0\n",
        "  c = w + l + d\n",
        "  fi = f'{key}: {c} {w} {d} {l} {s}'\n",
        "  print(fi)\n",
        "\n",
        "\n",
        "    \n"
      ],
      "execution_count": null,
      "outputs": [
        {
          "output_type": "stream",
          "text": [
            "1\n",
            "Спартак;9;Зенит;10\n",
            "Спартак: 1 0 0 1 0\n",
            "Зенит: 1 1 0 0 3\n"
          ],
          "name": "stdout"
        }
      ]
    },
    {
      "cell_type": "markdown",
      "metadata": {
        "id": "W8VpLyTAGty3"
      },
      "source": [
        "## Задача 34 - Шифровать расшифровывать шифр."
      ]
    },
    {
      "cell_type": "markdown",
      "metadata": {
        "id": "EwDUtuUT-cRS"
      },
      "source": [
        "В какой-то момент в Институте биоинформатики биологи перестали понимать, что говорят информатики: они говорили каким-то странным набором звуков.\n",
        "\n",
        "В какой-то момент один из биологов раскрыл секрет информатиков: они использовали при общении подстановочный шифр, т.е. заменяли каждый символ исходного сообщения на соответствующий ему другой символ. Биологи раздобыли ключ к шифру и теперь нуждаются в помощи:\n",
        "\n",
        "Напишите программу, которая умеет шифровать и расшифровывать шифр подстановки. Программа принимает на вход две строки одинаковой длины, на первой строке записаны символы исходного алфавита, на второй строке — символы конечного алфавита, после чего идёт строка, которую нужно зашифровать переданным ключом, и ещё одна строка, которую нужно расшифровать.\n",
        "\n",
        "Пусть, например, на вход программе передано:\n",
        "\n",
        "**Sample Input:**\n",
        "\n",
        "dcba  \n",
        "badc  \n",
        "dcba  \n",
        "badc  \n",
        "\n",
        "**Sample Output:**\n",
        "\n",
        "badc  \n",
        "dcba  \n"
      ]
    },
    {
      "cell_type": "code",
      "metadata": {
        "colab": {
          "base_uri": "https://localhost:8080/"
        },
        "id": "cS-sACP4nUK2",
        "outputId": "6a08d892-828e-44aa-8851-5b1e9e756d92"
      },
      "source": [
        "a = input()\n",
        "b = input()\n",
        "c = input()\n",
        "d = input()\n",
        "\n",
        "cod = {}\n",
        "for i in range(len(a)):\n",
        "  cod[a[i]] = b[i]\n",
        "\n",
        "recod = {}\n",
        "for i in range(len(a)):\n",
        "  recod[b[i]] = a[i]\n",
        "\n",
        "for i in c:\n",
        "  print(cod[i],end='')\n",
        "\n",
        "print()\n",
        "\n",
        "for i in d:\n",
        "  print(recod[i], end='')"
      ],
      "execution_count": null,
      "outputs": [
        {
          "output_type": "stream",
          "text": [
            "abcd\n",
            "*d%#\n",
            "abacabadaba\n",
            "#*%*d*%\n",
            "*d*%*d*#*d*\n",
            "dacabac"
          ],
          "name": "stdout"
        }
      ]
    },
    {
      "cell_type": "markdown",
      "metadata": {
        "id": "UMWBokAwIiTa"
      },
      "source": [
        "## Задача 35 - Система проверки орфографии."
      ]
    },
    {
      "cell_type": "markdown",
      "metadata": {
        "id": "CXlkURDX_m_0"
      },
      "source": [
        "Простейшая система проверки орфографии может быть основана на использовании списка известных слов.\n",
        "Если введённое слово не найдено в этом списке, оно помечается как \"ошибка\".\n",
        "\n",
        "Попробуем написать подобную систему.\n",
        "\n",
        "На вход программе первой строкой передаётся количество d известных нам слов, после чего на d строках указываются эти слова. Затем передаётся количество l строк текста для проверки, после чего l строк текста.\n",
        "\n",
        "Выведите уникальные \"ошибки\" в произвольном порядке. Работу производите без учёта регистра."
      ]
    },
    {
      "cell_type": "code",
      "metadata": {
        "colab": {
          "base_uri": "https://localhost:8080/"
        },
        "id": "5a5vRWdZ-fDA",
        "outputId": "79ca3b85-1fa4-434d-9a61-b491f2b56775"
      },
      "source": [
        "d = int(input())\n",
        "word = set()\n",
        "for i in range(d):\n",
        "  word.add(input().lower())\n",
        "\n",
        "l = int(input())\n",
        "error = set()\n",
        "for i in range(l):\n",
        "  x = input().lower().split()\n",
        "  for j in x:\n",
        "    if j not in word:\n",
        "      error.add(j)\n",
        "\n",
        "for i in error:\n",
        "  print(i)     \n"
      ],
      "execution_count": null,
      "outputs": [
        {
          "output_type": "stream",
          "text": [
            "4\n",
            "champions\n",
            "we\n",
            "are\n",
            "Stepik\n",
            "3\n",
            "We are the champignons\n",
            "We Are The Champions\n",
            "Stepic\n",
            "we\n",
            "are\n",
            "the\n",
            "champignons\n",
            "we\n",
            "are\n",
            "the\n",
            "champignons\n",
            "we\n",
            "are\n",
            "the\n",
            "champions\n",
            "stepic\n"
          ],
          "name": "stdout"
        }
      ]
    },
    {
      "cell_type": "markdown",
      "metadata": {
        "id": "QFZfFQceJDBy"
      },
      "source": [
        "## Задача 36 - Черепашка."
      ]
    },
    {
      "cell_type": "markdown",
      "metadata": {
        "id": "TLv9eCybEnPp"
      },
      "source": [
        "Группа биологов в институте биоинформатики завела себе черепашку.\n",
        "\n",
        "После дрессировки черепашка научилась понимать и запоминать указания биологов следующего вида:\n",
        "север 10  \n",
        "запад 20  \n",
        "юг 30  \n",
        "восток 40  \n",
        "где первое слово — это направление, в котором должна двигаться черепашка, а число после слова — это положительное расстояние в сантиметрах, которое должна пройти черепашка.\n",
        "\n",
        "Но команды даются быстро, а черепашка ползёт медленно, и программисты догадались, что можно написать программу, которая определит, куда в итоге биологи приведут черепашку. Для этого программисты просят вас написать программу, которая выведет точку, в которой окажется черепашка после всех команд. Для простоты они решили считать, что движение начинается в точке (0, 0), и движение на восток увеличивает первую координату, а на север — вторую.\n",
        "\n",
        "Программе подаётся на вход число команд n, которые нужно выполнить черепашке, после чего n строк с самими командами. Вывести нужно два числа в одну строку: первую и вторую координату конечной точки черепашки. Все координаты целочисленные.\n",
        "  \n",
        "**Sample Input:**  \n",
        "  \n",
        "4  \n",
        "север 10  \n",
        "запад 20  \n",
        "юг 30  \n",
        "восток 40  \n",
        "  \n",
        "**Sample Output:**  \n",
        "  \n",
        "20 -20   "
      ]
    },
    {
      "cell_type": "code",
      "metadata": {
        "colab": {
          "base_uri": "https://localhost:8080/"
        },
        "id": "xbJiAIK9En9y",
        "outputId": "ec148dcc-0e88-4004-ed18-a35d279c91ed"
      },
      "source": [
        "n = int(input())\n",
        "comand = []\n",
        "for i in range(n):\n",
        "  x = input().split()\n",
        "  comand.append(x)\n",
        "\n",
        "x, y = 0 , 0\n",
        "for i in comand:\n",
        "  if i[0] == 'север':\n",
        "    y += int(i[1])\n",
        "  elif i[0] == 'юг':\n",
        "    y += int(i[1])  \n",
        "  elif i[0] == 'восток':\n",
        "    x += int(i[1])  \n",
        "  elif i[0] == 'запад':\n",
        "    x -= int(i[1])      \n",
        "\n",
        "print(x, y)\n",
        "\n",
        "\n",
        "\n"
      ],
      "execution_count": null,
      "outputs": [
        {
          "output_type": "stream",
          "text": [
            "1\n",
            "восток 40\n",
            "40 0\n"
          ],
          "name": "stdout"
        }
      ]
    },
    {
      "cell_type": "markdown",
      "metadata": {
        "id": "LSNCeEtBJhKb"
      },
      "source": [
        "## Задача 37 - Средний рост учащегося."
      ]
    },
    {
      "cell_type": "markdown",
      "metadata": {
        "id": "kI0sr3R-MepH"
      },
      "source": [
        "Дан файл с таблицей в формате TSV с информацией о росте школьников разных классов.\n",
        "\n",
        "Напишите программу, которая прочитает этот файл и подсчитает для каждого класса средний рост учащегося.\n",
        "\n",
        "Файл состоит из набора строк, каждая из которых представляет собой три поля:\n",
        "Класс Фамилия Рост\n",
        "\n",
        "Класс обозначается только числом. Буквенные модификаторы не используются. Номер класса может быть от 1 до 11 включительно. В фамилии нет пробелов, а в качестве роста используется натуральное число, но при подсчёте среднего требуется вычислить значение в виде вещественного числа.\n",
        "\n",
        "Выводить информацию о среднем росте следует в порядке возрастания номера класса (для классов с первого по одиннадцатый). Если про какой-то класс нет информации, необходимо вывести напротив него прочерк.\n",
        "\n",
        "В качестве ответа прикрепите файл с полученными данными о среднем росте."
      ]
    },
    {
      "cell_type": "code",
      "metadata": {
        "colab": {
          "base_uri": "https://localhost:8080/"
        },
        "id": "FkSaAFkHMf3l",
        "outputId": "7ced94aa-6160-4041-8e48-118a71afc51a"
      },
      "source": [
        "x = input().split(' ')\n",
        "text = []\n",
        "for i in x:\n",
        "  j = i.split('\\t')\n",
        "  text.append(j)\n",
        "\n",
        "clas = {i:[0] for i in range(1,12)}\n",
        "for i in text:\n",
        "  clas[int(i[0])] += [int(i[2])]\n",
        "\n",
        "for key in clas.keys():\n",
        "  v = 0\n",
        "  c = 0\n",
        "  for i in clas[key]:\n",
        "    v += i\n",
        "    c += 1\n",
        "  if v == 0:\n",
        "    clas[key] = '-'\n",
        "  elif v > 0:\n",
        "    clas[key] = v / ( c - 1 )    \n",
        "\n",
        "for key,value in clas.items():\n",
        "  print(key, value)\n"
      ],
      "execution_count": null,
      "outputs": [
        {
          "output_type": "stream",
          "text": [
            "6\tBlack\t152 10\tBargeman\t175 1\tPeterson\t125 9\tBishop\t173 3\tBlack\t138 9\tDouglas\t168 4\tEdwards\t145 3\tTaft\t133 1\tDutton\t130 2\tLongman\t131 11\tStevenson\t170 11\tOswald\t179 7\tFrancis\t162 4\tBawerman\t135 2\tFisher\t130 7\tHailey\t164 3\tJohnson\t136 4\tBecker\t137 1\tEddington\t123 3\tTimmons\t139 7\tGilson\t161 11\tChandter\t180 4\tAtcheson\t140 4\tFrancis\t145 9\tHancock\t170 5\tAddington\t150 1\tGill\t122 2\tCampbell\t134 4\tDunce\t144 4\tDaniels\t144 5\tHawkins\t148 8\tAttwood\t160 9\tClapton\t168 11\tBrown\t178 10\tCharlson\t169 11\tChandter\t173 6\tHardman\t158 1\tJeff\t130 7\tSherlock\t159 2\tHaig\t133 11\tBecker\t180 10\tOldman\t173 1\tShorter\t122 10\tHancock\t166 9\tMolligan\t172 6\tWaller\t154 9\tAlsopp\t171 5\tColeman\t148 8\tAlbertson\t166 5\tRoberts\t145 1\tMiln\t121 10\tMacAlister\t166 5\tPage\t147 6\tTaft\t155 2\tBrown\t134 5\tWard\t141 5\tYoung\t148 7\tBush\t161 8\tMason\t166 4\tHolmes\t138 6\tFord\t151 9\tDodson\t165 9\tBarrington\t173 11\tHoggarth\t170 4\tGimson\t137 9\tFerguson\t165 3\tMacey\t140 6\tBush\t155 9\tChapman\t173 8\tSheldon\t160 11\tMiers\t174 10\tCarter\t171 2\tChandter\t128 4\tJohnson\t137 4\tDaniels\t135 11\tSykes\t177 2\tRamacey\t134 3\tLeapman\t131 5\tSherlock\t149 10\tKirk\t174 9\tLamberts\t171 11\tChesterton\t179 4\tAnderson\t140 11\tRoger\t180 5\tClifford\t140 8\tChapman\t163 2\tJeff\t130 3\tHarrison\t134 2\tShackley\t125 4\tSmith\t145\n",
            "1 124.71428571428571\n",
            "2 131.0\n",
            "3 135.85714285714286\n",
            "4 140.15384615384616\n",
            "5 146.22222222222223\n",
            "6 154.16666666666666\n",
            "7 161.4\n",
            "8 163.0\n",
            "9 169.9090909090909\n",
            "10 170.57142857142858\n",
            "11 176.36363636363637\n"
          ],
          "name": "stdout"
        }
      ]
    },
    {
      "cell_type": "code",
      "metadata": {
        "id": "qDHMY5eOONJS"
      },
      "source": [
        ""
      ],
      "execution_count": null,
      "outputs": []
    }
  ]
}