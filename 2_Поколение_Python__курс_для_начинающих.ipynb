{
  "nbformat": 4,
  "nbformat_minor": 0,
  "metadata": {
    "colab": {
      "name": "\"Поколение Python\": курс для начинающих.ipynb",
      "provenance": [],
      "collapsed_sections": [
        "eKmWlFY0dER5",
        "icjl1CHVKi1J",
        "apm_vXspsKO3",
        "aKI9Pzw1LOqL",
        "26DejrBLLZBN",
        "X_aQEOoLLsrA",
        "h2q3Qhc5Lshs",
        "5_Cn-Vk7LngZ",
        "4duO-Bh1LsAg",
        "wSZ1gFc7MZ-E",
        "PhINJKvbNHxe",
        "IN_1b1A6LsXZ",
        "Q5qiGGSkLsUF",
        "t59Li5FLLsN3",
        "QDDB2LPrLsZ_",
        "4Y_hJuVmgLfo",
        "x3VywdUSgETV",
        "xz04q6wYf9rz",
        "_Tw78YbjfqZk",
        "wYRgWZBLfZ-I",
        "lZ-9Dt38fT6Z",
        "nwz3KClvfNys",
        "EqrSApoXe9rf",
        "H548yy7Qe4SZ",
        "Kk21QU7Feylp",
        "3ObljLsHes1l",
        "LI8A10Cuel8Q",
        "S9XLLqyT7fzw",
        "qs6G7Jdj6h4V",
        "g2aULP-8Mh2I",
        "Y6EL4MG3HQOs",
        "FbW-G5KDJoM7",
        "DlsgtUpPd_xc",
        "pv9wBzN9kjD1",
        "r4d2av6wqkt3",
        "ZoRcMeIDTpDa",
        "fYuXIwENdtqD",
        "FsdE94Nskiv9",
        "2HyRXpnpmXah",
        "uMV0YVqv4caM",
        "vLhZUccaTGTl",
        "369AczJRXfy2",
        "ZszVkNtwY8fW",
        "btgXpO7uJ0eh",
        "Q0w_xG6TQBlU",
        "eOaBbAzrjit1",
        "vySdeP--2Yzp",
        "nHGh4CDI81Ot",
        "H4IOvcRhByFg",
        "7uY0iUZfYMnj",
        "TqDFo-xKc5Qd",
        "LM3nqQjlkyBO",
        "wCTm0OFgDNkl",
        "T_E_6r5fdYJH",
        "zQqhTArQ-jMD",
        "AtH8oNwEkFA4",
        "AnVh7eI8relq",
        "gJbIu4eHwqHU",
        "_K-PdjbZCrGV"
      ]
    },
    "kernelspec": {
      "name": "python3",
      "display_name": "Python 3"
    }
  },
  "cells": [
    {
      "cell_type": "markdown",
      "metadata": {
        "id": "Z4CGCUBTZx7L"
      },
      "source": [
        "# \"Поколение Python\": курс для начинающих\n",
        "(52 задачи)"
      ]
    },
    {
      "cell_type": "markdown",
      "metadata": {
        "id": "X5-Y-Pr12wCu"
      },
      "source": [
        "**\"Поколение Python\": курс для начинающих**  \n",
        "(*Школа BEEGEEK*)  \n",
        "\n",
        "Онлайн-курс на stepik.org  \n",
        "пройден на 100%  \n",
        "04.02.2021\n",
        "  \n",
        "https://stepik.org/cert/887160  \n",
        "  \n",
        "  "
      ]
    },
    {
      "cell_type": "markdown",
      "metadata": {
        "id": "eKmWlFY0dER5"
      },
      "source": [
        "# Решение задач (52)"
      ]
    },
    {
      "cell_type": "markdown",
      "metadata": {
        "id": "icjl1CHVKi1J"
      },
      "source": [
        "## Задача 1 - Разложение четырехзначного числа на цифры."
      ]
    },
    {
      "cell_type": "code",
      "metadata": {
        "colab": {
          "base_uri": "https://localhost:8080/"
        },
        "id": "DmSsSaNwaEGg",
        "outputId": "6758d5db-cd32-460a-e931-9cb942f783a7"
      },
      "source": [
        "# Задача 1\n",
        "\n",
        "n = int(input())\n",
        "a1 = n // 1000\n",
        "a2 = n // 100 % 10\n",
        "a3 = n // 10 % 10\n",
        "a4 = n % 10\n",
        "print(a1)\n",
        "print(a2)\n",
        "print(a3)\n",
        "print(a4)\n"
      ],
      "execution_count": null,
      "outputs": [
        {
          "output_type": "stream",
          "text": [
            "1234\n",
            "1\n",
            "2\n",
            "3\n",
            "4\n"
          ],
          "name": "stdout"
        }
      ]
    },
    {
      "cell_type": "markdown",
      "metadata": {
        "id": "apm_vXspsKO3"
      },
      "source": [
        "## Задача 2 - Наименьшее из четырёх чисел."
      ]
    },
    {
      "cell_type": "code",
      "metadata": {
        "colab": {
          "base_uri": "https://localhost:8080/"
        },
        "id": "svuBuKf0vQkx",
        "outputId": "4accfaf5-4cf2-4583-fd77-8eea9c5399e8"
      },
      "source": [
        "# Задача 2\n",
        "\n",
        "a, b, c, d = int(input()), int(input()), int(input()), int(input())\n",
        "min = a\n",
        "if b < min:\n",
        "  min = b\n",
        "if c < min:\n",
        "  min = c\n",
        "if d < min:\n",
        "  min = d\n",
        "print(min)   "
      ],
      "execution_count": null,
      "outputs": [
        {
          "output_type": "stream",
          "text": [
            "1\n",
            "158\n",
            "45\n",
            "8\n",
            "1\n"
          ],
          "name": "stdout"
        }
      ]
    },
    {
      "cell_type": "markdown",
      "metadata": {
        "id": "aKI9Pzw1LOqL"
      },
      "source": [
        "## Задача 3 - Возрастная группа."
      ]
    },
    {
      "cell_type": "code",
      "metadata": {
        "colab": {
          "base_uri": "https://localhost:8080/"
        },
        "id": "JPDWKPtZwUTI",
        "outputId": "38d64219-f4c6-4a4f-ddea-52e0075bad65"
      },
      "source": [
        "# Задача 3\n",
        "\n",
        "a = int(input())\n",
        "if a <= 13:\n",
        "  print('детство')\n",
        "if 14 <= a <= 24:\n",
        "  print('молодость') \n",
        "if 25 <= a <= 59:\n",
        "  print('зрелость') \n",
        "if a >= 60:\n",
        "  print('старость')   "
      ],
      "execution_count": null,
      "outputs": [
        {
          "output_type": "stream",
          "text": [
            "45\n",
            "зрелость\n"
          ],
          "name": "stdout"
        }
      ]
    },
    {
      "cell_type": "markdown",
      "metadata": {
        "id": "26DejrBLLZBN"
      },
      "source": [
        "## Задача 4 - Цветовой микшер."
      ]
    },
    {
      "cell_type": "code",
      "metadata": {
        "colab": {
          "base_uri": "https://localhost:8080/"
        },
        "id": "z5DBj60c1Bjc",
        "outputId": "fbea123d-0a5c-43f7-9e5b-4554f2c2e910"
      },
      "source": [
        "# Задача 4\n",
        "\n",
        "a, b = input(), input()\n",
        "if a == b == 'красный':\n",
        "  print('красный')\n",
        "elif a == b == 'желтый':\n",
        "  print('желтый')\n",
        "elif a == b == 'синий':\n",
        "  print('синий')\n",
        "elif (a == 'синий' or b == 'синий') and (a == 'желтый' or b == 'желтый'):\n",
        "  print('зеленый') \n",
        "elif (a == 'синий' or b == 'синий') and (a == 'красный' or b == 'красный'):\n",
        "  print('фиолетовый')\n",
        "elif (a == 'желтый' or b == 'желтый') and (a == 'красный' or b == 'красный'):\n",
        "  print('оранжевый')  \n",
        "else:\n",
        "  print('ошибка цвета')       "
      ],
      "execution_count": null,
      "outputs": [
        {
          "output_type": "stream",
          "text": [
            "красный\n",
            "красный\n",
            "красный\n"
          ],
          "name": "stdout"
        }
      ]
    },
    {
      "cell_type": "markdown",
      "metadata": {
        "id": "X_aQEOoLLsrA"
      },
      "source": [
        "## Задача 5 - Цвета колеса рулетки. "
      ]
    },
    {
      "cell_type": "code",
      "metadata": {
        "colab": {
          "base_uri": "https://localhost:8080/"
        },
        "id": "HnjhJOJD2Hy2",
        "outputId": "1f933604-ae2b-43de-b02a-a794eab769d8"
      },
      "source": [
        "# Задача 5\n",
        "\n",
        "a = int(input())\n",
        "if a == 0:\n",
        "  print('зеленый')\n",
        "elif a < 0 or a > 36:\n",
        "  print('ошибка ввода')\n",
        "elif 1 <= a <= 10 or 19 <= a <= 28:\n",
        "  if a % 2 == 1:\n",
        "    print('красный ')\n",
        "  else:\n",
        "    print('черный ')   \n",
        "elif 11 <= a <= 18 or 29 <= a <= 36:\n",
        "  if a % 2 == 1:\n",
        "    print('черный')\n",
        "  else:\n",
        "    print('красный')  \n",
        "  \n"
      ],
      "execution_count": null,
      "outputs": [
        {
          "output_type": "execute_result",
          "data": {
            "text/plain": [
              "61"
            ]
          },
          "metadata": {
            "tags": []
          },
          "execution_count": 27
        }
      ]
    },
    {
      "cell_type": "markdown",
      "metadata": {
        "id": "h2q3Qhc5Lshs"
      },
      "source": [
        "## Задача 6 - Пересечение отрезков."
      ]
    },
    {
      "cell_type": "markdown",
      "metadata": {
        "id": "4vHopkxqL3l0"
      },
      "source": [
        "На числовой прямой даны два отрезка. Напишите программу, которая находит их пересечение.  \n",
        "На вход программе подаются 4 целых числа a1, b1, a2, b2, каждое на отдельной строке.  \n",
        "Гарантируется, что a1 < b1 и a2 < b2"
      ]
    },
    {
      "cell_type": "code",
      "metadata": {
        "id": "osbMXfrgAxGd",
        "colab": {
          "base_uri": "https://localhost:8080/"
        },
        "outputId": "2ad267b1-0a88-4633-c36d-edf087f61254"
      },
      "source": [
        "# Задача 6\n",
        "\n",
        "a1, b1, a2, b2 = int(input()), int(input()), int(input()), int(input())\n",
        "if a1 > b2 or a2 > b1:\n",
        "  print('пустое множество')\n",
        "elif a1 == b2:\n",
        "  print(b2)\n",
        "elif a2 == b1:\n",
        "  print(b1)\n",
        "elif a1 == a2:\n",
        "  if b1 == b2:\n",
        "    print(a1, b2)\n",
        "  elif b1 < b2:\n",
        "    print(a1,b1)\n",
        "  elif b1 > b2:\n",
        "    print(a1,b2)\n",
        "elif b1 == b2:\n",
        "  if a1 < a2:\n",
        "    print(a2,b1)\n",
        "  elif a1 > a2:\n",
        "    print(a1,b2)\n",
        "elif a1 < a2 and b1 > b2:\n",
        "  print(a2,b2)\n",
        "elif a1 > a2 and b1 < b2:\n",
        "  print(a1,b1)  \n",
        "elif a1 < b2 and a2 < b1 and a1 < a2:\n",
        "  print(a2, b1)\n",
        "elif a1 < b2 and b1 > a2 and a1 > a2:\n",
        "  print(a1, b2) \n",
        "       "
      ],
      "execution_count": null,
      "outputs": [
        {
          "output_type": "stream",
          "text": [
            "3\n",
            "7\n",
            "1\n",
            "5\n",
            "1 7\n"
          ],
          "name": "stdout"
        }
      ]
    },
    {
      "cell_type": "markdown",
      "metadata": {
        "id": "5_Cn-Vk7LngZ"
      },
      "source": [
        "## Задача 7 - Начало столетия."
      ]
    },
    {
      "cell_type": "code",
      "metadata": {
        "colab": {
          "base_uri": "https://localhost:8080/"
        },
        "id": "mxuqrZ24CceM",
        "outputId": "a2d00b25-3635-4409-e929-3731d731aade"
      },
      "source": [
        "# Задача 7\n",
        "\n",
        "x = int(input())\n",
        "x3 = x // 10 % 10\n",
        "x4 = x % 10\n",
        "if x3 == x4 == 0:\n",
        "  print('YES')\n",
        "else:\n",
        "  print('NO')  "
      ],
      "execution_count": null,
      "outputs": [
        {
          "output_type": "stream",
          "text": [
            "1800\n",
            "YES\n"
          ],
          "name": "stdout"
        }
      ]
    },
    {
      "cell_type": "markdown",
      "metadata": {
        "id": "4duO-Bh1LsAg"
      },
      "source": [
        "## Задача 8 - Ход коня."
      ]
    },
    {
      "cell_type": "code",
      "metadata": {
        "id": "yK7LJxA6qG_G"
      },
      "source": [
        "# Задача 8\n",
        "\n",
        "a1, b1, a2, b2 = int(input()), int(input()), int(input()), int(input())\n",
        "if ( a1 == a2 + 1 or a1 == a2 - 1 ) and ( b1 == b2 + 2  or b1 == b2 - 2 ):\n",
        "  print('YES')\n",
        "elif ( a1 == a2 + 2 or a1 == a2 - 2 ) and ( b1 == b2 + 1  or b1 == b2 - 1 ):\n",
        "  print('YES')  \n",
        "else:\n",
        "  print('NO')\n"
      ],
      "execution_count": null,
      "outputs": []
    },
    {
      "cell_type": "markdown",
      "metadata": {
        "id": "wSZ1gFc7MZ-E"
      },
      "source": [
        "## Задача 9 -  Ход ферзя."
      ]
    },
    {
      "cell_type": "code",
      "metadata": {
        "colab": {
          "base_uri": "https://localhost:8080/"
        },
        "id": "vfBAGUl6JE4B",
        "outputId": "b19c88f8-2463-40cd-c129-ff4f12ca9c70"
      },
      "source": [
        "# Задача 9\n",
        "\n",
        "a1, b1, a2, b2 = int(input()), int(input()), int(input()), int(input())\n",
        "if (a1 - b1 == a2 - b2) or (a1 + b1 == a2 + b2):\n",
        "  print('YES')\n",
        "elif a1 == a2 or b1 == b2:\n",
        "  print('YES')\n",
        "else:\n",
        "  print('NO')   "
      ],
      "execution_count": null,
      "outputs": [
        {
          "output_type": "stream",
          "text": [
            "1\n",
            "1\n",
            "8\n",
            "8\n",
            "YES\n"
          ],
          "name": "stdout"
        }
      ]
    },
    {
      "cell_type": "markdown",
      "metadata": {
        "id": "PhINJKvbNHxe"
      },
      "source": [
        "## Задача 10 - Площадь и длина круга."
      ]
    },
    {
      "cell_type": "code",
      "metadata": {
        "colab": {
          "base_uri": "https://localhost:8080/"
        },
        "id": "EswL1z7bLGT8",
        "outputId": "03acabe8-c8bb-4d8b-87e0-b0592d269a96"
      },
      "source": [
        "# Задача 10\n",
        "\n",
        "import math \n",
        "r = float(input())\n",
        "p = math.pi\n",
        "s = p * r**2\n",
        "l = 2 * p * r\n",
        "print(s)\n",
        "print(l)      "
      ],
      "execution_count": null,
      "outputs": [
        {
          "output_type": "stream",
          "text": [
            "5\n",
            "78.53981633974483\n",
            "31.41592653589793\n"
          ],
          "name": "stdout"
        }
      ]
    },
    {
      "cell_type": "markdown",
      "metadata": {
        "id": "IN_1b1A6LsXZ"
      },
      "source": [
        "## Задача 11 - Средние значения."
      ]
    },
    {
      "cell_type": "code",
      "metadata": {
        "colab": {
          "base_uri": "https://localhost:8080/"
        },
        "id": "fj_8c1-WNxGN",
        "outputId": "29256a77-e349-45ec-ed35-b9351d8e97f8"
      },
      "source": [
        "# Задача 11\n",
        "\n",
        "a, b = float(input()), float(input())\n",
        "m_arif = (a + b) / 2                 # среднее арифметическое чисел a и b\n",
        "m_geom = (a * b)**0.5                # среднее геометрическое чисел a и b\n",
        "m_garm = 2 * a * b / (a + b)         # среднее гармоническое чисел a и b\n",
        "m_qvn = ((a**2 + b**2) / 2)**0.5     # среднее квадратичное чисел a и b\n",
        "print(m_arif)\n",
        "print(m_geom)\n",
        "print(m_garm)\n",
        "print(m_qvn)"
      ],
      "execution_count": null,
      "outputs": [
        {
          "output_type": "stream",
          "text": [
            "1\n",
            "2\n",
            "5\n",
            "9\n",
            "8.06225774829855\n"
          ],
          "name": "stdout"
        }
      ]
    },
    {
      "cell_type": "markdown",
      "metadata": {
        "id": "Q5qiGGSkLsUF"
      },
      "source": [
        "## Задача 12 - Калькулятор."
      ]
    },
    {
      "cell_type": "code",
      "metadata": {
        "colab": {
          "base_uri": "https://localhost:8080/"
        },
        "id": "fKVzpvKaptVu",
        "outputId": "eda9f369-69f7-499e-a6f7-88cbef5ea890"
      },
      "source": [
        "# Задача 12\n",
        "\n",
        "n = int(input())\n",
        "for i in range(1, 11):\n",
        "  c = i * n\n",
        "  print(f'{n} x {i} = {c}')\n",
        " \n",
        "\n"
      ],
      "execution_count": null,
      "outputs": [
        {
          "output_type": "stream",
          "text": [
            "9\n",
            "9 * 1 = 9\n",
            "9 * 2 = 18\n",
            "9 * 3 = 27\n",
            "9 * 4 = 36\n",
            "9 * 5 = 45\n",
            "9 * 6 = 54\n",
            "9 * 7 = 63\n",
            "9 * 8 = 72\n",
            "9 * 9 = 81\n",
            "9 * 10 = 90\n"
          ],
          "name": "stdout"
        }
      ]
    },
    {
      "cell_type": "markdown",
      "metadata": {
        "id": "t59Li5FLLsN3"
      },
      "source": [
        "## Задача 13 - Наибольшие числа."
      ]
    },
    {
      "cell_type": "markdown",
      "metadata": {
        "id": "uZsFSdlCMnQJ"
      },
      "source": [
        "На вход программе подается натуральное число n, а затем n различных натуральных чисел, каждое на отдельной строке.  \n",
        "Напишите программу, которая выводит наибольшее и второе наибольшее число последовательности."
      ]
    },
    {
      "cell_type": "code",
      "metadata": {
        "id": "nPDquXr7vjtZ",
        "colab": {
          "base_uri": "https://localhost:8080/"
        },
        "outputId": "a2ba7296-aed0-467d-fa30-85e45348168f"
      },
      "source": [
        "# Задача 13\n",
        "\n",
        "n = int(input())\n",
        "larg_1 = 0\n",
        "larg_2 = 0\n",
        "for i in range(n):\n",
        "  x = int(input())\n",
        "  if x > larg_1:\n",
        "    larg_1, larg_2 = x, larg_1\n",
        "  elif x < larg_1 and x > larg_2:\n",
        "    larg_2 = x\n",
        "print(larg_1)\n",
        "print(larg_2)  "
      ],
      "execution_count": null,
      "outputs": [
        {
          "output_type": "stream",
          "text": [
            "6\n",
            "5\n",
            "1\n",
            "2\n",
            "3\n",
            "4\n",
            "5\n",
            "5\n",
            "4\n"
          ],
          "name": "stdout"
        }
      ]
    },
    {
      "cell_type": "markdown",
      "metadata": {
        "id": "QDDB2LPrLsZ_"
      },
      "source": [
        "## Задача 14 - Последовательность Фибоначчи."
      ]
    },
    {
      "cell_type": "code",
      "metadata": {
        "colab": {
          "base_uri": "https://localhost:8080/"
        },
        "id": "D-sUy6PDQbZP",
        "outputId": "0fd50352-5a3c-40a3-df65-d049076e27ac"
      },
      "source": [
        "# Задача 14\n",
        "\n",
        "n = int(input())\n",
        "x1 = 1\n",
        "x2 = 0\n",
        "for i in range(1, n+1):\n",
        "  print(x1, end=' ')\n",
        "  x1, x2 = x1 + x2 , x1"
      ],
      "execution_count": null,
      "outputs": [
        {
          "output_type": "stream",
          "text": [
            "10\n",
            "1 1 2 3 5 8 13 21 34 55 "
          ],
          "name": "stdout"
        }
      ]
    },
    {
      "cell_type": "markdown",
      "metadata": {
        "id": "4Y_hJuVmgLfo"
      },
      "source": [
        "## Задача 15 - Ведьмаку заплатите чеканной монетой."
      ]
    },
    {
      "cell_type": "markdown",
      "metadata": {
        "id": "GNprER6qgPKV"
      },
      "source": [
        "Всем известно, что ведьмак способен одолеть любых чудовищ, однако его услуги обойдутся недешево, к тому же ведьмак не принимает купюры, он принимает только чеканные монеты. В мире ведьмака существуют монеты с номиналами 1, 5, 10, 25  \n",
        "  \n",
        "Напишите программу, которая определяет какое минимальное количество чеканных монет нужно заплатить ведьмаку."
      ]
    },
    {
      "cell_type": "code",
      "metadata": {
        "id": "2KjWxOytw7O4",
        "colab": {
          "base_uri": "https://localhost:8080/"
        },
        "outputId": "441fbe92-d8eb-4d81-8c73-dd53ea3dc1c6"
      },
      "source": [
        "# Задача 15\n",
        "\n",
        "n = int(input())\n",
        "m25 = 0\n",
        "m10 = 0\n",
        "m5 = 0\n",
        "m1 = 0\n",
        "while n >= 25:\n",
        "    n -= 25\n",
        "    m25 += 1\n",
        "while n >= 10:\n",
        "    n -= 10\n",
        "    m10 += 1\n",
        "while n >= 5:\n",
        "    n -= 5\n",
        "    m5 += 1\n",
        "while n >= 1:\n",
        "    n -= 1\n",
        "    m1 += 1   \n",
        "print(m25 + m10 + m5 + m1)     "
      ],
      "execution_count": null,
      "outputs": [
        {
          "output_type": "stream",
          "text": [
            "49\n",
            "7\n"
          ],
          "name": "stdout"
        }
      ]
    },
    {
      "cell_type": "markdown",
      "metadata": {
        "id": "x3VywdUSgETV"
      },
      "source": [
        "## Задача 16 - Таблица сложения."
      ]
    },
    {
      "cell_type": "code",
      "metadata": {
        "colab": {
          "base_uri": "https://localhost:8080/"
        },
        "id": "rgzomaFSc2eE",
        "outputId": "8c04c818-1f9f-4898-931c-fbd90ab8eab0"
      },
      "source": [
        "# Задача 16\n",
        "\n",
        "n = int(input())\n",
        "for j in range(1, n+1):\n",
        "  for i in range(1, 10):\n",
        "    print(f'{j} + {i} = {j + i}')\n",
        "  print() \n"
      ],
      "execution_count": null,
      "outputs": [
        {
          "output_type": "stream",
          "text": [
            "1\n",
            "1 + 1 = 2\n",
            "1 + 2 = 3\n",
            "1 + 3 = 4\n",
            "1 + 4 = 5\n",
            "1 + 5 = 6\n",
            "1 + 6 = 7\n",
            "1 + 7 = 8\n",
            "1 + 8 = 9\n",
            "1 + 9 = 10\n",
            "\n"
          ],
          "name": "stdout"
        }
      ]
    },
    {
      "cell_type": "markdown",
      "metadata": {
        "id": "xz04q6wYf9rz"
      },
      "source": [
        "## Задача 17 - Звездный треугольник."
      ]
    },
    {
      "cell_type": "markdown",
      "metadata": {
        "id": "pYb4r24iG7Vp"
      },
      "source": [
        "Напишите функцию `draw_triangle(fill, base)`, которая принимает два параметра:  \n",
        "  \n",
        "`fill` – символ заполнитель  \n",
        "`base` – величина основания равнобедренного треугольника  "
      ]
    },
    {
      "cell_type": "code",
      "metadata": {
        "id": "ct1CmTQDA6LI",
        "colab": {
          "base_uri": "https://localhost:8080/"
        },
        "outputId": "e3e5ad31-c57e-43fa-cb9c-c0b5c9eb7fc6"
      },
      "source": [
        "# объявление функции\n",
        "def draw_triangle(fill, base):\n",
        "  n = base\n",
        "  for i in range(1, n+1):\n",
        "    if i < n / 2:\n",
        "      print(fill * i)\n",
        "    elif i == n // 2 + 1:\n",
        "      print(fill * i)\n",
        "    elif i > n / 2:\n",
        "      print(fill * (n + 1 - i))\n",
        "  pass\n",
        "\n",
        "# считываем данные\n",
        "fill = input()\n",
        "base = int(input())\n",
        "\n",
        "# вызываем функцию\n",
        "draw_triangle(fill, base)"
      ],
      "execution_count": null,
      "outputs": [
        {
          "output_type": "stream",
          "text": [
            "*\n",
            "19\n",
            "*\n",
            "**\n",
            "***\n",
            "****\n",
            "*****\n",
            "******\n",
            "*******\n",
            "********\n",
            "*********\n",
            "**********\n",
            "*********\n",
            "********\n",
            "*******\n",
            "******\n",
            "*****\n",
            "****\n",
            "***\n",
            "**\n",
            "*\n"
          ],
          "name": "stdout"
        }
      ]
    },
    {
      "cell_type": "markdown",
      "metadata": {
        "id": "_Tw78YbjfqZk"
      },
      "source": [
        "## Задача 18 - Имеется 100 рублей. "
      ]
    },
    {
      "cell_type": "markdown",
      "metadata": {
        "id": "MVHCtRl4fuU-"
      },
      "source": [
        "Сколько быков, коров и телят можно купить на все эти деньги, \n",
        "если плата за быка – 10 рублей, за корову – 5 рублей, за теленка – 0.5 рубля. \n",
        "Надо купить 100 голов скота?"
      ]
    },
    {
      "cell_type": "code",
      "metadata": {
        "colab": {
          "base_uri": "https://localhost:8080/"
        },
        "id": "EdNLX1jtv-nv",
        "outputId": "d476bc0c-adef-44de-ce96-9a3c861b4a96"
      },
      "source": [
        "# Задача 18\n",
        "\n",
        "# 10*b + 5*k + 0.5*t = 100\n",
        "# b + k + t = 100\n",
        "\n",
        "for b in range(1, 100):\n",
        "  for k in range(1, 100):\n",
        "    for t in range(1, 100):\n",
        "      if 10*b + 5*k + 0.5*t == 100 and b + k + t == 100:\n",
        "        print('b =',b)\n",
        "        print('k =',k)\n",
        "        print('t =',t)\n",
        "\n"
      ],
      "execution_count": null,
      "outputs": [
        {
          "output_type": "stream",
          "text": [
            "b = 1\n",
            "k = 9\n",
            "t = 90\n"
          ],
          "name": "stdout"
        }
      ]
    },
    {
      "cell_type": "markdown",
      "metadata": {
        "id": "wYRgWZBLfZ-I"
      },
      "source": [
        "## Задача 19 - Цифровой корень."
      ]
    },
    {
      "cell_type": "markdown",
      "metadata": {
        "id": "mX2G5ztLfdfh"
      },
      "source": [
        "Цифровой корень числа n получается, если сложить все цифры этого числа, \n",
        "затем все цифры найденной суммы, и повторять этот процесс, \n",
        "пока в результате не будет получено однозначное число (цифра) "
      ]
    },
    {
      "cell_type": "code",
      "metadata": {
        "colab": {
          "base_uri": "https://localhost:8080/"
        },
        "id": "uh3KgaR8b-EX",
        "outputId": "2764440a-23d9-462e-e49c-7f52afeae713"
      },
      "source": [
        "# Задача 19\n",
        "\n",
        "n = int(input())\n",
        "total = 0\n",
        "while total == 0 or n > 9:\n",
        "  total = 0\n",
        "  while n > 0:\n",
        "    total += n % 10\n",
        "    n //= 10\n",
        "  n = total  \n",
        "print(total)"
      ],
      "execution_count": null,
      "outputs": [
        {
          "output_type": "stream",
          "text": [
            "125478963258741\n",
            "9\n"
          ],
          "name": "stdout"
        }
      ]
    },
    {
      "cell_type": "markdown",
      "metadata": {
        "id": "lZ-9Dt38fT6Z"
      },
      "source": [
        "## Задача 20 - Сумма факториалов."
      ]
    },
    {
      "cell_type": "code",
      "metadata": {
        "colab": {
          "base_uri": "https://localhost:8080/"
        },
        "id": "ZO2n4GBzcNZn",
        "outputId": "d33b1723-5836-4d15-c6d4-cac32452a1b7"
      },
      "source": [
        "# Задача 20\n",
        "\n",
        "n = int(input())\n",
        "total = 0\n",
        "for i in range(1, n+1):\n",
        "  multi = 1\n",
        "  for j in range(1, i+1):\n",
        "    multi *= j\n",
        "  total += multi  \n",
        "print(total) \n"
      ],
      "execution_count": null,
      "outputs": [
        {
          "output_type": "stream",
          "text": [
            "3\n",
            "9\n"
          ],
          "name": "stdout"
        }
      ]
    },
    {
      "cell_type": "markdown",
      "metadata": {
        "id": "nwz3KClvfNys"
      },
      "source": [
        "## Задача 21 - Цифра."
      ]
    },
    {
      "cell_type": "code",
      "metadata": {
        "id": "3lYQot_zvrUY",
        "colab": {
          "base_uri": "https://localhost:8080/"
        },
        "outputId": "fdc6d7af-5afc-4ed6-abb3-d20ee961d64c"
      },
      "source": [
        "# Задача 21\n",
        "\n",
        "a = input()\n",
        "text = '0123456789'\n",
        "for c in a:\n",
        "  if c in text:\n",
        "    print('Цифра есть')  \n",
        "    break\n",
        "else:\n",
        "  print('Цифр нет')\n"
      ],
      "execution_count": null,
      "outputs": [
        {
          "output_type": "stream",
          "text": [
            "Hi 17 Python\n",
            "Цифра есть\n"
          ],
          "name": "stdout"
        }
      ]
    },
    {
      "cell_type": "markdown",
      "metadata": {
        "id": "EqrSApoXe9rf"
      },
      "source": [
        "## Задача 22 -  Decimal to Binary."
      ]
    },
    {
      "cell_type": "markdown",
      "metadata": {
        "id": "UWvuezTWfBlb"
      },
      "source": [
        "На вход программе подается натуральное число, записанное в десятичной системе счисления.  \n",
        "Напишите программу, которая переводит данное число в двоичную систему счисления.  "
      ]
    },
    {
      "cell_type": "code",
      "metadata": {
        "colab": {
          "base_uri": "https://localhost:8080/"
        },
        "id": "lWOF7UwWYxQ9",
        "outputId": "42f7c219-c889-4d28-dddb-6d5c5403af5d"
      },
      "source": [
        "# Задача 22\n",
        "\n",
        "a = int(input())\n",
        "b = ''\n",
        "while a > 0:\n",
        "  b = str(a % 2) + b\n",
        "  a = a // 2\n",
        "print(b)  "
      ],
      "execution_count": null,
      "outputs": [
        {
          "output_type": "stream",
          "text": [
            "19\n",
            "10011\n"
          ],
          "name": "stdout"
        }
      ]
    },
    {
      "cell_type": "markdown",
      "metadata": {
        "id": "H548yy7Qe4SZ"
      },
      "source": [
        "## Задача 23 -  Палиндром."
      ]
    },
    {
      "cell_type": "code",
      "metadata": {
        "id": "F7t7nIhzZHeM",
        "colab": {
          "base_uri": "https://localhost:8080/"
        },
        "outputId": "d347f72e-eb08-4343-ca7f-af57374e966f"
      },
      "source": [
        "# Задача 23\n",
        "\n",
        "n = input()\n",
        "if n == n[::-1]:\n",
        "  print('YES')\n",
        "else:\n",
        "  print('NO')  "
      ],
      "execution_count": null,
      "outputs": [
        {
          "output_type": "stream",
          "text": [
            "tenet\n",
            "YES\n"
          ],
          "name": "stdout"
        }
      ]
    },
    {
      "cell_type": "markdown",
      "metadata": {
        "id": "Kk21QU7Feylp"
      },
      "source": [
        "## Задача 24 - Удаление фрагмента."
      ]
    },
    {
      "cell_type": "code",
      "metadata": {
        "colab": {
          "base_uri": "https://localhost:8080/"
        },
        "id": "aI0b_l6PEeZ4",
        "outputId": "7811781d-9212-4ee8-a507-7ebfc7d56cae"
      },
      "source": [
        "# Задача 24\n",
        "\n",
        "n = input()\n",
        "h1 = n.find('h')\n",
        "h2 = n.rfind('h')\n",
        "n = n.replace(n[h1:h2+1],'')\n",
        "print(n) "
      ],
      "execution_count": null,
      "outputs": [
        {
          "output_type": "stream",
          "text": [
            "ahahahahaha\n",
            "aa\n"
          ],
          "name": "stdout"
        }
      ]
    },
    {
      "cell_type": "markdown",
      "metadata": {
        "id": "3ObljLsHes1l"
      },
      "source": [
        "## Задача 25 - Код / Декод."
      ]
    },
    {
      "cell_type": "code",
      "metadata": {
        "colab": {
          "base_uri": "https://localhost:8080/"
        },
        "id": "HPjDZ63mE-O0",
        "outputId": "9e6dbda0-9d3a-4956-e0b5-603720ff91d7"
      },
      "source": [
        "# Задача 25\n",
        "\n",
        "for i in range(26):\n",
        "    print(chr(ord('A') + i),end=' ')"
      ],
      "execution_count": null,
      "outputs": [
        {
          "output_type": "stream",
          "text": [
            "A B C D E F G H I J K L M N O P Q R S T U V W X Y Z "
          ],
          "name": "stdout"
        }
      ]
    },
    {
      "cell_type": "markdown",
      "metadata": {
        "id": "LI8A10Cuel8Q"
      },
      "source": [
        "## Задача 26 - Символы в диапазоне."
      ]
    },
    {
      "cell_type": "code",
      "metadata": {
        "colab": {
          "base_uri": "https://localhost:8080/"
        },
        "id": "QVE9GvKbG721",
        "outputId": "229416e0-4189-414d-8c55-a607efee9eee"
      },
      "source": [
        "# Задача 26\n",
        "\n",
        "a, b = int(input()), int(input())\n",
        "for i in range(a,b+1):\n",
        "  print(chr(i), end=' ')"
      ],
      "execution_count": null,
      "outputs": [
        {
          "output_type": "stream",
          "text": [
            "65\n",
            "70\n",
            "A B C D E F "
          ],
          "name": "stdout"
        }
      ]
    },
    {
      "cell_type": "markdown",
      "metadata": {
        "id": "S9XLLqyT7fzw"
      },
      "source": [
        "## Задача 27 - Шифр Цезаря. "
      ]
    },
    {
      "cell_type": "markdown",
      "metadata": {
        "id": "HkQ4crms7rHB"
      },
      "source": [
        " \n",
        "  \n",
        "В первой строке дается число (1 ≤ n ≤ 25) – сдвиг, во второй строке даётся закодированное сообщение в виде строки со строчными латинскими буквами.  \n",
        "  \n",
        "Программа должна вывести одну строку – декодированное сообщение. Обратите внимание, что нужно декодировать сообщение, а не закодировать.    "
      ]
    },
    {
      "cell_type": "code",
      "metadata": {
        "colab": {
          "base_uri": "https://localhost:8080/"
        },
        "id": "G0cmfxtXRjER",
        "outputId": "a41ed5ed-3be0-4e0c-c1a1-6009c25b9f37"
      },
      "source": [
        "# Задача 27\n",
        "\n",
        "num = int(input())\n",
        "cod = input()\n",
        "a = ord('a')\n",
        "z = ord('z')\n",
        "for i in range(len(cod)):\n",
        "  if a <= ord(cod[i]) - num <= z:\n",
        "    print(chr(ord(cod[i]) - num), end='')\n",
        "  else:\n",
        "    print( chr(z + 1 - num + ord(cod[i]) - a), end='')    \n",
        "\n"
      ],
      "execution_count": null,
      "outputs": [
        {
          "output_type": "stream",
          "text": [
            "1\n",
            "bwfusvfupdbftbs\n",
            "avetruetocaesar"
          ],
          "name": "stdout"
        }
      ]
    },
    {
      "cell_type": "markdown",
      "metadata": {
        "id": "qs6G7Jdj6h4V"
      },
      "source": [
        "##  Задача 28 - Переворот.  "
      ]
    },
    {
      "cell_type": "markdown",
      "metadata": {
        "id": "q3yGkauD6Pkg"
      },
      "source": [
        "\n",
        "  \n",
        "На вход программе подается строка текста в которой буква «h» встречается как минимум два раза. Напишите программу, которая возвращает исходную строку и переворачивает последовательность символов, заключенную между первым и последним вхождением буквы «h»"
      ]
    },
    {
      "cell_type": "code",
      "metadata": {
        "id": "-xGSyZLnUpKZ",
        "colab": {
          "base_uri": "https://localhost:8080/"
        },
        "outputId": "9a059500-25af-4254-d148-1a354f0d4892"
      },
      "source": [
        "# Задача 28\n",
        "\n",
        "n = input()\n",
        "h1 = n.find('h')\n",
        "h2 = n.rfind('h')\n",
        "x = n[(h2-1):h1:-1]\n",
        "print(n[:(h1+1)] + x + n[h2:])    "
      ],
      "execution_count": null,
      "outputs": [
        {
          "output_type": "stream",
          "text": [
            "xxh123hxxx\n",
            "xxh321hxxx\n"
          ],
          "name": "stdout"
        }
      ]
    },
    {
      "cell_type": "markdown",
      "metadata": {
        "id": "g2aULP-8Mh2I"
      },
      "source": [
        "##  Задача 29 - Список букв."
      ]
    },
    {
      "cell_type": "markdown",
      "metadata": {
        "id": "KJYbpcxWMZPe"
      },
      "source": [
        "  \n",
        "  \n",
        "На вход программе подается одно число n. Напишите программу, которая выводит список, состоящий из n букв английского алфавита ['a', 'b', 'c', ...] в нижнем регистре  "
      ]
    },
    {
      "cell_type": "code",
      "metadata": {
        "colab": {
          "base_uri": "https://localhost:8080/"
        },
        "id": "bayJOiiQ0j2c",
        "outputId": "2ee85d15-de4c-4dd1-f806-151225cf7505"
      },
      "source": [
        "# Задача 29\n",
        "\n",
        "n = int(input())\n",
        "abc = []\n",
        "for i in range(97,123):\n",
        "  abc.append(chr(i))\n",
        "print(abc[:n])"
      ],
      "execution_count": null,
      "outputs": [
        {
          "output_type": "stream",
          "text": [
            "10\n",
            "['a', 'b', 'c', 'd', 'e', 'f', 'g', 'h', 'i', 'j']\n"
          ],
          "name": "stdout"
        }
      ]
    },
    {
      "cell_type": "markdown",
      "metadata": {
        "id": "Y6EL4MG3HQOs"
      },
      "source": [
        "## Задача 30 - Список делителей."
      ]
    },
    {
      "cell_type": "markdown",
      "metadata": {
        "id": "tkEFsn4OMYUO"
      },
      "source": [
        "  \n",
        "  \n",
        "На вход программе подается натуральное число n. Напишите программу, которая создает список состоящий из делителей введенного числа."
      ]
    },
    {
      "cell_type": "code",
      "metadata": {
        "id": "kOAYmrGVL6Zp",
        "colab": {
          "base_uri": "https://localhost:8080/"
        },
        "outputId": "1b1179ce-3428-4684-f539-79071b2f088b"
      },
      "source": [
        "# Задача 30\n",
        "\n",
        "n = int(input())\n",
        "num = []\n",
        "for i in range(1, n+1):\n",
        "  if n%i == 0:\n",
        "    num.append(i)\n",
        "print(num)  "
      ],
      "execution_count": null,
      "outputs": [
        {
          "output_type": "stream",
          "text": [
            "100\n",
            "[1, 2, 4, 5, 10, 20, 25, 50, 100]\n"
          ],
          "name": "stdout"
        }
      ]
    },
    {
      "cell_type": "markdown",
      "metadata": {
        "id": "FbW-G5KDJoM7"
      },
      "source": [
        "## Задача 31 - k-ая буква слова."
      ]
    },
    {
      "cell_type": "markdown",
      "metadata": {
        "id": "O43l_q3IJwRH"
      },
      "source": [
        "На вход программе подается натуральное число n и n строк, а затем число k. Напишите программу, которая выводит k-ую букву из введенных строк на одной строке без пробелов."
      ]
    },
    {
      "cell_type": "code",
      "metadata": {
        "id": "iIx4UBRUdxwE"
      },
      "source": [
        "# Задача 31\n",
        "\n",
        "n = int(input())\n",
        "s = []\n",
        "for _ in range(n):\n",
        "  s.append(input())\n",
        "k = int(input())\n",
        "l = []\n",
        "for i in range(len(s)):\n",
        "    if len(s[i]) >= k:\n",
        "        l.append(s[i][k-1])\n",
        "for c in l:\n",
        "    print(c,end='')      "
      ],
      "execution_count": null,
      "outputs": []
    },
    {
      "cell_type": "markdown",
      "metadata": {
        "id": "DlsgtUpPd_xc"
      },
      "source": [
        "## Задача 32 - Значение функции."
      ]
    },
    {
      "cell_type": "markdown",
      "metadata": {
        "id": "lHrgwhepeFZ7"
      },
      "source": [
        "На вход программе подается натуральное число n, а затем n целых чисел. Напишите программу, которая для каждого введенного числа x выводит значение функции f(x) = x^2 + 2x + 1, каждое на отдельной строке."
      ]
    },
    {
      "cell_type": "code",
      "metadata": {
        "id": "CXh8dr7jd-r-",
        "colab": {
          "base_uri": "https://localhost:8080/"
        },
        "outputId": "9515fd77-c097-4fc7-f8f3-c0504846baa6"
      },
      "source": [
        "# Задача 32\n",
        "\n",
        "n = int(input())\n",
        "s = []\n",
        "for _ in range(n):\n",
        "  i = int(input())\n",
        "  s.append(i)\n",
        "print(*s, sep='\\n', end='\\n\\n')\n",
        "for k in s:\n",
        "  print(k**2 + 2*k + 1)\n"
      ],
      "execution_count": null,
      "outputs": [
        {
          "output_type": "stream",
          "text": [
            "3\n",
            "10\n",
            "20\n",
            "30\n",
            "10\n",
            "20\n",
            "30\n",
            "\n",
            "121\n",
            "441\n",
            "961\n"
          ],
          "name": "stdout"
        }
      ]
    },
    {
      "cell_type": "markdown",
      "metadata": {
        "id": "pv9wBzN9kjD1"
      },
      "source": [
        "##Задача 33 - Google search."
      ]
    },
    {
      "cell_type": "markdown",
      "metadata": {
        "id": "8Dxkenalkp8n"
      },
      "source": [
        "На вход программе подается натуральное число n, затем n строк, затем число k — количество поисковых запросов, затем k строк — поисковые запросы. Напишите программу, которая выводит все введенные строки, в которых встречаются все поисковые запросы."
      ]
    },
    {
      "cell_type": "code",
      "metadata": {
        "id": "NfE74g42iprn"
      },
      "source": [
        "# Задача 33\n",
        "\n",
        "n = int(input())\n",
        "google = []          # создаем список строк\n",
        "for _ in range(n):\n",
        "  i = input()\n",
        "  google.append(i)\n",
        "\n",
        "k = int(input())\n",
        "search = []          # создаем список запросов\n",
        "for _ in range(k):\n",
        "  j = input()\n",
        "  search.append(j)\n",
        "\n",
        "report = []           # создаем пустой список, который впоследствии выведем как результат\n",
        "count = 0             # счетчик\n",
        "for g in google:\n",
        "  for s in search:\n",
        "    if s.lower() in g.lower():                    \n",
        "      count += 1                                  # если запрос есть в строке, добавляем +1 счетчику\n",
        "  if count == len(search) and g not in report:    # если счетчик равен количеству запросов, и строчки еще нет в (списке) результате\n",
        "    report.append(g)                              # добавляем строчку в (список) результат\n",
        "  count = 0                                       # незабываем обнулить счетчик\n",
        "print(*report, sep='\\n')      "
      ],
      "execution_count": null,
      "outputs": []
    },
    {
      "cell_type": "markdown",
      "metadata": {
        "id": "r4d2av6wqkt3"
      },
      "source": [
        "## Задача 34 - Диаграмма."
      ]
    },
    {
      "cell_type": "markdown",
      "metadata": {
        "id": "odjoBnUoqmF-"
      },
      "source": [
        "На вход программе подается строка текста, содержащая целые числа. Напишите программу, которая по заданным числам строит столбчатую диаграмму."
      ]
    },
    {
      "cell_type": "code",
      "metadata": {
        "id": "ipLk7-zQqkJB",
        "colab": {
          "base_uri": "https://localhost:8080/"
        },
        "outputId": "610871e8-66c2-45c7-b5f8-3c95d0df12b9"
      },
      "source": [
        "n = input().split(' ')\n",
        "for i in n:\n",
        "  print('+' * int(i))\n",
        "\n"
      ],
      "execution_count": null,
      "outputs": [
        {
          "output_type": "stream",
          "text": [
            "5 3 1 7 10 2\n",
            "+++++\n",
            "+++\n",
            "+\n",
            "+++++++\n",
            "++++++++++\n",
            "++\n"
          ],
          "name": "stdout"
        }
      ]
    },
    {
      "cell_type": "markdown",
      "metadata": {
        "id": "ZoRcMeIDTpDa"
      },
      "source": [
        "## Задача 35 - Количество совпадающих пар."
      ]
    },
    {
      "cell_type": "markdown",
      "metadata": {
        "id": "yE3pqkaaTrZ9"
      },
      "source": [
        "На вход программе подается строка текста, содержащая натуральные числа. Из данной строки формируется список чисел. Напишите программу, которая подсчитывает, сколько в полученном списке пар элементов, равных друг другу. Считается, что любые два элемента, равные друг другу образуют одну пару, которую необходимо посчитать."
      ]
    },
    {
      "cell_type": "code",
      "metadata": {
        "colab": {
          "base_uri": "https://localhost:8080/"
        },
        "id": "Enav77eDSAeL",
        "outputId": "fe04f869-2e7e-4262-bc19-24a8b8712972"
      },
      "source": [
        "n = input().split(' ')\n",
        "count = 0\n",
        "s = []\n",
        "for i in range(len(n)):\n",
        "  for j in range(len(n)):\n",
        "    if n[i] == n[j] and i != j:\n",
        "      s.append(str(i)+str(j))\n",
        "print(int(len(s)/2))"
      ],
      "execution_count": null,
      "outputs": [
        {
          "output_type": "stream",
          "text": [
            "3 3 3 3 3\n",
            "10\n"
          ],
          "name": "stdout"
        }
      ]
    },
    {
      "cell_type": "markdown",
      "metadata": {
        "id": "fYuXIwENdtqD"
      },
      "source": [
        "## Задача 36 - Переставить min и max."
      ]
    },
    {
      "cell_type": "markdown",
      "metadata": {
        "id": "Ix9KRZJKdzfX"
      },
      "source": [
        "На вход программе подается строка текста, содержащая различные натуральные числа. Из данной строки формируется список чисел. Напишите программу, которая меняет местами минимальный и максимальный элемент этого списка.  "
      ]
    },
    {
      "cell_type": "code",
      "metadata": {
        "colab": {
          "base_uri": "https://localhost:8080/"
        },
        "id": "frMpcmbwU29l",
        "outputId": "5dcf1cb0-afbd-465c-a827-7a578d290167"
      },
      "source": [
        "n = [ int(i) for i in input().split()]\n",
        "in_min = n.index(min(n))\n",
        "in_max = n.index(max(n))\n",
        "x_min = min(n)\n",
        "x_max = max(n)\n",
        "s = []\n",
        "for i in range(len(n)):\n",
        "  if i == in_min:\n",
        "    s.append(x_max)\n",
        "  elif i == in_max:\n",
        "    s.append(x_min)  \n",
        "  else:\n",
        "    s.append(n[i])\n",
        "print(*s)      \n"
      ],
      "execution_count": null,
      "outputs": [
        {
          "output_type": "stream",
          "text": [
            "3 4 5 2 1\n",
            "3 4 1 2 5\n"
          ],
          "name": "stdout"
        }
      ]
    },
    {
      "cell_type": "markdown",
      "metadata": {
        "id": "FsdE94Nskiv9"
      },
      "source": [
        "## Задача 37 - Количество артиклей."
      ]
    },
    {
      "cell_type": "markdown",
      "metadata": {
        "id": "mT8ocyyLklN-"
      },
      "source": [
        "На вход программе подается строка, содержащая английский текст. Напишите программу, которая подсчитывает общее количество артиклей: 'a', 'an', 'the'."
      ]
    },
    {
      "cell_type": "code",
      "metadata": {
        "colab": {
          "base_uri": "https://localhost:8080/"
        },
        "id": "2tqTxNzDfvNu",
        "outputId": "fee3b7a0-1c1c-473e-bd01-4310b2950548"
      },
      "source": [
        "text = input().lower().split()\n",
        "lost = ['a', 'an', 'the']\n",
        "count = 0\n",
        "for i in text:\n",
        "  if i in lost:\n",
        "    count += 1\n",
        "print('Общее количество артиклей:', count)    "
      ],
      "execution_count": null,
      "outputs": [
        {
          "output_type": "stream",
          "text": [
            "William Shakespeare was born in the town of Stratford, England, in the year 1564. When he was a young man, Shakespeare moved to the city of London, where he began writing plays. His plays were soon very successful, and were enjoyed both by the common people of London and also by the rich and famous. In addition to his plays, Shakespeare wrote many short poems and a few longer poems. Like his plays, these poems are still famous today.\n",
            "Общее количество артиклей: 7\n"
          ],
          "name": "stdout"
        }
      ]
    },
    {
      "cell_type": "markdown",
      "metadata": {
        "id": "2HyRXpnpmXah"
      },
      "source": [
        "## Задача 38 - Взлом Братства Стали."
      ]
    },
    {
      "cell_type": "markdown",
      "metadata": {
        "id": "sFpNsPvrmfy9"
      },
      "source": [
        "Немалоизвестный в пустошах Мохаве Курьер забрел в Хидден-Вэли – секретный бункер Братства Стали, и любезно соглашается помочь им в решении их проблем. Одной из такой проблем являлся странный компьютерный вирус, который проявлялся в виде появления комментариев к программам на терминалах Братства Стали. Известно, что программисты Братства никогда не оставляют комментарии к коду, и пишут программы на Python, поэтому удаление всех этих комментариев никак не навредит им. Помогите писцу Ибсену удалить все комментарии из программы."
      ]
    },
    {
      "cell_type": "markdown",
      "metadata": {
        "id": "gebkLdzgmieB"
      },
      "source": [
        "На первой строке вводится символ решётки и сразу же натуральное число n — количество строк в программе, не считая первой. Далее следует n строк кода."
      ]
    },
    {
      "cell_type": "markdown",
      "metadata": {
        "id": "cYd4PUDPmo2B"
      },
      "source": [
        "Нужно вывести те же строки, но удалить комментарии и символы пустого пространства в конце строк. Пустую строку вместо первой строки ввода выводить не надо."
      ]
    },
    {
      "cell_type": "code",
      "metadata": {
        "colab": {
          "base_uri": "https://localhost:8080/"
        },
        "id": "2wUdLWBHlZ23",
        "outputId": "6f6d5560-ef73-4442-f41c-a82116404167"
      },
      "source": [
        "n = input()\n",
        "n = int(n[1:])\n",
        "cod = []\n",
        "for _ in range(n):\n",
        "  text = input().split(' ')\n",
        "  for i in text:\n",
        "    if len(i) > 0:\n",
        "      if i[0] == '#':\n",
        "        x = text.index(i)\n",
        "        text = text[:x]\n",
        "  text = ' '.join(text)    \n",
        "  text = text.rstrip()\n",
        "  cod.append(text)  \n",
        "for k in cod:\n",
        "  print(k) "
      ],
      "execution_count": null,
      "outputs": [
        {
          "output_type": "stream",
          "text": [
            "\n",
            "#6\n",
            "print(\"Введите своё имя\")\n",
            "name = input()\n",
            "print(\"Введите пароль, если имеется\")    # ахахахах вам не поймать меня\n",
            "password = input()\n",
            "if password == \"hoover\":\n",
            "    print(\"Здравствуйте, рыцарь\", name)         #долой Макнамару\n",
            "print(\"Введите своё имя\")\n",
            "name = input()\n",
            "print(\"Введите пароль, если имеется\")\n",
            "password = input()\n",
            "if password == \"hoover\":\n",
            "    print(\"Здравствуйте, рыцарь\", name)\n"
          ],
          "name": "stdout"
        }
      ]
    },
    {
      "cell_type": "markdown",
      "metadata": {
        "id": "uMV0YVqv4caM"
      },
      "source": [
        "## Задача 39 - Palindrom number."
      ]
    },
    {
      "cell_type": "markdown",
      "metadata": {
        "id": "S9NoQ33F4ioY"
      },
      "source": [
        "Дополните приведенный код, используя списочное выражение, так чтобы получить список всех чисел палиндромов от 100 до 1000."
      ]
    },
    {
      "cell_type": "code",
      "metadata": {
        "id": "snp69KmmNdcR",
        "colab": {
          "base_uri": "https://localhost:8080/"
        },
        "outputId": "27be9a17-52d8-4bd3-c4be-2e8e6022437b"
      },
      "source": [
        "palindromes = [i for i in range(100,1001) if str(i) == str(i)[::-1]]\n",
        "print(palindromes)"
      ],
      "execution_count": null,
      "outputs": [
        {
          "output_type": "stream",
          "text": [
            "[101, 111, 121, 131, 141, 151, 161, 171, 181, 191, 202, 212, 222, 232, 242, 252, 262, 272, 282, 292, 303, 313, 323, 333, 343, 353, 363, 373, 383, 393, 404, 414, 424, 434, 444, 454, 464, 474, 484, 494, 505, 515, 525, 535, 545, 555, 565, 575, 585, 595, 606, 616, 626, 636, 646, 656, 666, 676, 686, 696, 707, 717, 727, 737, 747, 757, 767, 777, 787, 797, 808, 818, 828, 838, 848, 858, 868, 878, 888, 898, 909, 919, 929, 939, 949, 959, 969, 979, 989, 999]\n"
          ],
          "name": "stdout"
        }
      ]
    },
    {
      "cell_type": "markdown",
      "metadata": {
        "id": "vLhZUccaTGTl"
      },
      "source": [
        "## Задача 40 - В одну строку."
      ]
    },
    {
      "cell_type": "markdown",
      "metadata": {
        "id": "6XbadHanTHZp"
      },
      "source": [
        "На вход программе подается строка текста, содержащая целые числа. Напишите программу, использующую списочное выражение, которая выведет квадраты четных чисел, которые не оканчиваются на цифру 4.  \n",
        "  \n",
        "Программу нужно написать в одну строку кода.  "
      ]
    },
    {
      "cell_type": "code",
      "metadata": {
        "colab": {
          "base_uri": "https://localhost:8080/"
        },
        "id": "g19lrxkDRNWZ",
        "outputId": "41433ed4-5386-4fcd-ae1f-5e1e5f022c05"
      },
      "source": [
        "x = [int(i)**2 for i in input().split() if int(i) % 2 == 0 and int(i)**2 % 10 != 4 ]\n",
        "print(*x)"
      ],
      "execution_count": null,
      "outputs": [
        {
          "output_type": "stream",
          "text": [
            "1 2 3 4 5 6 7 8 9\n",
            "16 36\n"
          ],
          "name": "stdout"
        }
      ]
    },
    {
      "cell_type": "markdown",
      "metadata": {
        "id": "369AczJRXfy2"
      },
      "source": [
        "## Задача 41 - Валидный номер."
      ]
    },
    {
      "cell_type": "markdown",
      "metadata": {
        "id": "p3Gmu_0uXgjL"
      },
      "source": [
        "На вход программе подается строка текста. Напишите программу, которая определяет является ли введенная строка корректным телефонным номером. Строка текста является корректным телефонным номером если она имеет формат:  \n",
        "  \n",
        "`abc-def-hijk` или  \n",
        "`7-abc-def-hijk`  \n",
        "  \n",
        "где `a, b, c, d, e, f, h, i, j, k` – цифры от 0 до 9.  \n",
        "  \n",
        "Программа должна вывести «YES» если строка является корректным телефонным номером и «NO» в противном случае.  \n",
        "\n",
        "Телефонный номер должен содержать только цифры и символ -, а количество цифр в каждой группе должны быть правильным.    "
      ]
    },
    {
      "cell_type": "code",
      "metadata": {
        "id": "oBmCDgsY_lFO"
      },
      "source": [
        "l = [i for i in input()]\n",
        "n = [str(i) for i in range(10)]\n",
        "if len(l) == 12:\n",
        "  x = l.count('-')\n",
        "  f = True\n",
        "  if x == 2:\n",
        "    del l[3]\n",
        "    ind = l.index('-')\n",
        "    del l[ind]\n",
        "    if ind != 6:\n",
        "      f = False  \n",
        "  if x != 2:\n",
        "    f = False\n",
        "  for i in l:\n",
        "    if i not in n:\n",
        "      f = False\n",
        "  if f == True:\n",
        "    print('YES')  \n",
        "  elif f == False:\n",
        "    print('NO')\n",
        "\n",
        "elif len(l) == 14:\n",
        "  x = l.count('-')\n",
        "  f = True\n",
        "  if x == 3:\n",
        "    del l[1]\n",
        "    ind = l.index('-')\n",
        "    del l[ind]\n",
        "    ind2 = l.index('-')\n",
        "    del l[ind2]\n",
        "    if ind != 4:\n",
        "      f = False\n",
        "    if ind2 != 7:  \n",
        "      f = False\n",
        "  if x != 3:\n",
        "    f = False\n",
        "  if l[0] != '7':\n",
        "    f = False  \n",
        "  for i in l:\n",
        "    if i not in n:\n",
        "      f = False\n",
        "  if f == True:\n",
        "    print('YES')  \n",
        "  elif f == False:\n",
        "    print('NO')  \n",
        "\n",
        "else:\n",
        "  print('NO')"
      ],
      "execution_count": null,
      "outputs": []
    },
    {
      "cell_type": "markdown",
      "metadata": {
        "id": "ZszVkNtwY8fW"
      },
      "source": [
        "## Задача 42 - Сумма цифр."
      ]
    },
    {
      "cell_type": "markdown",
      "metadata": {
        "id": "J7yp8sQuJruK"
      },
      "source": [
        "Напишите функцию `print_digit_sum()`, которая принимает одно целое число `num` и выводит на печать сумму его цифр."
      ]
    },
    {
      "cell_type": "code",
      "metadata": {
        "id": "S5daXtipOaj9",
        "colab": {
          "base_uri": "https://localhost:8080/"
        },
        "outputId": "6e63f097-a75c-401c-99d8-983fef79d62b"
      },
      "source": [
        "# объявление функции\n",
        "def print_digit_sum(num):\n",
        "  count = 0\n",
        "  while num > 0:\n",
        "    count += num%10\n",
        "    num = num // 10\n",
        "  print(count)\n",
        "  pass\n",
        "\n",
        "# считываем данные\n",
        "n = int(input())\n",
        "\n",
        "# вызываем функцию\n",
        "print_digit_sum(n)"
      ],
      "execution_count": null,
      "outputs": [
        {
          "output_type": "stream",
          "text": [
            "1111\n",
            "4\n"
          ],
          "name": "stdout"
        }
      ]
    },
    {
      "cell_type": "markdown",
      "metadata": {
        "id": "btgXpO7uJ0eh"
      },
      "source": [
        "## Задача 43 - Найти всех."
      ]
    },
    {
      "cell_type": "markdown",
      "metadata": {
        "id": "IkmvABC6NJ16"
      },
      "source": [
        "Напомним, что строковый метод `find('a')` возвращает местоположение первого вхождения символа `a` в строке. Проблема заключается в том, что данный метод не находит местоположение всех символов `а`.  \n",
        "  \n",
        "Напишите функцию с именем `find_all(target, symbol)`, которая принимает два аргумента: строку `target` и символ `symbol` и возвращает список, содержащий все местоположения этого символа в строке."
      ]
    },
    {
      "cell_type": "code",
      "metadata": {
        "id": "oU5SUndzKKa9",
        "colab": {
          "base_uri": "https://localhost:8080/"
        },
        "outputId": "281de1c7-2213-4f2c-b0bd-df6d1d2e2dac"
      },
      "source": [
        "# объявление функции\n",
        "def find_all(target, symbol):\n",
        "  result = []\n",
        "  for i in range(len(target)):\n",
        "    if target[i] == symbol:\n",
        "      result.append(i)\n",
        "  return result\n",
        "\n",
        "# считываем данные\n",
        "s = input()\n",
        "char = input()\n",
        "\n",
        "# вызываем функцию\n",
        "print(find_all(s, char))"
      ],
      "execution_count": null,
      "outputs": [
        {
          "output_type": "stream",
          "text": [
            "abcdabcaaa\n",
            "a\n",
            "[0, 4, 7, 8, 9]\n"
          ],
          "name": "stdout"
        }
      ]
    },
    {
      "cell_type": "markdown",
      "metadata": {
        "id": "Q0w_xG6TQBlU"
      },
      "source": [
        "## Задача 44 - Палиндром."
      ]
    },
    {
      "cell_type": "markdown",
      "metadata": {
        "id": "uj9a_bdZQCM_"
      },
      "source": [
        "Напишите функцию `is_palindrome(text)`, которая принимает в качестве аргумента строку `text` и возвращает значение `True` если указанный текст является палиндромом и `False` в противном случае.  \n",
        "  \n",
        "**Примечание 1.** Палиндром – это строка, которая читается одинаково в обоих направлениях  \n",
        "  \n",
        "**Примечание 2.** При проверке считайте большие и маленькие буквы одинаковыми,  \n",
        "а также игнорируйте пробелы, а также символы `, . ! ? -`"
      ]
    },
    {
      "cell_type": "code",
      "metadata": {
        "colab": {
          "base_uri": "https://localhost:8080/"
        },
        "id": "AongSfJFQCbB",
        "outputId": "5984d747-fa26-45ce-9cbc-f22bef6fe41f"
      },
      "source": [
        "# объявление функции\n",
        "def is_palindrome(text):\n",
        "  text = text.lower()\n",
        "  result = []\n",
        "  bag = [',', '.', '!', '?', '-', ' ']\n",
        "  \n",
        "  for k in text:\n",
        "    if k not in bag:\n",
        "      result.append(k)\n",
        "\n",
        "  if result == result[::-1]:\n",
        "    return True\n",
        "  else:\n",
        "    return False   \n",
        "\n",
        "# считываем данные\n",
        "txt = input()\n",
        "\n",
        "# вызываем функцию\n",
        "print(is_palindrome(txt))"
      ],
      "execution_count": null,
      "outputs": [
        {
          "output_type": "stream",
          "text": [
            "А роза упала на лапу Азора.\n",
            "True\n"
          ],
          "name": "stdout"
        }
      ]
    },
    {
      "cell_type": "markdown",
      "metadata": {
        "id": "eOaBbAzrjit1"
      },
      "source": [
        "## Задача 45 - Правильная скобочная последовательностью"
      ]
    },
    {
      "cell_type": "markdown",
      "metadata": {
        "id": "73VV2u32jm_w"
      },
      "source": [
        "Напишите функцию `is_correct_bracket(text)`, которая принимает в качестве аргумента непустую строку `text`, состоящую из символов `(` и `)` и возвращает значение `True` если поступившая на вход строка является правильной скобочной последовательностью и `False` в противном случае.  \n",
        "  \n",
        "**Примечание.** Правильной скобочной последовательностью называется строка, состоящая только из символов `(` и `)`, где каждой открывающей скобке найдется парная закрывающая скобка."
      ]
    },
    {
      "cell_type": "code",
      "metadata": {
        "id": "UMlY3tb1Qyaf",
        "colab": {
          "base_uri": "https://localhost:8080/"
        },
        "outputId": "f184cf86-6d17-4add-ea4f-dd6709617e7a"
      },
      "source": [
        "# объявление функции\n",
        "def is_correct_bracket(text):\n",
        "  if len(text) % 2 != 0:\n",
        "    return False\n",
        "  left = 0\n",
        "  riht = 0\n",
        "  for k in text:\n",
        "    if k == ')':\n",
        "      riht += 1\n",
        "    if k == '(':\n",
        "      left += 1\n",
        "  if riht != left:\n",
        "    return False\n",
        "  if text[0] != '(' or text[-1] != ')':\n",
        "    return False\n",
        "  count = 0\n",
        "  for i in range(len(text)):\n",
        "    if text[i] == '(':\n",
        "      count += 1\n",
        "    if text[i] == ')':\n",
        "      count -= 1\n",
        "    if count < 0:\n",
        "      return False\n",
        "  if count == 0:\n",
        "    return True\n",
        "  else:\n",
        "    return False                       \n",
        "\n",
        "# считываем данные\n",
        "txt = input()\n",
        "\n",
        "# вызываем функцию\n",
        "print(is_correct_bracket(txt))"
      ],
      "execution_count": null,
      "outputs": [
        {
          "output_type": "stream",
          "text": [
            ")(())(\n",
            "False\n"
          ],
          "name": "stdout"
        }
      ]
    },
    {
      "cell_type": "markdown",
      "metadata": {
        "id": "vySdeP--2Yzp"
      },
      "source": [
        "## Задача 46 - Змеиный регистр."
      ]
    },
    {
      "cell_type": "markdown",
      "metadata": {
        "id": "kEBjxkO02hZi"
      },
      "source": [
        "Напишите функцию `convert_to_python_case(text)`, которая принимает в качестве аргумента строку в «верблюжьем регистре» и преобразует его в «змеиный регистр»."
      ]
    },
    {
      "cell_type": "code",
      "metadata": {
        "id": "hyATVPHJQyeU",
        "colab": {
          "base_uri": "https://localhost:8080/"
        },
        "outputId": "413ee99d-7ce4-4078-a7d6-e73736d31bca"
      },
      "source": [
        "# объявление функции\n",
        "def convert_to_python_case(text):\n",
        "  result = []\n",
        "  for k in text:\n",
        "    if k.isupper():\n",
        "      x = '_' + k.lower()\n",
        "      result.append(x)\n",
        "    else:\n",
        "      result.append(k)\n",
        "  result = ''.join(result)    \n",
        "  return result[1:]      \n",
        "\n",
        "\n",
        "# считываем данные\n",
        "txt = input()\n",
        "\n",
        "# вызываем функцию\n",
        "print(convert_to_python_case(txt))"
      ],
      "execution_count": null,
      "outputs": [
        {
          "output_type": "stream",
          "text": [
            "IsPrime8Number\n",
            "is_prime8_number\n"
          ],
          "name": "stdout"
        }
      ]
    },
    {
      "cell_type": "markdown",
      "metadata": {
        "id": "nHGh4CDI81Ot"
      },
      "source": [
        "## Задача 47 - Корни уравнения"
      ]
    },
    {
      "cell_type": "markdown",
      "metadata": {
        "id": "Dzks6FNL85ag"
      },
      "source": [
        "Напишите функцию `solve(a, b, c)`, которая принимает в качестве аргументов три целых числа `a`, `b`, `c` – коэффициенты квадратного уравнения `ax^2 + bx + c = 0` и возвращает его корни в порядке возрастания.  \n",
        "  \n",
        "**Примечание.** Гарантируется, что квадратное уравнение имеет корни.  "
      ]
    },
    {
      "cell_type": "code",
      "metadata": {
        "id": "TpAdjSXDQyiC",
        "colab": {
          "base_uri": "https://localhost:8080/"
        },
        "outputId": "977d0f07-9df1-4798-f362-517bfe5f972b"
      },
      "source": [
        "# объявление функции\n",
        "def solve(a, b, c):\n",
        "  d = b**2 - 4 * a * c\n",
        "  if d == 0:\n",
        "    x = (-1 * b) / (2 * a)\n",
        "    return x , x\n",
        "  elif d > 0:\n",
        "    x1 = ( -1 * b + d**0.5 ) / ( 2 * a ) \n",
        "    x2 = ( -1 * b - d**0.5 ) / ( 2 * a )\n",
        "    return min(x1,x2), max(x1,x2)\n",
        "  \n",
        "\n",
        "# считываем данные\n",
        "a, b, c = int(input()), int(input()), int(input())\n",
        "\n",
        "# вызываем функцию\n",
        "x1, x2 = solve(a, b, c)\n",
        "print(x1, x2)"
      ],
      "execution_count": null,
      "outputs": [
        {
          "output_type": "stream",
          "text": [
            "-2\n",
            "7\n",
            "-5\n",
            "1.0 2.5\n"
          ],
          "name": "stdout"
        }
      ]
    },
    {
      "cell_type": "markdown",
      "metadata": {
        "id": "H4IOvcRhByFg"
      },
      "source": [
        "## Задача 48 - Число словами."
      ]
    },
    {
      "cell_type": "markdown",
      "metadata": {
        "id": "7Dgkz5pvB2u9"
      },
      "source": [
        "Напишите функцию `number_to_words(num)`, которая принимает в качестве аргумента натуральное число `num` и возвращает его словесное описание на русском языке."
      ]
    },
    {
      "cell_type": "code",
      "metadata": {
        "colab": {
          "base_uri": "https://localhost:8080/"
        },
        "id": "QBCXUFF9B3bO",
        "outputId": "90a13e93-0497-4e7c-9640-5aeea1992e0a"
      },
      "source": [
        "# объявление функции\n",
        "def number_to_words(num):\n",
        "  dir1 = {}\n",
        "  word1 = ['один', 'два', 'три', 'четыре', 'пять', 'шесть', 'семь', 'восемь', 'девять']\n",
        "  num1 = [i for i in range(1,10)]\n",
        "  for i in range(len(num1)):\n",
        "    dir1[num1[i]] = word1[i]\n",
        "\n",
        "  dir10 = {}\n",
        "  word10 = ['десять', 'двадцать', 'тридцать', 'сорок', 'пятьдесят', 'шестьдесят', 'семьдесят', 'восемьдесят', 'девяносто']\n",
        "  num10 = [i*10 for i in range(1,10)]\n",
        "  for i in range(len(num10)):\n",
        "    dir10[num10[i]] = word10[i]\n",
        "\n",
        "  dir11 = {}\n",
        "  word11 = ['одиннадцать', 'двенадцать', 'тринадцать', 'четырнадцать', 'пятнадцать', 'шестнадцать', 'семнадцать', 'восемнадцать', 'девятнадцать']\n",
        "  num11 = [i for i in range(11,20)]\n",
        "  for i in range(len(num11)):\n",
        "    dir11[num11[i]] = word11[i]\n",
        "  \n",
        "  if 11 <= num <= 19:\n",
        "    return dir11[num]\n",
        "  if 1 <= num <= 9:\n",
        "    return dir1[num]\n",
        "  if num == 10:\n",
        "    return dir10[num]\n",
        "\n",
        "  if 20 <= num <= 99:\n",
        "    a, b = num//10*10 , num%10  \n",
        "    if b == 0:\n",
        "      return dir10[a]\n",
        "    else:  \n",
        "      x = dir10[a] + ' ' + dir1[b]\n",
        "      return x    \n",
        "\n",
        "# считываем данные\n",
        "n = int(input())\n",
        "\n",
        "# вызываем функцию\n",
        "print(number_to_words(n))"
      ],
      "execution_count": null,
      "outputs": [
        {
          "output_type": "stream",
          "text": [
            "20\n",
            "двадцать\n"
          ],
          "name": "stdout"
        }
      ]
    },
    {
      "cell_type": "markdown",
      "metadata": {
        "id": "7uY0iUZfYMnj"
      },
      "source": [
        "## Задача 49 - Панграммы."
      ]
    },
    {
      "cell_type": "markdown",
      "metadata": {
        "id": "sQg7n6UCYRpD"
      },
      "source": [
        "Панграмма – это фраза, содержащая в себе все буквы алфавита. Обычно панграммы используют для презентации шрифтов, чтобы можно было в одной фразе рассмотреть все глифы.  \n",
        "  \n",
        "Напишите функцию, `is_pangram(text)` которая принимает в качестве аргумента строку текста на английском языке и возвращает значение `True` если текст является панграммой и False в противном случае.  \n",
        "  \n",
        "**Примечание.** Гарантируется, что введенная строка содержит только буквы английского алфавита."
      ]
    },
    {
      "cell_type": "code",
      "metadata": {
        "id": "92af7wEaQymY",
        "colab": {
          "base_uri": "https://localhost:8080/"
        },
        "outputId": "9048f174-017b-4c13-e2cb-257a4e813b65"
      },
      "source": [
        "# объявление функции\n",
        "def is_pangram(text):\n",
        "  abc = 'abcdefghijklmnopqrstuvwxyz'\n",
        "  text = text.lower()\n",
        "  for k in abc:\n",
        "    if k not in text:\n",
        "      return False\n",
        "  return True  \n",
        "      \n",
        "# считываем данные\n",
        "text = input()\n",
        "\n",
        "# вызываем функцию\n",
        "print(is_pangram(text))"
      ],
      "execution_count": null,
      "outputs": [
        {
          "output_type": "stream",
          "text": [
            "Jackdaws love my big sphinx of quartz\n",
            "True\n"
          ],
          "name": "stdout"
        }
      ]
    },
    {
      "cell_type": "markdown",
      "metadata": {
        "id": "TqDFo-xKc5Qd"
      },
      "source": [
        "## Задача 50 - Тимур и его числа."
      ]
    },
    {
      "cell_type": "markdown",
      "metadata": {
        "id": "WCZ80bMOc9yH"
      },
      "source": [
        "Тимур загадал число от 1 до `n`. За какое наименьшее количество вопросов (на которые Тимур отвечает \"больше\" или \"меньше\") Руслан может гарантированно угадать число Тимура?  \n",
        "  \n",
        "**Формат входных данных**  \n",
        "На вход программе подается натуральное число `n.`   \n",
        "  \n",
        "**Формат выходных данных**  \n",
        "Программа должна вывести наименьшее количество вопросов, которых гарантированно хватит Руслану, чтобы угадать число Тимура.  "
      ]
    },
    {
      "cell_type": "code",
      "metadata": {
        "id": "uhsU4jF1KKmP",
        "colab": {
          "base_uri": "https://localhost:8080/"
        },
        "outputId": "6faf7295-54b6-493d-b25c-5e56b269f234"
      },
      "source": [
        "import math\n",
        "n = int(input())\n",
        "x = math.log(n,2)\n",
        "print(math.ceil(x))"
      ],
      "execution_count": null,
      "outputs": [
        {
          "output_type": "stream",
          "text": [
            "100\n",
            "7\n"
          ],
          "name": "stdout"
        }
      ]
    },
    {
      "cell_type": "markdown",
      "metadata": {
        "id": "LM3nqQjlkyBO"
      },
      "source": [
        "## Задача 51 - Аве, Цезарь.\n"
      ]
    },
    {
      "cell_type": "markdown",
      "metadata": {
        "id": "Zcy8gHTbk2W1"
      },
      "source": [
        "На вход программе подается строка текста на английском языке, в которой нужно зашифровать все слова. Каждое слово строки следует зашифровать с помощью шифра Цезаря (циклического сдвига на длину этого слова). Строчные буквы при этом остаются строчными, а прописные – прописными.  \n",
        "  \n",
        "**Формат входных данных**  \n",
        "На вход программе подается строка текста на английском языке.  \n",
        "\n",
        "**Формат выходных данных**  \n",
        "Программа должна вывести зашифрованный текст в соответствии с условием задачи.   "
      ]
    },
    {
      "cell_type": "code",
      "metadata": {
        "colab": {
          "base_uri": "https://localhost:8080/"
        },
        "id": "YwV0LRtDv85b",
        "outputId": "2f859f19-7393-42ef-e1e8-d9314516c954"
      },
      "source": [
        "def cezar(text):\n",
        "  alphabet = [chr(i) for i in range(65,91)] + [chr(j) for j in range(97,123)]\n",
        "  moch = 26\n",
        "  k = 0\n",
        "  for c in text:\n",
        "    if c in alphabet:\n",
        "      k += 1\n",
        "  for i in range(len(text)):\n",
        "    if text[i].isalpha():\n",
        "      if text[i].isupper():\n",
        "        print(alphabet[(alphabet.index(text[i]) + k) % moch], end = '')\n",
        "      else:\n",
        "         print(alphabet[(alphabet.index(text[i]) + k) % moch + moch], end='')\n",
        "    else:\n",
        "       print(text[i], end = '')\n",
        "  return ' '    \n",
        "\n",
        "txt = input().split()\n",
        "\n",
        "for c in txt:\n",
        "  print(cezar(c),end='')\n",
        "       "
      ],
      "execution_count": null,
      "outputs": [
        {
          "output_type": "stream",
          "text": [
            "my name is Python!\n",
            "oa reqi ku Veznut! "
          ],
          "name": "stdout"
        }
      ]
    },
    {
      "cell_type": "markdown",
      "metadata": {
        "id": "wCTm0OFgDNkl"
      },
      "source": [
        "## Задача 52 - BOH"
      ]
    },
    {
      "cell_type": "markdown",
      "metadata": {
        "id": "oBjv_4PuDR1i"
      },
      "source": [
        "На вход программе подается натуральное число в десятичной системе счисления. Напишите программу, которая переводит его в двоичную, восьмеричную и шестнадцатеричную системы счисления.\n",
        "\n",
        "**Формат входных данных**  \n",
        "На вход программе подается натуральное число.\n",
        "\n",
        "**Формат выходных данных**  \n",
        "Программа должна вывести текст в соответствии с условием задачи.\n",
        "\n",
        "**Примечание**  \n",
        "`BOH = Binary, Octal, Hex.`"
      ]
    },
    {
      "cell_type": "code",
      "metadata": {
        "colab": {
          "base_uri": "https://localhost:8080/"
        },
        "id": "_UeU61RMDpxt",
        "outputId": "87d359c4-c2f5-4e26-a959-2dab6bd8a4ad"
      },
      "source": [
        "x = int(input())\n",
        "print(bin(x)[2:])\n",
        "print(oct(x)[2:])\n",
        "print(hex(x)[2:].upper())"
      ],
      "execution_count": null,
      "outputs": [
        {
          "output_type": "stream",
          "text": [
            "10\n",
            "1010\n",
            "12\n",
            "A\n"
          ],
          "name": "stdout"
        }
      ]
    },
    {
      "cell_type": "markdown",
      "metadata": {
        "id": "T_E_6r5fdYJH"
      },
      "source": [
        "# Мини-проекты (4)"
      ]
    },
    {
      "cell_type": "markdown",
      "metadata": {
        "id": "zQqhTArQ-jMD"
      },
      "source": [
        "## Мини-проект 1 - Игра 21."
      ]
    },
    {
      "cell_type": "markdown",
      "metadata": {
        "id": "Ab08U3ytY9Tg"
      },
      "source": [
        ""
      ]
    },
    {
      "cell_type": "code",
      "metadata": {
        "id": "8ql600HPZiaB",
        "colab": {
          "base_uri": "https://localhost:8080/"
        },
        "outputId": "635b317a-80c3-4d0c-8482-1ccae907e3cb"
      },
      "source": [
        "import random\n",
        "cards = [2, 3, 4, 6, 7, 8, 9, 10, 11] * 4\n",
        "random.shuffle(cards)\n",
        "\n",
        "print('Партию в 21?')\n",
        "count_user = 0\n",
        "count_bot = 0\n",
        "\n",
        "while True:\n",
        "  choice = input('Ещё карту? y/n\\n')\n",
        "  if choice == 'y':\n",
        "   current = cards.pop()\n",
        "   count_user += current\n",
        "   count_bot += cards.pop()\n",
        "   print('У вас {current:d}, теперь у вас {count:d}'.format(current=current, count=count_user))\n",
        "\n",
        "   if count_user == 21 or count_bot > 21:\n",
        "     print('Победа!')\n",
        "     break\n",
        "   elif count_user > 21 or count_bot == 21:\n",
        "     print('Потрачено')\n",
        "     break\n",
        "  elif choice == 'n':\n",
        "   print('Боитесь ещё взять?')\n",
        "   if count_user < count_bot:\n",
        "     print('В следующий раз повезёт')\n",
        "   elif count_user > count_bot:\n",
        "     print('Вам просто повезло ;)')\n",
        "   else:\n",
        "     print('Ничья...')\n",
        "   break\n",
        "  else:\n",
        "   print('Что-то непонятное ввели :(')\n",
        "\n",
        "print('У вас {count_user:d} очков, а у вашего соперника {count_bot:d}'.format(count_user=count_user, count_bot=count_bot))"
      ],
      "execution_count": null,
      "outputs": [
        {
          "output_type": "stream",
          "text": [
            "Партию в 21?\n",
            "Ещё карту? y/n\n",
            "6\n",
            "Что-то непонятное ввели :(\n",
            "Ещё карту? y/n\n",
            "y\n",
            "У вас 8, теперь у вас 8\n",
            "Ещё карту? y/n\n",
            "y\n",
            "У вас 3, теперь у вас 11\n",
            "Ещё карту? y/n\n",
            "n\n",
            "Боитесь ещё взять?\n",
            "В следующий раз повезёт\n",
            "У вас 11 очков, а у вашего соперника 15\n"
          ],
          "name": "stdout"
        }
      ]
    },
    {
      "cell_type": "code",
      "metadata": {
        "id": "POA4OrTxddU7"
      },
      "source": [
        ""
      ],
      "execution_count": null,
      "outputs": []
    },
    {
      "cell_type": "markdown",
      "metadata": {
        "id": "AtH8oNwEkFA4"
      },
      "source": [
        "## Мини-проект 2 - Угадайка чисел."
      ]
    },
    {
      "cell_type": "markdown",
      "metadata": {
        "id": "sRi5OlaVkHWg"
      },
      "source": [
        "**Описание проекта:** программа генерирует случайное число в диапазоне от 1 до 100 и просит пользователя угадать это число. Если догадка пользователя больше случайного числа, то программа должна вывести сообщение `'Слишком много, попробуйте еще раз'`. Если догадка меньше случайного числа, то программа должна вывести сообщение `'Слишком мало, попробуйте еще раз'`. Если пользователь угадывает число, то программа должна поздравить его и вывести сообщение `'Вы угадали, поздравляем!'`."
      ]
    },
    {
      "cell_type": "code",
      "metadata": {
        "id": "hgfaPSjVKKpk",
        "colab": {
          "base_uri": "https://localhost:8080/"
        },
        "outputId": "c614ad5c-376c-4e2c-9102-1b2cb523097d"
      },
      "source": [
        "import random\n",
        "\n",
        "x = random.randint(1,100)\n",
        "print('Добро пожаловать в числовую угадайку')\n",
        "\n",
        "# функция проверки корректности введенных данных\n",
        "def is_valid(n):\n",
        "  if 1 <= n <= 100:\n",
        "    return True\n",
        "  else:\n",
        "    return False  \n",
        "\n",
        "count = 0\n",
        "while True:\n",
        "  num = int(input('Введите число от 1 до 100 - '))    \n",
        "  if not is_valid(num):\n",
        "    print('А может быть все-таки введем целое число от 1 до 100 ?')\n",
        "    continue\n",
        "  else:\n",
        "    if num < x:\n",
        "      print('Ваше число меньше загаданного, попробуйте еще разок')\n",
        "      count += 1\n",
        "    elif num > x:\n",
        "      print('Ваше число больше загаданного, попробуйте еще разок')\n",
        "      count += 1\n",
        "    else:\n",
        "      print('Вы угадали, поздравляем!')\n",
        "      count += 1\n",
        "      print(f'Количество попыток = {count}')\n",
        "      print()\n",
        "      print('Спасибо, что играли в числовую угадайку. Еще увидимся...')      \n",
        "      break\n",
        "\n"
      ],
      "execution_count": null,
      "outputs": [
        {
          "output_type": "stream",
          "text": [
            "Добро пожаловать в числовую угадайку\n",
            "Введите число от 1 до 100 - 50\n",
            "Ваше число меньше загаданного, попробуйте еще разок\n",
            "Введите число от 1 до 100 - 75\n",
            "Ваше число меньше загаданного, попробуйте еще разок\n",
            "Введите число от 1 до 100 - 84\n",
            "Ваше число меньше загаданного, попробуйте еще разок\n",
            "Введите число от 1 до 100 - 94\n",
            "Ваше число больше загаданного, попробуйте еще разок\n",
            "Введите число от 1 до 100 - 89\n",
            "Ваше число больше загаданного, попробуйте еще разок\n",
            "Введите число от 1 до 100 - 87\n",
            "Вы угадали, поздравляем!\n",
            "Количество попыток = 6\n",
            "\n",
            "Спасибо, что играли в числовую угадайку. Еще увидимся...\n"
          ],
          "name": "stdout"
        }
      ]
    },
    {
      "cell_type": "markdown",
      "metadata": {
        "id": "AnVh7eI8relq"
      },
      "source": [
        "## Мини-проект 3 - Магический шар 8."
      ]
    },
    {
      "cell_type": "markdown",
      "metadata": {
        "id": "xhSRVosdrixs"
      },
      "source": [
        "**Описание проекта**: магический шар 8 (шар судьбы) — шуточный способ предсказывать будущее. Программа должна просить пользователя задать некий вопрос, чтобы случайным образом на него ответить."
      ]
    },
    {
      "cell_type": "code",
      "metadata": {
        "id": "MFlUMz8leH5p",
        "colab": {
          "base_uri": "https://localhost:8080/"
        },
        "outputId": "0a4ccf41-dd60-4ab9-d9d0-af6db8a59334"
      },
      "source": [
        "import random\n",
        "answer = [\"Бесспорно\", \"Предрешено\", \"Никаких сомнений\", \"Определённо да\",\"Можешь быть уверен в этом\", \n",
        "          \"Мне кажется - да\", \"Вероятнее всего\", \"Хорошие перспективы\", \"Знаки говорят - да\", \n",
        "          \"Да\", \"Пока неясно, попробуй снова\", \"Спроси позже\", \"Лучше не рассказывать\", \n",
        "          \"Сейчас нельзя предсказать\", \"Сконцентрируйся и спроси опять\", \"Даже не думай\", \n",
        "          \"Мой ответ - нет\", \"По моим данным - нет\", \"Перспективы не очень хорошие\", \"Весьма сомнительно\"]\n",
        "          \n",
        "print('Привет Мир, я магический шар, и я знаю ответ на любой твой вопрос.')\n",
        "name = input('Как тебя зовут? ')\n",
        "print(f'Привет {name}')\n",
        "\n",
        "while True:\n",
        "  work = input('Задай свой вопрос: ')\n",
        "  print('хмм ... ')\n",
        "  print(random.choice(answer))\n",
        "  fast = input('Ещё? (д/н) ')\n",
        "  if fast == 'д':\n",
        "    continue\n",
        "  else:\n",
        "    print('Возвращайся если возникнут вопросы!')\n",
        "    break  "
      ],
      "execution_count": null,
      "outputs": [
        {
          "output_type": "stream",
          "text": [
            "Привет Мир, я магический шар, и я знаю ответ на любой твой вопрос.\n",
            "Как тебя зовут? Азар\n",
            "Привет Азар\n",
            "Задай свой вопрос: Быть, или не быть?\n",
            "хмм ... \n",
            "Предрешено\n",
            "Ещё? (д/н) н\n",
            "Возвращайся если возникнут вопросы!\n"
          ],
          "name": "stdout"
        }
      ]
    },
    {
      "cell_type": "markdown",
      "metadata": {
        "id": "gJbIu4eHwqHU"
      },
      "source": [
        "## Мини-проект 4 - Шифр Цезаря."
      ]
    },
    {
      "cell_type": "markdown",
      "metadata": {
        "id": "ftDXJA_Lws0r"
      },
      "source": [
        "**Описание проекта**: требуется написать программу, способную шифровать и дешифровать текст в соответствии с алгоритмом Цезаря. Она должна запрашивать у пользователя следующие данные:  \n",
        "  \n",
        "- **направление**: шифрование или дешифрование  \n",
        "- **язык алфавита**: русский или английский  \n",
        "- **шаг сдвига** (со сдвигом вправо)  \n",
        "\n",
        "**Примечание 1.** Считайте, что в русском языке 32 буквы (буква ё отсутствует).\n",
        "\n",
        "**Примечание 2.** Неалфавитные символы — знаки препинания, пробелы, цифры — не меняются.  "
      ]
    },
    {
      "cell_type": "code",
      "metadata": {
        "id": "TI8nChB-wtCX",
        "colab": {
          "base_uri": "https://localhost:8080/"
        },
        "outputId": "27bf5b6b-47ee-4976-ea18-6a4f60ae54f4"
      },
      "source": [
        "print('Программа шифровки / дешифровки текста по методу Цезаря')\n",
        "k = int(input('Введите шаг сдвига для шифровки ( >0 ) или дешифровки ( <0 ) '))\n",
        "en_alphabet = [chr(i) for i in range(65,91)] + [chr(j) for j in range(97,123)]\n",
        "ru_alphabet = [chr(i) for i in range(1040,1104)]\n",
        "def cezar(text):\n",
        "    if txt[0] in en_alphabet:\n",
        "        alphabet = en_alphabet; moch = 26\n",
        "    else:\n",
        "        alphabet = ru_alphabet; moch = 32\n",
        "    for i in range(len(text)):\n",
        "        if text[i].isalpha():\n",
        "            if text[i].isupper():\n",
        "                print(alphabet[(alphabet.index(text[i]) + k) % moch], end = '')\n",
        "            else:\n",
        "                print(alphabet[(alphabet.index(text[i]) + k) % moch + moch], end='')\n",
        "        else:\n",
        "            print(text[i], end = '')\n",
        "txt = input('Введите текст ')\n",
        "cezar(txt)\n",
        "\n"
      ],
      "execution_count": null,
      "outputs": [
        {
          "output_type": "stream",
          "text": [
            "Программа шифровки / дешифровки текста по методу Цезаря\n",
            "Введите шаг сдвига для шифровки ( >0 ) или дешифровки ( <0 ) -22\n",
            "Введите текст Hawnj pk swhg xabkna ukq nqj.\n",
            "Learn to walk before you run."
          ],
          "name": "stdout"
        }
      ]
    },
    {
      "cell_type": "markdown",
      "metadata": {
        "id": "_K-PdjbZCrGV"
      },
      "source": [
        "## Мини-проект 5"
      ]
    },
    {
      "cell_type": "markdown",
      "metadata": {
        "id": "KsDfIuDjCt1T"
      },
      "source": [
        ""
      ]
    },
    {
      "cell_type": "code",
      "metadata": {
        "colab": {
          "base_uri": "https://localhost:8080/"
        },
        "id": "9AlBpRGtC4NT",
        "outputId": "698e5bbe-2b8b-4b5a-947c-ee96b7bda1f9"
      },
      "source": [
        "import random\n",
        "word_list = ['красный', 'треугольник', 'апельсин', 'медведь', 'грейпфрут', 'ниндзя', 'коктель', 'вертушка',\n",
        "             'гиббон', 'артель', 'силикон', 'штанга', 'шифер', 'принадлежность', 'параболоид', 'длиномер',\n",
        "             'контроллер']\n",
        "error_words = ['Не то печатаешь, давай заново',\n",
        "               'Что печатаешь, двоечник! Заново',\n",
        "               'Ошибка. Пробуй заново',\n",
        "               'Кто тебя учил текст набирать? Удаляю и снова печатай',\n",
        "               'Неверный текст, снова давай',\n",
        "               'Галиматья, опять давай',\n",
        "               'Чушь! Нет таких букв в алфавите. Снова давай']\n",
        "guessed_list = ['Ты уже писал такое. Напряги извилины',\n",
        "                'Тебе надо на свежий воздух. То же самое пишешь',\n",
        "                'Было уже. Попробуй еще',\n",
        "                'Опять! было уже',\n",
        "                'Что заладил одно и то же. Давай думай еще',\n",
        "                'Нет. Было уже. Еще варианты']\n",
        "win_words = ['Выиграл! Красава! ', 'Угадал, Дай пять! Хотя нет, можешь нажать пять раз [Enter]',\n",
        "             'Ты разгадал! Всеми правдами и неправдами ты сделал это']\n",
        "guess_words = ['Есть такая буква', 'Угадал букву']\n",
        "not_guess_words = ['Нет такого слова', 'Вот и не угадал', 'Не угадал', 'Не то слово',\n",
        "                   'Хватит себя мучать. Угадывай буквы', 'Нет. Не выдумаывай']\n",
        "not_guess_letter = ['Нет такой буквы', 'Вот и не угадал', 'Не угадал', 'Не та буква',\n",
        "                    'Подумай еще и начни с другой буквы', 'Нет. Не выдумаывай']\n",
        "loser_words = ['Ты loser!', 'Ха! Не угадал. Ты проиграл', 'Ты не смог угадать', 'Game over']\n",
        "\n",
        "\n",
        "def get_word(text_list):\n",
        "    word = random.choice(text_list)\n",
        "    return word.upper()\n",
        "\n",
        "\n",
        "def display_hangman(tries):\n",
        "    stages = [  # финальное состояние: голова, торс, обе руки, обе ноги\n",
        "                '''\n",
        "                Повесили чувака\n",
        "                   --------\n",
        "                   |      |\n",
        "                   |      O\n",
        "                   |     \\|/\n",
        "                   |      |\n",
        "                   |     / \\\n",
        "                   -\n",
        "                ''',\n",
        "                # голова, торс, обе руки, одна нога\n",
        "                '''\n",
        "                Осталась 1 попытка\n",
        "                   --------\n",
        "                   |      |\n",
        "                   |      O\n",
        "                   |     \\|/\n",
        "                   |      |\n",
        "                   |     / \n",
        "                   -\n",
        "                ''',\n",
        "                # голова, торс, обе руки\n",
        "                '''\n",
        "                Осталось 2 попытки\n",
        "                   --------\n",
        "                   |      |\n",
        "                   |      O\n",
        "                   |     \\|/\n",
        "                   |      |\n",
        "                   |      \n",
        "                   -\n",
        "                ''',\n",
        "                # голова, торс и одна рука\n",
        "                '''\n",
        "                Осталось 3 попытки\n",
        "                   --------\n",
        "                   |      |\n",
        "                   |      O\n",
        "                   |     \\|\n",
        "                   |      |\n",
        "                   |     \n",
        "                   -\n",
        "                ''',\n",
        "                # голова и торс\n",
        "                '''\n",
        "                Осталось 4 попытки\n",
        "                   --------\n",
        "                   |      |\n",
        "                   |      O\n",
        "                   |      |\n",
        "                   |      |\n",
        "                   |     \n",
        "                   -\n",
        "                ''',\n",
        "                # голова\n",
        "                '''\n",
        "                Осталось 5 попыток\n",
        "                   --------\n",
        "                   |      |\n",
        "                   |      O\n",
        "                   |    \n",
        "                   |      \n",
        "                   |     \n",
        "                   -\n",
        "                ''',\n",
        "                # начальное состояние\n",
        "                '''\n",
        "                Осталось 6 попыток\n",
        "                   --------\n",
        "                   |      |\n",
        "                   |      \n",
        "                   |    \n",
        "                   |      \n",
        "                   |     \n",
        "                   -\n",
        "                '''\n",
        "    ]\n",
        "    return stages[tries]\n",
        "\n",
        "\n",
        "def play(word):\n",
        "    word_completion = ['*' for _ in range(len(word))]  # список, содержащий символы _ на каждую букву задуманного слова\n",
        "    guessed = False                                   # сигнальная метка\n",
        "    guessed_letters = []                              # список уже названных букв\n",
        "    guessed_words = []                                # список уже названных слов\n",
        "    tries = 6                                         # количество попыток\n",
        "    print('Давайте играть в угадайку')\n",
        "    print(display_hangman(tries))\n",
        "    print(f'Слово из {len(word)} букв ', *word_completion, sep='')\n",
        "    while not guessed:\n",
        "        word_input = input('Введите букву или слово ').upper()\n",
        "        if not word_input.isalpha():\n",
        "            print(get_word(error_words))\n",
        "            continue\n",
        "        if word_input in guessed_letters or word_input in guessed_words:\n",
        "            print(get_word(guessed_list))\n",
        "            continue\n",
        "        if len(word_input) > 1:\n",
        "            if word_input == word:\n",
        "                print(get_word(win_words))\n",
        "                break\n",
        "            else:\n",
        "                guessed_words.append(word_input)\n",
        "                tries -= 1\n",
        "                print(get_word(not_guess_words))\n",
        "                print(display_hangman(tries))\n",
        "                print(f'Слово из {len(word)} букв ', *word_completion, sep='')\n",
        "        if len(word_input) == 1:\n",
        "            guessed_letters.append(word_input)\n",
        "            if word_input in word:\n",
        "                guessed = True\n",
        "                for i in range(len(word)):\n",
        "                    if word[i] == word_input:\n",
        "                        word_completion[i] = word_input\n",
        "                    if not word_completion[i].isalpha():\n",
        "                        guessed = False\n",
        "                if guessed:\n",
        "                    print(f'Да! Слово из {len(word)} букв это', *word_completion, sep='')\n",
        "                    print(get_word(win_words))\n",
        "                else:\n",
        "                    print(get_word(guess_words))\n",
        "                    print(display_hangman(tries))\n",
        "                    print(f'Слово из {len(word)} букв ', *word_completion, sep='')\n",
        "            else:\n",
        "                tries -= 1\n",
        "                print(get_word(not_guess_letter))\n",
        "                print(display_hangman(tries))\n",
        "                print(f'Слово из {len(word)} букв ', *word_completion, sep='')\n",
        "        if tries == 0:\n",
        "            print(get_word(loser_words))\n",
        "            break\n",
        "\n",
        "\n",
        "play(get_word(word_list))            "
      ],
      "execution_count": null,
      "outputs": [
        {
          "output_type": "stream",
          "text": [
            "Давайте играть в угадайку\n",
            "\n",
            "                Осталось 6 попыток\n",
            "                   --------\n",
            "                   |      |\n",
            "                   |      \n",
            "                   |    \n",
            "                   |      \n",
            "                   |     \n",
            "                   -\n",
            "                \n",
            "Слово из 6 букв ******\n",
            "Введите букву или слово л\n",
            "НЕ УГАДАЛ\n",
            "\n",
            "                Осталось 5 попыток\n",
            "                   --------\n",
            "                   |      |\n",
            "                   |      O\n",
            "                   |    \n",
            "                   |      \n",
            "                   |     \n",
            "                   -\n",
            "                \n",
            "Слово из 6 букв ******\n",
            "Введите букву или слово а\n",
            "ВОТ И НЕ УГАДАЛ\n",
            "\n",
            "                Осталось 4 попытки\n",
            "                   --------\n",
            "                   |      |\n",
            "                   |      O\n",
            "                   |      |\n",
            "                   |      |\n",
            "                   |     \n",
            "                   -\n",
            "                \n",
            "Слово из 6 букв ******\n",
            "Введите букву или слово е\n",
            "НЕТ. НЕ ВЫДУМАЫВАЙ\n",
            "\n",
            "                Осталось 3 попытки\n",
            "                   --------\n",
            "                   |      |\n",
            "                   |      O\n",
            "                   |     \\|\n",
            "                   |      |\n",
            "                   |     \n",
            "                   -\n",
            "                \n",
            "Слово из 6 букв ******\n",
            "Введите букву или слово с\n",
            "ПОДУМАЙ ЕЩЕ И НАЧНИ С ДРУГОЙ БУКВЫ\n",
            "\n",
            "                Осталось 2 попытки\n",
            "                   --------\n",
            "                   |      |\n",
            "                   |      O\n",
            "                   |     \\|/\n",
            "                   |      |\n",
            "                   |      \n",
            "                   -\n",
            "                \n",
            "Слово из 6 букв ******\n",
            "Введите букву или слово м\n",
            "ПОДУМАЙ ЕЩЕ И НАЧНИ С ДРУГОЙ БУКВЫ\n",
            "\n",
            "                Осталась 1 попытка\n",
            "                   --------\n",
            "                   |      |\n",
            "                   |      O\n",
            "                   |     \\|/\n",
            "                   |      |\n",
            "                   |     / \n",
            "                   -\n",
            "                \n",
            "Слово из 6 букв ******\n",
            "Введите букву или слово л\n",
            "НЕТ. БЫЛО УЖЕ. ЕЩЕ ВАРИАНТЫ\n",
            "Введите букву или слово о\n",
            "НЕ УГАДАЛ\n",
            "\n",
            "                Повесили чувака\n",
            "                   --------\n",
            "                   |      |\n",
            "                   |      O\n",
            "                   |     \\|/\n",
            "                   |      |\n",
            "                   |     /                    -\n",
            "                \n",
            "Слово из 6 букв ******\n",
            "GAME OVER\n"
          ],
          "name": "stdout"
        }
      ]
    },
    {
      "cell_type": "code",
      "metadata": {
        "id": "FTLLMASfFnoO"
      },
      "source": [
        ""
      ],
      "execution_count": null,
      "outputs": []
    }
  ]
}